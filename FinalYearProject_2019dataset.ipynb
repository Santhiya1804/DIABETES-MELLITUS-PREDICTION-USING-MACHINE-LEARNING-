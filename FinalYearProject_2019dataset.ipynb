{
  "cells": [
    {
      "cell_type": "markdown",
      "metadata": {
        "id": "mX5J2MrXnM7N"
      },
      "source": [
        "### **Dataset 2019**"
      ]
    },
    {
      "cell_type": "code",
      "execution_count": null,
      "metadata": {
        "id": "MRvubVlGWaoI"
      },
      "outputs": [],
      "source": [
        "import numpy as np\n",
        "import pandas as pd\n",
        "import matplotlib.pyplot as plt\n",
        "import seaborn as sns"
      ]
    },
    {
      "cell_type": "code",
      "execution_count": null,
      "metadata": {
        "colab": {
          "base_uri": "https://localhost:8080/"
        },
        "id": "0tFLcLn7VqDy",
        "outputId": "b8b5d74b-fc3c-44d7-f095-abf4e55df58e"
      },
      "outputs": [
        {
          "name": "stdout",
          "output_type": "stream",
          "text": [
            "Mounted at /content/drive\n"
          ]
        }
      ],
      "source": [
        "from google.colab import drive\n",
        "drive.mount('/content/drive')"
      ]
    },
    {
      "cell_type": "code",
      "execution_count": null,
      "metadata": {
        "id": "o8lf9LEIV2fI"
      },
      "outputs": [],
      "source": [
        "df = pd.read_csv('/content/drive/MyDrive/dataset/diabetes_dataset__2019.csv')"
      ]
    },
    {
      "cell_type": "code",
      "execution_count": null,
      "metadata": {
        "id": "RLZWmaK0V3Mb"
      },
      "outputs": [],
      "source": [
        "df.head()"
      ]
    },
    {
      "cell_type": "code",
      "execution_count": null,
      "metadata": {
        "id": "vn0uGiGKWjxj"
      },
      "outputs": [],
      "source": [
        "df.info()"
      ]
    },
    {
      "cell_type": "markdown",
      "metadata": {
        "id": "m-JBlI87dA5j"
      },
      "source": [
        "### **Preprocessing**"
      ]
    },
    {
      "cell_type": "markdown",
      "metadata": {
        "id": "aOS3_AxUddIP"
      },
      "source": [
        "### Null **Values**"
      ]
    },
    {
      "cell_type": "code",
      "execution_count": null,
      "metadata": {
        "colab": {
          "base_uri": "https://localhost:8080/"
        },
        "id": "t8YvTPrcoj4n",
        "outputId": "ba8d88a5-b023-4cb1-8d03-c31805bdc4e9"
      },
      "outputs": [
        {
          "data": {
            "text/plain": [
              "Age                  0\n",
              "Gender               0\n",
              "Family_Diabetes      0\n",
              "highBP               0\n",
              "PhysicallyActive     0\n",
              "BMI                  4\n",
              "Smoking              0\n",
              "Alcohol              0\n",
              "Sleep                0\n",
              "SoundSleep           0\n",
              "RegularMedicine      0\n",
              "JunkFood             0\n",
              "Stress               0\n",
              "BPLevel              0\n",
              "Pregancies          42\n",
              "Pdiabetes            1\n",
              "UriationFreq         0\n",
              "Diabetic             1\n",
              "dtype: int64"
            ]
          },
          "execution_count": 4,
          "metadata": {},
          "output_type": "execute_result"
        }
      ],
      "source": [
        "df.isnull().sum()"
      ]
    },
    {
      "cell_type": "markdown",
      "metadata": {
        "id": "ppTYNQLFdpY6"
      },
      "source": [
        "### Missing value **Imputaion** **"
      ]
    },
    {
      "cell_type": "code",
      "execution_count": null,
      "metadata": {
        "id": "2m4lIH0yh13O"
      },
      "outputs": [],
      "source": [
        "df.dropna(subset=['Diabetic'], inplace=True)"
      ]
    },
    {
      "cell_type": "code",
      "execution_count": null,
      "metadata": {
        "id": "xEfluuygh16w"
      },
      "outputs": [],
      "source": [
        "df.dropna(subset=['Pdiabetes'], inplace=True)"
      ]
    },
    {
      "cell_type": "code",
      "execution_count": null,
      "metadata": {
        "id": "OvPWKf0sh9v8"
      },
      "outputs": [],
      "source": [
        "df['BMI'].fillna(df['BMI'].mean(), inplace = True )\n"
      ]
    },
    {
      "cell_type": "code",
      "execution_count": null,
      "metadata": {
        "id": "TdR1QYdFiEDe"
      },
      "outputs": [],
      "source": [
        "\n",
        "df['Pregancies'].fillna(df['Pregancies'].median(), inplace = True )"
      ]
    },
    {
      "cell_type": "code",
      "execution_count": null,
      "metadata": {
        "id": "E5tDbM2u81bC"
      },
      "outputs": [],
      "source": [
        "row_to_drop = 17  # index of the row to drop\n",
        "\n",
        "# Drop the specified row from the DataFrame\n",
        "df = df.drop(row_to_drop)"
      ]
    },
    {
      "cell_type": "code",
      "execution_count": null,
      "metadata": {
        "colab": {
          "base_uri": "https://localhost:8080/"
        },
        "id": "3dDF7XOpD41n",
        "outputId": "266bb972-24f8-4419-8fac-bb02650a7c16"
      },
      "outputs": [
        {
          "name": "stderr",
          "output_type": "stream",
          "text": [
            "<ipython-input-10-848fae56f2e6>:1: FutureWarning: Dropping of nuisance columns in DataFrame reductions (with 'numeric_only=None') is deprecated; in a future version this will raise TypeError.  Select only valid columns before calling the reduction.\n",
            "  df_imputed = df.fillna(df.mean())\n"
          ]
        }
      ],
      "source": [
        "df_imputed = df.fillna(df.mean())\n",
        "\n",
        "\n"
      ]
    },
    {
      "cell_type": "markdown",
      "metadata": {
        "id": "iy95soGveDbz"
      },
      "source": [
        "### **Label Encoding**"
      ]
    },
    {
      "cell_type": "code",
      "execution_count": null,
      "metadata": {
        "id": "tH5DHiDSWoig"
      },
      "outputs": [],
      "source": [
        "from sklearn.preprocessing import LabelEncoder\n",
        "labelencoder = LabelEncoder()"
      ]
    },
    {
      "cell_type": "code",
      "execution_count": null,
      "metadata": {
        "id": "rsBGcj_HguGg"
      },
      "outputs": [],
      "source": [
        "\n",
        "df.iloc[:, -1] = labelencoder.fit_transform(df.iloc[:, -1])\n",
        "df.iloc[:, -2] = labelencoder.fit_transform(df.iloc[:, -2])\n",
        "df.iloc[:, -3] = labelencoder.fit_transform(df.iloc[:, -3])\n",
        "df.iloc[:, -5] = labelencoder.fit_transform(df.iloc[:, -5])\n",
        "df.iloc[:, -6] = labelencoder.fit_transform(df.iloc[:, -6])\n",
        "df.iloc[:, -7] = labelencoder.fit_transform(df.iloc[:, -7])\n",
        "df.iloc[:, -8] = labelencoder.fit_transform(df.iloc[:, -8])\n",
        "df.iloc[:, -11] = labelencoder.fit_transform(df.iloc[:, -11])\n",
        "df.iloc[:, -12] = labelencoder.fit_transform(df.iloc[:, -12])\n",
        "df.iloc[:, -14] = labelencoder.fit_transform(df.iloc[:, -14])\n",
        "df.iloc[:, -15] = labelencoder.fit_transform(df.iloc[:, -16])\n",
        "df.iloc[:, -17] = labelencoder.fit_transform(df.iloc[:, -17])\n",
        "df.iloc[:, -18] = labelencoder.fit_transform(df.iloc[:, -18])\n",
        "df.iloc[:, -16] = labelencoder.fit_transform(df.iloc[:, -16])"
      ]
    },
    {
      "cell_type": "markdown",
      "metadata": {
        "id": "cF9jYl59eJ7E"
      },
      "source": [
        "### **Outlier Removal**"
      ]
    },
    {
      "cell_type": "code",
      "execution_count": null,
      "metadata": {
        "colab": {
          "base_uri": "https://localhost:8080/",
          "height": 875
        },
        "id": "K6rav7biikjZ",
        "outputId": "36f02be0-af8f-460b-9584-09e1530d4b32"
      },
      "outputs": [
        {
          "data": {
            "image/png": "[encoded data removed]",
            "text/plain": [
              "<Figure size 720x432 with 1 Axes>"
            ]
          },
          "metadata": {
            "needs_background": "light"
          },
          "output_type": "display_data"
        },
        {
          "data": {
            "image/png": "[encoded data removed]",
            "text/plain": [
              "<Figure size 720x432 with 1 Axes>"
            ]
          },
          "metadata": {
            "needs_background": "light"
          },
          "output_type": "display_data"
        }
      ],
      "source": [
        "plt.figure(figsize=(10,6))\n",
        "df.boxplot()\n",
        "plt.title('Boxplots before Outlier Removal')\n",
        "plt.xticks(rotation=45)\n",
        "plt.show()\n",
        "\n",
        "# Remove outliers using IQR method\n",
        "Q1 = df.quantile(0.25)\n",
        "Q3 = df.quantile(0.75)\n",
        "IQR = Q3 - Q1\n",
        "df_out = df[~((df < (Q1 - 1.5 * IQR)) | (df > (Q3 + 1.5 * IQR))).any(axis=1)]\n",
        "\n",
        "# Plot boxplots after outlier removal\n",
        "plt.figure(figsize=(10,6))\n",
        "df_out.boxplot()\n",
        "plt.title('Boxplots after Outlier Removal')\n",
        "plt.xticks(rotation=45)\n",
        "plt.show()"
      ]
    },
    {
      "cell_type": "markdown",
      "metadata": {
        "id": "BddwBllTeWRx"
      },
      "source": [
        "### Feature Selection"
      ]
    },
    {
      "cell_type": "code",
      "execution_count": null,
      "metadata": {
        "colab": {
          "base_uri": "https://localhost:8080/"
        },
        "id": "f9KSUslPixQS",
        "outputId": "eebe26b5-3641-48c4-ff96-6755e1ca61ba"
      },
      "outputs": [
        {
          "name": "stdout",
          "output_type": "stream",
          "text": [
            "Looking in indexes: https://pypi.org/simple, https://us-python.pkg.dev/colab-wheels/public/simple/\n",
            "Collecting shap\n",
            "  Downloading shap-0.41.0-cp39-cp39-manylinux_2_12_x86_64.manylinux2010_x86_64.whl (572 kB)\n",
            "\u001b[2K     \u001b[90m━━━━━━━━━━━━━━━━━━━━━━━━━━━━━━━━━━━━━━\u001b[0m \u001b[32m572.4/572.4 KB\u001b[0m \u001b[31m10.8 MB/s\u001b[0m eta \u001b[36m0:00:00\u001b[0m\n",
            "\u001b[?25hRequirement already satisfied: numba in /usr/local/lib/python3.9/dist-packages (from shap) (0.56.4)\n",
            "Requirement already satisfied: packaging>20.9 in /usr/local/lib/python3.9/dist-packages (from shap) (23.0)\n",
            "Requirement already satisfied: pandas in /usr/local/lib/python3.9/dist-packages (from shap) (1.4.4)\n",
            "Requirement already satisfied: tqdm>4.25.0 in /usr/local/lib/python3.9/dist-packages (from shap) (4.65.0)\n",
            "Collecting slicer==0.0.7\n",
            "  Downloading slicer-0.0.7-py3-none-any.whl (14 kB)\n",
            "Requirement already satisfied: scipy in /usr/local/lib/python3.9/dist-packages (from shap) (1.10.1)\n",
            "Requirement already satisfied: cloudpickle in /usr/local/lib/python3.9/dist-packages (from shap) (2.2.1)\n",
            "Requirement already satisfied: scikit-learn in /usr/local/lib/python3.9/dist-packages (from shap) (1.2.2)\n",
            "Requirement already satisfied: numpy in /usr/local/lib/python3.9/dist-packages (from shap) (1.22.4)\n",
            "Requirement already satisfied: llvmlite<0.40,>=0.39.0dev0 in /usr/local/lib/python3.9/dist-packages (from numba->shap) (0.39.1)\n",
            "Requirement already satisfied: setuptools in /usr/local/lib/python3.9/dist-packages (from numba->shap) (63.4.3)\n",
            "Requirement already satisfied: pytz>=2020.1 in /usr/local/lib/python3.9/dist-packages (from pandas->shap) (2022.7.1)\n",
            "Requirement already satisfied: python-dateutil>=2.8.1 in /usr/local/lib/python3.9/dist-packages (from pandas->shap) (2.8.2)\n",
            "Requirement already satisfied: joblib>=1.1.1 in /usr/local/lib/python3.9/dist-packages (from scikit-learn->shap) (1.1.1)\n",
            "Requirement already satisfied: threadpoolctl>=2.0.0 in /usr/local/lib/python3.9/dist-packages (from scikit-learn->shap) (3.1.0)\n",
            "Requirement already satisfied: six>=1.5 in /usr/local/lib/python3.9/dist-packages (from python-dateutil>=2.8.1->pandas->shap) (1.16.0)\n",
            "Installing collected packages: slicer, shap\n",
            "Successfully installed shap-0.41.0 slicer-0.0.7\n"
          ]
        }
      ],
      "source": [
        "pip install shap"
      ]
    },
    {
      "cell_type": "code",
      "execution_count": null,
      "metadata": {
        "colab": {
          "base_uri": "https://localhost:8080/"
        },
        "id": "6x1J5hUMP-ot",
        "outputId": "9b42aed4-cd70-48cd-ef9b-c36a0c062439"
      },
      "outputs": [
        {
          "name": "stdout",
          "output_type": "stream",
          "text": [
            "Looking in indexes: https://pypi.org/simple, https://us-python.pkg.dev/colab-wheels/public/simple/\n",
            "Collecting optuna\n",
            "  Downloading optuna-3.1.0-py3-none-any.whl (365 kB)\n",
            "\u001b[2K     \u001b[90m━━━━━━━━━━━━━━━━━━━━━━━━━━━━━━━━━━━━━━━\u001b[0m \u001b[32m365.3/365.3 KB\u001b[0m \u001b[31m7.3 MB/s\u001b[0m eta \u001b[36m0:00:00\u001b[0m\n",
            "\u001b[?25hCollecting cmaes>=0.9.1\n",
            "  Downloading cmaes-0.9.1-py3-none-any.whl (21 kB)\n",
            "Requirement already satisfied: tqdm in /usr/local/lib/python3.9/dist-packages (from optuna) (4.65.0)\n",
            "Collecting alembic>=1.5.0\n",
            "  Downloading alembic-1.10.2-py3-none-any.whl (212 kB)\n",
            "\u001b[2K     \u001b[90m━━━━━━━━━━━━━━━━━━━━━━━━━━━━━━━━━━━━━━\u001b[0m \u001b[32m212.2/212.2 KB\u001b[0m \u001b[31m14.1 MB/s\u001b[0m eta \u001b[36m0:00:00\u001b[0m\n",
            "\u001b[?25hCollecting colorlog\n",
            "  Downloading colorlog-6.7.0-py2.py3-none-any.whl (11 kB)\n",
            "Requirement already satisfied: sqlalchemy>=1.3.0 in /usr/local/lib/python3.9/dist-packages (from optuna) (1.4.46)\n",
            "Requirement already satisfied: packaging>=20.0 in /usr/local/lib/python3.9/dist-packages (from optuna) (23.0)\n",
            "Requirement already satisfied: numpy in /usr/local/lib/python3.9/dist-packages (from optuna) (1.22.4)\n",
            "Requirement already satisfied: PyYAML in /usr/local/lib/python3.9/dist-packages (from optuna) (6.0)\n",
            "Collecting Mako\n",
            "  Downloading Mako-1.2.4-py3-none-any.whl (78 kB)\n",
            "\u001b[2K     \u001b[90m━━━━━━━━━━━━━━━━━━━━━━━━━━━━━━━━━━━━━━━━\u001b[0m \u001b[32m78.7/78.7 KB\u001b[0m \u001b[31m5.9 MB/s\u001b[0m eta \u001b[36m0:00:00\u001b[0m\n",
            "\u001b[?25hRequirement already satisfied: typing-extensions>=4 in /usr/local/lib/python3.9/dist-packages (from alembic>=1.5.0->optuna) (4.5.0)\n",
            "Requirement already satisfied: greenlet!=0.4.17 in /usr/local/lib/python3.9/dist-packages (from sqlalchemy>=1.3.0->optuna) (2.0.2)\n",
            "Requirement already satisfied: MarkupSafe>=0.9.2 in /usr/local/lib/python3.9/dist-packages (from Mako->alembic>=1.5.0->optuna) (2.1.2)\n",
            "Installing collected packages: Mako, colorlog, cmaes, alembic, optuna\n",
            "Successfully installed Mako-1.2.4 alembic-1.10.2 cmaes-0.9.1 colorlog-6.7.0 optuna-3.1.0\n"
          ]
        }
      ],
      "source": [
        "pip install optuna"
      ]
    },
    {
      "cell_type": "code",
      "execution_count": null,
      "metadata": {
        "id": "QAXHoKB2iu8K"
      },
      "outputs": [],
      "source": [
        "import pandas as pd\n",
        "import numpy as np\n",
        "from sklearn.model_selection import train_test_split\n",
        "from sklearn.ensemble import RandomForestClassifier\n",
        "from sklearn.metrics import accuracy_score\n",
        "from sklearn.impute import SimpleImputer\n",
        "from sklearn.preprocessing import StandardScaler\n",
        "import shap"
      ]
    },
    {
      "cell_type": "code",
      "execution_count": null,
      "metadata": {
        "id": "if7wBEvFkTI-"
      },
      "outputs": [],
      "source": [
        "X = df.iloc[:, :-1].values\n",
        "y = df.iloc[:, -1].values\n",
        "X_train, X_test, y_train, y_test = train_test_split(X, y, test_size=0.2, random_state=42)\n"
      ]
    },
    {
      "cell_type": "markdown",
      "metadata": {
        "id": "rfza5cQ3epWz"
      },
      "source": [
        "### **Train Shape**"
      ]
    },
    {
      "cell_type": "code",
      "execution_count": null,
      "metadata": {
        "colab": {
          "base_uri": "https://localhost:8080/"
        },
        "id": "_kyZVzDJrqUi",
        "outputId": "e393612e-11ed-40e1-90b2-975f0dc5e655"
      },
      "outputs": [
        {
          "data": {
            "text/plain": [
              "(759, 17)"
            ]
          },
          "execution_count": 42,
          "metadata": {},
          "output_type": "execute_result"
        }
      ],
      "source": [
        "X_train.shape"
      ]
    },
    {
      "cell_type": "markdown",
      "metadata": {
        "id": "9n8q01gSetky"
      },
      "source": [
        "### **Test Shape**"
      ]
    },
    {
      "cell_type": "code",
      "execution_count": null,
      "metadata": {
        "colab": {
          "base_uri": "https://localhost:8080/"
        },
        "id": "wCJdvSthewxL",
        "outputId": "f1c534da-fef6-4718-8ef1-e719409f3597"
      },
      "outputs": [
        {
          "data": {
            "text/plain": [
              "(190, 17)"
            ]
          },
          "execution_count": 19,
          "metadata": {},
          "output_type": "execute_result"
        }
      ],
      "source": [
        "X_test.shape"
      ]
    },
    {
      "cell_type": "code",
      "execution_count": null,
      "metadata": {
        "colab": {
          "base_uri": "https://localhost:8080/",
          "height": 607
        },
        "id": "pbq-8xDQigqu",
        "outputId": "eff2e0c6-5afd-4d53-c24e-1e0a85a25fd1"
      },
      "outputs": [
        {
          "data": {
            "image/png": "[encoded data removed]",
            "text/plain": [
              "<Figure size 576x597.6 with 1 Axes>"
            ]
          },
          "metadata": {
            "needs_background": "light"
          },
          "output_type": "display_data"
        }
      ],
      "source": [
        "rf = RandomForestClassifier(n_estimators=100, random_state=42)\n",
        "rf.fit(X_train, y_train)\n",
        "\n",
        "# Explain the model predictions using SHAP values\n",
        "explainer = shap.TreeExplainer(rf)\n",
        "shap_values = explainer.shap_values(X_train)\n",
        "\n",
        "# Plot the feature importance\n",
        "shap.summary_plot(shap_values, X_train, plot_type=\"bar\")\n",
        "\n",
        "# Print the feature names with their corresponding SHAP values\n",
        "shap_df = pd.DataFrame(shap_values, columns=X_train.columns)\n",
        "shap_values_2d = np.squeeze(shap_values)\n",
        "#shap_df = pd.DataFrame(shap_values_2d, columns=X_train_df.columns)\n",
        "#shap_df = pd.DataFrame(shap_values, columns=X_train.columns)\n",
        "\n",
        "shap_df = shap_df.abs().mean().sort_values(ascending=False).reset_index()\n",
        "shap_df.columns = ['Feature', 'SHAP Value']\n",
        "print(shap_df)\n",
        "print(shap_values.shape)"
      ]
    },
    {
      "cell_type": "code",
      "execution_count": null,
      "metadata": {
        "id": "xV9qkkakjQ9l"
      },
      "outputs": [],
      "source": [
        "df = df.drop(['Smoking', 'Alcohol','Pdiabetes','UriationFreq'], axis=1)"
      ]
    },
    {
      "cell_type": "markdown",
      "metadata": {
        "id": "6CYfr8rtfbGL"
      },
      "source": [
        "### **Features Selected**"
      ]
    },
    {
      "cell_type": "code",
      "execution_count": null,
      "metadata": {
        "colab": {
          "base_uri": "https://localhost:8080/"
        },
        "id": "DELeUTIRr3B3",
        "outputId": "c9528a0f-52bf-4e13-ac4a-e900cf392cec"
      },
      "outputs": [
        {
          "data": {
            "text/plain": [
              "Index(['Age', 'Gender', 'Family_Diabetes', 'highBP', 'PhysicallyActive', 'BMI',\n",
              "       'Sleep', 'SoundSleep', 'RegularMedicine', 'JunkFood', 'Stress',\n",
              "       'BPLevel', 'Pregancies', 'Diabetic'],\n",
              "      dtype='object')"
            ]
          },
          "execution_count": 28,
          "metadata": {},
          "output_type": "execute_result"
        }
      ],
      "source": [
        "df.columns"
      ]
    },
    {
      "cell_type": "code",
      "execution_count": null,
      "metadata": {
        "id": "AwpEUMEalf2N"
      },
      "outputs": [],
      "source": [
        "import pandas as pd\n",
        "import numpy as np\n",
        "from sklearn.ensemble import RandomForestClassifier, AdaBoostClassifier, GradientBoostingClassifier\n",
        "from sklearn.linear_model import LogisticRegression\n",
        "from sklearn.ensemble import StackingClassifier\n",
        "from sklearn.model_selection import train_test_split\n",
        "from sklearn.metrics import accuracy_score\n",
        "from sklearn.naive_bayes import GaussianNB\n",
        "from sklearn.model_selection import GridSearchCV\n",
        "from sklearn.impute import SimpleImputer\n",
        "from sklearn.preprocessing import StandardScaler\n",
        "from sklearn.neighbors import KNeighborsClassifier\n",
        "from hyperopt import tpe, hp, fmin, STATUS_OK,Trials\n",
        "from hyperopt.pyll.base import scope\n",
        "from sklearn.model_selection import cross_val_score\n",
        "from hyperopt import tpe, space_eval\n",
        "from hyperopt.pyll.stochastic import sample\n",
        "from sklearn.model_selection import StratifiedKFold\n",
        "from sklearn.model_selection import KFold\n",
        "from sklearn.tree import DecisionTreeClassifier\n",
        "from sklearn.svm import SVC\n",
        "from sklearn.ensemble import StackingClassifier\n",
        "import optuna"
      ]
    },
    {
      "cell_type": "markdown",
      "metadata": {
        "id": "LsruHyfhfie8"
      },
      "source": [
        "### **K-fold**"
      ]
    },
    {
      "cell_type": "code",
      "execution_count": null,
      "metadata": {
        "id": "IEmPM0RMQrum"
      },
      "outputs": [],
      "source": [
        "# assume X is your feature data and y is your target data\n",
        "kf = StratifiedKFold(n_splits=5, shuffle=True, random_state=42)\n",
        "\n",
        "for train_index, test_index in kf.split(X, y):\n",
        "    X_train, X_test = X[train_index], X[test_index]\n",
        "    y_train, y_test = y[train_index], y[test_index]"
      ]
    },
    {
      "cell_type": "code",
      "execution_count": null,
      "metadata": {
        "colab": {
          "base_uri": "https://localhost:8080/"
        },
        "id": "xERCiPioRaVZ",
        "outputId": "3e93fb11-5569-48f7-9c47-e6a9910e1075"
      },
      "outputs": [
        {
          "data": {
            "text/plain": [
              "(759, 17)"
            ]
          },
          "execution_count": 41,
          "metadata": {},
          "output_type": "execute_result"
        }
      ],
      "source": [
        "X_train.shape"
      ]
    },
    {
      "cell_type": "markdown",
      "metadata": {
        "id": "vdO2Zc54g-q_"
      },
      "source": [
        "### **Random Forest Hyperparameter tuning**"
      ]
    },
    {
      "cell_type": "code",
      "execution_count": null,
      "metadata": {
        "colab": {
          "base_uri": "https://localhost:8080/"
        },
        "id": "_z51OJu9hN9U",
        "outputId": "703ce09b-654a-4955-f34e-ed04a231ed15"
      },
      "outputs": [
        {
          "name": "stdout",
          "output_type": "stream",
          "text": [
            "Looking in indexes: https://pypi.org/simple, https://us-python.pkg.dev/colab-wheels/public/simple/\n",
            "Collecting scikit-optimize\n",
            "  Downloading scikit_optimize-0.9.0-py2.py3-none-any.whl (100 kB)\n",
            "\u001b[2K     \u001b[90m━━━━━━━━━━━━━━━━━━━━━━━━━━━━━━━━━━━━━━━\u001b[0m \u001b[32m100.3/100.3 KB\u001b[0m \u001b[31m3.5 MB/s\u001b[0m eta \u001b[36m0:00:00\u001b[0m\n",
            "\u001b[?25hCollecting pyaml>=16.9\n",
            "  Downloading pyaml-21.10.1-py2.py3-none-any.whl (24 kB)\n",
            "Requirement already satisfied: joblib>=0.11 in /usr/local/lib/python3.9/dist-packages (from scikit-optimize) (1.1.1)\n",
            "Requirement already satisfied: scikit-learn>=0.20.0 in /usr/local/lib/python3.9/dist-packages (from scikit-optimize) (1.2.2)\n",
            "Requirement already satisfied: scipy>=0.19.1 in /usr/local/lib/python3.9/dist-packages (from scikit-optimize) (1.10.1)\n",
            "Requirement already satisfied: numpy>=1.13.3 in /usr/local/lib/python3.9/dist-packages (from scikit-optimize) (1.22.4)\n",
            "Requirement already satisfied: PyYAML in /usr/local/lib/python3.9/dist-packages (from pyaml>=16.9->scikit-optimize) (6.0)\n",
            "Requirement already satisfied: threadpoolctl>=2.0.0 in /usr/local/lib/python3.9/dist-packages (from scikit-learn>=0.20.0->scikit-optimize) (3.1.0)\n",
            "Installing collected packages: pyaml, scikit-optimize\n",
            "Successfully installed pyaml-21.10.1 scikit-optimize-0.9.0\n"
          ]
        }
      ],
      "source": [
        "pip install scikit-optimize"
      ]
    },
    {
      "cell_type": "code",
      "execution_count": null,
      "metadata": {
        "id": "S74vgZv2hEuP"
      },
      "outputs": [],
      "source": [
        "from sklearn.preprocessing import StandardScaler\n",
        "from sklearn.pipeline import make_pipeline\n",
        "from skopt import BayesSearchCV"
      ]
    },
    {
      "cell_type": "code",
      "execution_count": null,
      "metadata": {
        "colab": {
          "base_uri": "https://localhost:8080/"
        },
        "id": "VvRoz0kJfv46",
        "outputId": "77ad1eba-3f1b-42b1-d2af-9ca9c1bd456b"
      },
      "outputs": [
        {
          "name": "stderr",
          "output_type": "stream",
          "text": [
            "The objective has been evaluated at this point before.\n"
          ]
        },
        {
          "name": "stdout",
          "output_type": "stream",
          "text": [
            "Best params for Random Forest: OrderedDict([('max_depth', 50), ('max_features', 'sqrt'), ('min_samples_leaf', 1), ('min_samples_split', 2), ('n_estimators', 100)])\n"
          ]
        }
      ],
      "source": [
        "def objective_rfc(trial):\n",
        "    params = {\n",
        "        'n_estimators': trial.suggest_int('n_estimators', 100, 1000),\n",
        "        'max_depth': trial.suggest_int('max_depth', 2, 50),\n",
        "        'min_samples_split': trial.suggest_int('min_samples_split', 2, 10),\n",
        "        'min_samples_leaf': trial.suggest_int('min_samples_leaf', 1, 10),\n",
        "        'max_features': trial.suggest_categorical('max_features', ['sqrt', 'log2', None])\n",
        "    }\n",
        "    rfc = RandomForestClassifier(random_state=42, **params)\n",
        "    score = np.mean(cross_val_score(rfc, X_train, y_train, cv=5))\n",
        "    return score\n",
        "\n",
        "search_rfc = BayesSearchCV(\n",
        "    estimator=RandomForestClassifier(random_state=42),\n",
        "    search_spaces={\n",
        "        'n_estimators': (100, 1000),\n",
        "        'max_depth': (2, 50),\n",
        "        'min_samples_split': (2, 10),\n",
        "        'min_samples_leaf': (1, 10),\n",
        "        'max_features': ['sqrt', 'log2', None]\n",
        "    },\n",
        "    n_iter=50,\n",
        "    cv=3,\n",
        "    scoring='accuracy'\n",
        ")\n",
        "\n",
        "search_rfc.fit(X_train, y_train)\n",
        "y_pred = search_rfc.predict(X_test)\n",
        "\n",
        "#Calculate the accuracy\n",
        "accuracy = accuracy_score(y_test, y_pred)\n",
        "\n",
        "#print(\"Accuracy of the stacking model:\", accuracy)\n",
        "\n",
        "# Print the best parameters for Random Forest\n",
        "print(\"Best params for Random Forest:\", search_rfc.best_params_)"
      ]
    },
    {
      "cell_type": "markdown",
      "metadata": {
        "id": "M_-2sARyhcto"
      },
      "source": [
        "XG Boost Hyperparameter Tuning"
      ]
    },
    {
      "cell_type": "code",
      "execution_count": null,
      "metadata": {
        "colab": {
          "base_uri": "https://localhost:8080/"
        },
        "id": "B0mu62ziRh6f",
        "outputId": "91a97b48-11e6-4aa5-dc9c-b0d5d98f573f"
      },
      "outputs": [
        {
          "name": "stdout",
          "output_type": "stream",
          "text": [
            "Best params for Gradient Boosting: OrderedDict([('learning_rate', 0.6216062685315905), ('max_depth', 22), ('max_features', 'log2'), ('min_samples_leaf', 5), ('min_samples_split', 2), ('n_estimators', 1000)])\n"
          ]
        }
      ],
      "source": [
        "# Hyperparameter tuning for Gradient Boosting using Optuna\n",
        "def objective_gbc(trial):\n",
        "    params = {\n",
        "        'n_estimators': trial.suggest_int('n_estimators', 100, 1000),\n",
        "        'max_depth': trial.suggest_int('max_depth', 2, 50),\n",
        "        'learning_rate': trial.suggest_loguniform('learning_rate', 0.001, 1),\n",
        "        'min_samples_split': trial.suggest_int('min_samples_split', 2, 10),\n",
        "        'min_samples_leaf': trial.suggest_int('min_samples_leaf', 1, 10),\n",
        "        'max_features': trial.suggest_categorical('max_features', ['sqrt', 'log2', None])\n",
        "    }\n",
        "    gbc = GradientBoostingClassifier(random_state=42, **params)\n",
        "    score = np.mean(cross_val_score(gbc, X_train, y_train, cv=5))\n",
        "    return score\n",
        "\n",
        "search_gbc = BayesSearchCV(\n",
        "estimator=GradientBoostingClassifier(random_state=42),\n",
        "search_spaces={\n",
        "'n_estimators': (100, 1000),\n",
        "'max_depth': (2, 50),\n",
        "'learning_rate': (0.001, 1.0),\n",
        "'min_samples_split': (2, 10),\n",
        "'min_samples_leaf': (1, 10),\n",
        "'max_features': ['sqrt', 'log2', None]\n",
        "},\n",
        "n_iter=50,\n",
        "cv=3,\n",
        "scoring='accuracy'\n",
        ")\n",
        "search_gbc.fit(X_train, y_train)\n",
        "#y_pred = search_gbc.predict(X_test)\n",
        "\n",
        "#Calculate the accuracy\n",
        "#accuracy = accuracy_score(y_test, y_pred)\n",
        "\n",
        "#print(\"Accuracy of the stacking model:\", accuracy)\n",
        "#Print the best parameters for Gradient Boosting\n",
        "print(\"Best params for Gradient Boosting:\", search_gbc.best_params_)\n",
        "\n"
      ]
    },
    {
      "cell_type": "markdown",
      "metadata": {
        "id": "wvu6K0uNhtTo"
      },
      "source": [
        "### **SVM hyperparameter Tuning**"
      ]
    },
    {
      "cell_type": "code",
      "execution_count": null,
      "metadata": {
        "colab": {
          "base_uri": "https://localhost:8080/"
        },
        "id": "qmDC4LgeOLKc",
        "outputId": "62ebdb86-9267-492e-b7ac-dd58a96b7919"
      },
      "outputs": [
        {
          "name": "stdout",
          "output_type": "stream",
          "text": [
            "Best params for SVM: OrderedDict([('C', 1000000.0), ('degree', 8), ('gamma', 0.001034923024026283), ('kernel', 'rbf')])\n"
          ]
        }
      ],
      "source": [
        "#Hyperparameter tuning for SVM using Bayesian Optimization\n",
        "svm_params = {\n",
        "'C': (1e-6, 1e+6, 'log-uniform'),\n",
        "'gamma': (1e-6, 1e+1, 'log-uniform'),\n",
        "'degree': (1, 8),\n",
        "'kernel': ['rbf']\n",
        "}\n",
        "\n",
        "svm_bayes = BayesSearchCV(\n",
        "SVC(probability=True),\n",
        "svm_params,\n",
        "n_iter=50,\n",
        "cv=3\n",
        ")\n",
        "\n",
        "svm_bayes.fit(X_train, y_train)\n",
        "print(\"Best params for SVM:\", svm_bayes.best_params_)"
      ]
    },
    {
      "cell_type": "markdown",
      "metadata": {
        "id": "EwVWpO-5iYH1"
      },
      "source": [
        "# Base Classifiers and Meta Classifiers"
      ]
    },
    {
      "cell_type": "code",
      "execution_count": null,
      "metadata": {
        "id": "vtjb04e_iVgv"
      },
      "outputs": [],
      "source": [
        "#Create the base classifiers with their best hyperparameters\n",
        "gnb = GaussianNB()\n",
        "rfc = RandomForestClassifier(random_state=42, **search_rfc.best_params_)\n",
        "gbc = GradientBoostingClassifier(random_state=42, **search_gbc.best_params_)\n",
        "svm = SVC(**svm_bayes.best_params_, probability=True)"
      ]
    },
    {
      "cell_type": "markdown",
      "metadata": {
        "id": "mx8WOVFLi6Am"
      },
      "source": [
        "### **Classification**"
      ]
    },
    {
      "cell_type": "code",
      "execution_count": null,
      "metadata": {
        "colab": {
          "base_uri": "https://localhost:8080/"
        },
        "id": "csrKeIO4PvkV",
        "outputId": "6a60116c-3e52-44df-cf4a-d37383432560"
      },
      "outputs": [
        {
          "name": "stderr",
          "output_type": "stream",
          "text": [
            "\u001b[32m[I 2023-02-24 16:27:33,095]\u001b[0m A new study created in memory with name: no-name-155b2213-5293-40d5-8750-e5c25a494b50\u001b[0m\n",
            "\u001b[32m[I 2023-02-24 16:27:35,848]\u001b[0m Trial 0 finished with value: 0.9736842105263158 and parameters: {'rf_n_estimators': 162, 'gb_n_estimators': 142}. Best is trial 0 with value: 0.9736842105263158.\u001b[0m\n",
            "\u001b[32m[I 2023-02-24 16:27:38,001]\u001b[0m Trial 1 finished with value: 0.9736842105263158 and parameters: {'rf_n_estimators': 128, 'gb_n_estimators': 30}. Best is trial 0 with value: 0.9736842105263158.\u001b[0m\n",
            "\u001b[32m[I 2023-02-24 16:27:44,057]\u001b[0m Trial 2 finished with value: 0.9736842105263158 and parameters: {'rf_n_estimators': 156, 'gb_n_estimators': 81}. Best is trial 0 with value: 0.9736842105263158.\u001b[0m\n",
            "\u001b[32m[I 2023-02-24 16:27:50,510]\u001b[0m Trial 3 finished with value: 0.9736842105263158 and parameters: {'rf_n_estimators': 144, 'gb_n_estimators': 178}. Best is trial 0 with value: 0.9736842105263158.\u001b[0m\n",
            "\u001b[32m[I 2023-02-24 16:27:53,095]\u001b[0m Trial 4 finished with value: 0.9736842105263158 and parameters: {'rf_n_estimators': 62, 'gb_n_estimators': 61}. Best is trial 0 with value: 0.9736842105263158.\u001b[0m\n",
            "\u001b[32m[I 2023-02-24 16:27:57,121]\u001b[0m Trial 5 finished with value: 0.9736842105263158 and parameters: {'rf_n_estimators': 68, 'gb_n_estimators': 114}. Best is trial 0 with value: 0.9736842105263158.\u001b[0m\n",
            "\u001b[32m[I 2023-02-24 16:28:02,324]\u001b[0m Trial 6 finished with value: 0.9736842105263158 and parameters: {'rf_n_estimators': 29, 'gb_n_estimators': 153}. Best is trial 0 with value: 0.9736842105263158.\u001b[0m\n",
            "\u001b[32m[I 2023-02-24 16:28:05,808]\u001b[0m Trial 7 finished with value: 0.9736842105263158 and parameters: {'rf_n_estimators': 121, 'gb_n_estimators': 109}. Best is trial 0 with value: 0.9736842105263158.\u001b[0m\n",
            "\u001b[32m[I 2023-02-24 16:28:07,411]\u001b[0m Trial 8 finished with value: 0.9736842105263158 and parameters: {'rf_n_estimators': 16, 'gb_n_estimators': 67}. Best is trial 0 with value: 0.9736842105263158.\u001b[0m\n",
            "\u001b[32m[I 2023-02-24 16:28:09,645]\u001b[0m Trial 9 finished with value: 0.9736842105263158 and parameters: {'rf_n_estimators': 10, 'gb_n_estimators': 183}. Best is trial 0 with value: 0.9736842105263158.\u001b[0m\n",
            "\u001b[32m[I 2023-02-24 16:28:13,556]\u001b[0m Trial 10 finished with value: 0.9736842105263158 and parameters: {'rf_n_estimators': 196, 'gb_n_estimators': 141}. Best is trial 0 with value: 0.9736842105263158.\u001b[0m\n",
            "\u001b[32m[I 2023-02-24 16:28:16,478]\u001b[0m Trial 11 finished with value: 0.9789473684210527 and parameters: {'rf_n_estimators': 182, 'gb_n_estimators': 29}. Best is trial 11 with value: 0.9789473684210527.\u001b[0m\n",
            "\u001b[32m[I 2023-02-24 16:28:18,705]\u001b[0m Trial 12 finished with value: 0.9736842105263158 and parameters: {'rf_n_estimators': 190, 'gb_n_estimators': 32}. Best is trial 11 with value: 0.9789473684210527.\u001b[0m\n",
            "\u001b[32m[I 2023-02-24 16:28:20,597]\u001b[0m Trial 13 finished with value: 0.9789473684210527 and parameters: {'rf_n_estimators': 169, 'gb_n_estimators': 15}. Best is trial 11 with value: 0.9789473684210527.\u001b[0m\n",
            "\u001b[32m[I 2023-02-24 16:28:22,566]\u001b[0m Trial 14 finished with value: 0.9789473684210527 and parameters: {'rf_n_estimators': 177, 'gb_n_estimators': 12}. Best is trial 11 with value: 0.9789473684210527.\u001b[0m\n",
            "\u001b[32m[I 2023-02-24 16:28:23,753]\u001b[0m Trial 15 finished with value: 0.9736842105263158 and parameters: {'rf_n_estimators': 100, 'gb_n_estimators': 11}. Best is trial 11 with value: 0.9789473684210527.\u001b[0m\n",
            "\u001b[32m[I 2023-02-24 16:28:26,014]\u001b[0m Trial 16 finished with value: 0.9736842105263158 and parameters: {'rf_n_estimators': 173, 'gb_n_estimators': 44}. Best is trial 11 with value: 0.9789473684210527.\u001b[0m\n",
            "\u001b[32m[I 2023-02-24 16:28:28,536]\u001b[0m Trial 17 finished with value: 0.9736842105263158 and parameters: {'rf_n_estimators': 97, 'gb_n_estimators': 85}. Best is trial 11 with value: 0.9789473684210527.\u001b[0m\n",
            "\u001b[32m[I 2023-02-24 16:28:31,035]\u001b[0m Trial 18 finished with value: 0.9736842105263158 and parameters: {'rf_n_estimators': 140, 'gb_n_estimators': 49}. Best is trial 11 with value: 0.9789473684210527.\u001b[0m\n",
            "\u001b[32m[I 2023-02-24 16:28:33,351]\u001b[0m Trial 19 finished with value: 0.9736842105263158 and parameters: {'rf_n_estimators': 199, 'gb_n_estimators': 28}. Best is trial 11 with value: 0.9789473684210527.\u001b[0m\n",
            "\u001b[32m[I 2023-02-24 16:28:35,836]\u001b[0m Trial 20 finished with value: 0.9736842105263158 and parameters: {'rf_n_estimators': 176, 'gb_n_estimators': 91}. Best is trial 11 with value: 0.9789473684210527.\u001b[0m\n",
            "\u001b[32m[I 2023-02-24 16:28:37,853]\u001b[0m Trial 21 finished with value: 0.9789473684210527 and parameters: {'rf_n_estimators': 176, 'gb_n_estimators': 19}. Best is trial 11 with value: 0.9789473684210527.\u001b[0m\n",
            "\u001b[32m[I 2023-02-24 16:28:39,590]\u001b[0m Trial 22 finished with value: 0.9789473684210527 and parameters: {'rf_n_estimators': 155, 'gb_n_estimators': 11}. Best is trial 11 with value: 0.9789473684210527.\u001b[0m\n",
            "\u001b[32m[I 2023-02-24 16:28:42,690]\u001b[0m Trial 23 finished with value: 0.9736842105263158 and parameters: {'rf_n_estimators': 183, 'gb_n_estimators': 46}. Best is trial 11 with value: 0.9789473684210527.\u001b[0m\n",
            "\u001b[32m[I 2023-02-24 16:28:45,644]\u001b[0m Trial 24 finished with value: 0.9736842105263158 and parameters: {'rf_n_estimators': 165, 'gb_n_estimators': 61}. Best is trial 11 with value: 0.9789473684210527.\u001b[0m\n",
            "\u001b[32m[I 2023-02-24 16:28:47,200]\u001b[0m Trial 25 finished with value: 0.9736842105263158 and parameters: {'rf_n_estimators': 120, 'gb_n_estimators': 35}. Best is trial 11 with value: 0.9789473684210527.\u001b[0m\n",
            "\u001b[32m[I 2023-02-24 16:28:48,842]\u001b[0m Trial 26 finished with value: 0.9789473684210527 and parameters: {'rf_n_estimators': 145, 'gb_n_estimators': 11}. Best is trial 11 with value: 0.9789473684210527.\u001b[0m\n",
            "\u001b[32m[I 2023-02-24 16:28:49,979]\u001b[0m Trial 27 finished with value: 0.9736842105263158 and parameters: {'rf_n_estimators': 84, 'gb_n_estimators': 23}. Best is trial 11 with value: 0.9789473684210527.\u001b[0m\n",
            "\u001b[32m[I 2023-02-24 16:28:53,311]\u001b[0m Trial 28 finished with value: 0.9736842105263158 and parameters: {'rf_n_estimators': 184, 'gb_n_estimators': 68}. Best is trial 11 with value: 0.9789473684210527.\u001b[0m\n",
            "\u001b[32m[I 2023-02-24 16:29:01,002]\u001b[0m Trial 29 finished with value: 0.9736842105263158 and parameters: {'rf_n_estimators': 164, 'gb_n_estimators': 126}. Best is trial 11 with value: 0.9789473684210527.\u001b[0m\n",
            "\u001b[32m[I 2023-02-24 16:29:03,962]\u001b[0m Trial 30 finished with value: 0.9736842105263158 and parameters: {'rf_n_estimators': 132, 'gb_n_estimators': 47}. Best is trial 11 with value: 0.9789473684210527.\u001b[0m\n",
            "\u001b[32m[I 2023-02-24 16:29:07,968]\u001b[0m Trial 31 finished with value: 0.9789473684210527 and parameters: {'rf_n_estimators': 173, 'gb_n_estimators': 19}. Best is trial 11 with value: 0.9789473684210527.\u001b[0m\n",
            "\u001b[32m[I 2023-02-24 16:29:10,297]\u001b[0m Trial 32 finished with value: 0.9736842105263158 and parameters: {'rf_n_estimators': 184, 'gb_n_estimators': 38}. Best is trial 11 with value: 0.9789473684210527.\u001b[0m\n",
            "\u001b[32m[I 2023-02-24 16:29:13,135]\u001b[0m Trial 33 finished with value: 0.9789473684210527 and parameters: {'rf_n_estimators': 153, 'gb_n_estimators': 22}. Best is trial 11 with value: 0.9789473684210527.\u001b[0m\n",
            "\u001b[32m[I 2023-02-24 16:29:15,748]\u001b[0m Trial 34 finished with value: 0.9789473684210527 and parameters: {'rf_n_estimators': 169, 'gb_n_estimators': 24}. Best is trial 11 with value: 0.9789473684210527.\u001b[0m\n",
            "\u001b[32m[I 2023-02-24 16:29:18,251]\u001b[0m Trial 35 finished with value: 0.9736842105263158 and parameters: {'rf_n_estimators': 199, 'gb_n_estimators': 55}. Best is trial 11 with value: 0.9789473684210527.\u001b[0m\n",
            "\u001b[32m[I 2023-02-24 16:29:20,480]\u001b[0m Trial 36 finished with value: 0.9736842105263158 and parameters: {'rf_n_estimators': 160, 'gb_n_estimators': 74}. Best is trial 11 with value: 0.9789473684210527.\u001b[0m\n",
            "\u001b[32m[I 2023-02-24 16:29:22,197]\u001b[0m Trial 37 finished with value: 0.9736842105263158 and parameters: {'rf_n_estimators': 134, 'gb_n_estimators': 34}. Best is trial 11 with value: 0.9789473684210527.\u001b[0m\n",
            "\u001b[32m[I 2023-02-24 16:29:23,923]\u001b[0m Trial 38 finished with value: 0.9789473684210527 and parameters: {'rf_n_estimators': 149, 'gb_n_estimators': 18}. Best is trial 11 with value: 0.9789473684210527.\u001b[0m\n",
            "\u001b[32m[I 2023-02-24 16:29:27,441]\u001b[0m Trial 39 finished with value: 0.9736842105263158 and parameters: {'rf_n_estimators': 180, 'gb_n_estimators': 92}. Best is trial 11 with value: 0.9789473684210527.\u001b[0m\n",
            "\u001b[32m[I 2023-02-24 16:29:29,486]\u001b[0m Trial 40 finished with value: 0.9736842105263158 and parameters: {'rf_n_estimators': 114, 'gb_n_estimators': 10}. Best is trial 11 with value: 0.9789473684210527.\u001b[0m\n",
            "\u001b[32m[I 2023-02-24 16:29:31,371]\u001b[0m Trial 41 finished with value: 0.9789473684210527 and parameters: {'rf_n_estimators': 158, 'gb_n_estimators': 10}. Best is trial 11 with value: 0.9789473684210527.\u001b[0m\n",
            "\u001b[32m[I 2023-02-24 16:29:33,702]\u001b[0m Trial 42 finished with value: 0.9736842105263158 and parameters: {'rf_n_estimators': 191, 'gb_n_estimators': 39}. Best is trial 11 with value: 0.9789473684210527.\u001b[0m\n",
            "\u001b[32m[I 2023-02-24 16:29:34,544]\u001b[0m Trial 43 finished with value: 0.9736842105263158 and parameters: {'rf_n_estimators': 52, 'gb_n_estimators': 29}. Best is trial 11 with value: 0.9789473684210527.\u001b[0m\n",
            "\u001b[32m[I 2023-02-24 16:29:36,368]\u001b[0m Trial 44 finished with value: 0.9789473684210527 and parameters: {'rf_n_estimators': 153, 'gb_n_estimators': 19}. Best is trial 11 with value: 0.9789473684210527.\u001b[0m\n",
            "\u001b[32m[I 2023-02-24 16:29:45,588]\u001b[0m Trial 45 finished with value: 0.9736842105263158 and parameters: {'rf_n_estimators': 190, 'gb_n_estimators': 192}. Best is trial 11 with value: 0.9789473684210527.\u001b[0m\n",
            "\u001b[32m[I 2023-02-24 16:29:52,093]\u001b[0m Trial 46 finished with value: 0.9736842105263158 and parameters: {'rf_n_estimators': 170, 'gb_n_estimators': 162}. Best is trial 11 with value: 0.9789473684210527.\u001b[0m\n",
            "\u001b[32m[I 2023-02-24 16:29:54,010]\u001b[0m Trial 47 finished with value: 0.9736842105263158 and parameters: {'rf_n_estimators': 142, 'gb_n_estimators': 55}. Best is trial 11 with value: 0.9789473684210527.\u001b[0m\n",
            "\u001b[32m[I 2023-02-24 16:29:57,023]\u001b[0m Trial 48 finished with value: 0.9789473684210527 and parameters: {'rf_n_estimators': 177, 'gb_n_estimators': 29}. Best is trial 11 with value: 0.9789473684210527.\u001b[0m\n",
            "\u001b[32m[I 2023-02-24 16:29:59,982]\u001b[0m Trial 49 finished with value: 0.9789473684210527 and parameters: {'rf_n_estimators': 191, 'gb_n_estimators': 17}. Best is trial 11 with value: 0.9789473684210527.\u001b[0m\n"
          ]
        },
        {
          "name": "stdout",
          "output_type": "stream",
          "text": [
            "Best hyperparameters: {'rf_n_estimators': 182, 'gb_n_estimators': 29}\n",
            "Best accuracy: 0.9789473684210527\n"
          ]
        }
      ],
      "source": [
        "rf = RandomForestClassifier(random_state=42)\n",
        "gb = GradientBoostingClassifier(random_state=42)\n",
        "nb =  GaussianNB()\n",
        "lr=LogisticRegression()\n",
        "# Define the stacking ensemble classifier\n",
        "svm = SVC(random_state=42, probability=True)\n",
        "stacking_clf = StackingClassifier(\n",
        "    estimators=[('lr', rf), ('gbc', gb), ('rfc', nb)],\n",
        "    final_estimator=svm\n",
        ")    \n",
        "    # Fit the stacking ensemble classifier\n",
        "    stacking_clf.fit(X_train, y_train)\n",
        "    \n",
        "    # Compute accuracy on the test set\n",
        "    y_pred = stacking_clf.predict(X_test)\n",
        "    return accuracy_score(y_test, y_pred)\n",
        "\n",
        "# Perform hyperparameter optimization using Optuna\n",
        "study = optuna.create_study(direction='maximize')\n",
        "study.optimize(objective, n_trials=50)\n",
        "\n",
        "# Print the best hyperparameters and their corresponding accuracy score\n",
        "print('Best hyperparameters:', study.best_params)\n",
        "print('Best accuracy:', study.best_value)\n"
      ]
    },
    {
      "cell_type": "markdown",
      "metadata": {
        "id": "2Z1lOONtjXV_"
      },
      "source": [
        "### **Model Saving**"
      ]
    },
    {
      "cell_type": "code",
      "execution_count": null,
      "metadata": {
        "colab": {
          "base_uri": "https://localhost:8080/",
          "height": 161
        },
        "id": "3j6KfPmlOb8b",
        "outputId": "b348122f-c628-407f-d54b-7e95bd10a814"
      },
      "outputs": [
        {
          "data": {
            "text/html": [
              "<style>#sk-container-id-2 {color: black;background-color: white;}#sk-container-id-2 pre{padding: 0;}#sk-container-id-2 div.sk-toggleable {background-color: white;}#sk-container-id-2 label.sk-toggleable__label {cursor: pointer;display: block;width: 100%;margin-bottom: 0;padding: 0.3em;box-sizing: border-box;text-align: center;}#sk-container-id-2 label.sk-toggleable__label-arrow:before {content: \"▸\";float: left;margin-right: 0.25em;color: #696969;}#sk-container-id-2 label.sk-toggleable__label-arrow:hover:before {color: black;}#sk-container-id-2 div.sk-estimator:hover label.sk-toggleable__label-arrow:before {color: black;}#sk-container-id-2 div.sk-toggleable__content {max-height: 0;max-width: 0;overflow: hidden;text-align: left;background-color: #f0f8ff;}#sk-container-id-2 div.sk-toggleable__content pre {margin: 0.2em;color: black;border-radius: 0.25em;background-color: #f0f8ff;}#sk-container-id-2 input.sk-toggleable__control:checked~div.sk-toggleable__content {max-height: 200px;max-width: 100%;overflow: auto;}#sk-container-id-2 input.sk-toggleable__control:checked~label.sk-toggleable__label-arrow:before {content: \"▾\";}#sk-container-id-2 div.sk-estimator input.sk-toggleable__control:checked~label.sk-toggleable__label {background-color: #d4ebff;}#sk-container-id-2 div.sk-label input.sk-toggleable__control:checked~label.sk-toggleable__label {background-color: #d4ebff;}#sk-container-id-2 input.sk-hidden--visually {border: 0;clip: rect(1px 1px 1px 1px);clip: rect(1px, 1px, 1px, 1px);height: 1px;margin: -1px;overflow: hidden;padding: 0;position: absolute;width: 1px;}#sk-container-id-2 div.sk-estimator {font-family: monospace;background-color: #f0f8ff;border: 1px dotted black;border-radius: 0.25em;box-sizing: border-box;margin-bottom: 0.5em;}#sk-container-id-2 div.sk-estimator:hover {background-color: #d4ebff;}#sk-container-id-2 div.sk-parallel-item::after {content: \"\";width: 100%;border-bottom: 1px solid gray;flex-grow: 1;}#sk-container-id-2 div.sk-label:hover label.sk-toggleable__label {background-color: #d4ebff;}#sk-container-id-2 div.sk-serial::before {content: \"\";position: absolute;border-left: 1px solid gray;box-sizing: border-box;top: 0;bottom: 0;left: 50%;z-index: 0;}#sk-container-id-2 div.sk-serial {display: flex;flex-direction: column;align-items: center;background-color: white;padding-right: 0.2em;padding-left: 0.2em;position: relative;}#sk-container-id-2 div.sk-item {position: relative;z-index: 1;}#sk-container-id-2 div.sk-parallel {display: flex;align-items: stretch;justify-content: center;background-color: white;position: relative;}#sk-container-id-2 div.sk-item::before, #sk-container-id-2 div.sk-parallel-item::before {content: \"\";position: absolute;border-left: 1px solid gray;box-sizing: border-box;top: 0;bottom: 0;left: 50%;z-index: -1;}#sk-container-id-2 div.sk-parallel-item {display: flex;flex-direction: column;z-index: 1;position: relative;background-color: white;}#sk-container-id-2 div.sk-parallel-item:first-child::after {align-self: flex-end;width: 50%;}#sk-container-id-2 div.sk-parallel-item:last-child::after {align-self: flex-start;width: 50%;}#sk-container-id-2 div.sk-parallel-item:only-child::after {width: 0;}#sk-container-id-2 div.sk-dashed-wrapped {border: 1px dashed gray;margin: 0 0.4em 0.5em 0.4em;box-sizing: border-box;padding-bottom: 0.4em;background-color: white;}#sk-container-id-2 div.sk-label label {font-family: monospace;font-weight: bold;display: inline-block;line-height: 1.2em;}#sk-container-id-2 div.sk-label-container {text-align: center;}#sk-container-id-2 div.sk-container {/* jupyter's `normalize.less` sets `[hidden] { display: none; }` but bootstrap.min.css set `[hidden] { display: none !important; }` so we also need the `!important` here to be able to override the default hidden behavior on the sphinx rendered scikit-learn.org. See: https://github.com/scikit-learn/scikit-learn/issues/21755 */display: inline-block !important;position: relative;}#sk-container-id-2 div.sk-text-repr-fallback {display: none;}</style><div id=\"sk-container-id-2\" class=\"sk-top-container\"><div class=\"sk-text-repr-fallback\"><pre>StackingClassifier(estimators=[(&#x27;rf&#x27;,\n",
              "                                RandomForestClassifier(n_estimators=189,\n",
              "                                                       random_state=42)),\n",
              "                               (&#x27;gb&#x27;,\n",
              "                                GradientBoostingClassifier(n_estimators=165,\n",
              "                                                           random_state=42)),\n",
              "                               (&#x27;nb&#x27;, GaussianNB())],\n",
              "                   final_estimator=SVC(probability=True, random_state=42))</pre><b>In a Jupyter environment, please rerun this cell to show the HTML representation or trust the notebook. <br />On GitHub, the HTML representation is unable to render, please try loading this page with nbviewer.org.</b></div><div class=\"sk-container\" hidden><div class=\"sk-item sk-dashed-wrapped\"><div class=\"sk-label-container\"><div class=\"sk-label sk-toggleable\"><input class=\"sk-toggleable__control sk-hidden--visually\" id=\"sk-estimator-id-6\" type=\"checkbox\" ><label for=\"sk-estimator-id-6\" class=\"sk-toggleable__label sk-toggleable__label-arrow\">StackingClassifier</label><div class=\"sk-toggleable__content\"><pre>StackingClassifier(estimators=[(&#x27;rf&#x27;,\n",
              "                                RandomForestClassifier(n_estimators=189,\n",
              "                                                       random_state=42)),\n",
              "                               (&#x27;gb&#x27;,\n",
              "                                GradientBoostingClassifier(n_estimators=165,\n",
              "                                                           random_state=42)),\n",
              "                               (&#x27;nb&#x27;, GaussianNB())],\n",
              "                   final_estimator=SVC(probability=True, random_state=42))</pre></div></div></div><div class=\"sk-serial\"><div class=\"sk-item\"><div class=\"sk-parallel\"><div class=\"sk-parallel-item\"><div class=\"sk-item\"><div class=\"sk-label-container\"><div class=\"sk-label sk-toggleable\"><label>rf</label></div></div><div class=\"sk-serial\"><div class=\"sk-item\"><div class=\"sk-estimator sk-toggleable\"><input class=\"sk-toggleable__control sk-hidden--visually\" id=\"sk-estimator-id-7\" type=\"checkbox\" ><label for=\"sk-estimator-id-7\" class=\"sk-toggleable__label sk-toggleable__label-arrow\">RandomForestClassifier</label><div class=\"sk-toggleable__content\"><pre>RandomForestClassifier(n_estimators=189, random_state=42)</pre></div></div></div></div></div></div><div class=\"sk-parallel-item\"><div class=\"sk-item\"><div class=\"sk-label-container\"><div class=\"sk-label sk-toggleable\"><label>gb</label></div></div><div class=\"sk-serial\"><div class=\"sk-item\"><div class=\"sk-estimator sk-toggleable\"><input class=\"sk-toggleable__control sk-hidden--visually\" id=\"sk-estimator-id-8\" type=\"checkbox\" ><label for=\"sk-estimator-id-8\" class=\"sk-toggleable__label sk-toggleable__label-arrow\">GradientBoostingClassifier</label><div class=\"sk-toggleable__content\"><pre>GradientBoostingClassifier(n_estimators=165, random_state=42)</pre></div></div></div></div></div></div><div class=\"sk-parallel-item\"><div class=\"sk-item\"><div class=\"sk-label-container\"><div class=\"sk-label sk-toggleable\"><label>nb</label></div></div><div class=\"sk-serial\"><div class=\"sk-item\"><div class=\"sk-estimator sk-toggleable\"><input class=\"sk-toggleable__control sk-hidden--visually\" id=\"sk-estimator-id-9\" type=\"checkbox\" ><label for=\"sk-estimator-id-9\" class=\"sk-toggleable__label sk-toggleable__label-arrow\">GaussianNB</label><div class=\"sk-toggleable__content\"><pre>GaussianNB()</pre></div></div></div></div></div></div></div></div><div class=\"sk-item\"><div class=\"sk-parallel\"><div class=\"sk-parallel-item\"><div class=\"sk-item\"><div class=\"sk-label-container\"><div class=\"sk-label sk-toggleable\"><label>final_estimator</label></div></div><div class=\"sk-serial\"><div class=\"sk-item\"><div class=\"sk-estimator sk-toggleable\"><input class=\"sk-toggleable__control sk-hidden--visually\" id=\"sk-estimator-id-10\" type=\"checkbox\" ><label for=\"sk-estimator-id-10\" class=\"sk-toggleable__label sk-toggleable__label-arrow\">SVC</label><div class=\"sk-toggleable__content\"><pre>SVC(probability=True, random_state=42)</pre></div></div></div></div></div></div></div></div></div></div></div></div>"
            ],
            "text/plain": [
              "StackingClassifier(estimators=[('rf',\n",
              "                                RandomForestClassifier(n_estimators=189,\n",
              "                                                       random_state=42)),\n",
              "                               ('gb',\n",
              "                                GradientBoostingClassifier(n_estimators=165,\n",
              "                                                           random_state=42)),\n",
              "                               ('nb', GaussianNB())],\n",
              "                   final_estimator=SVC(probability=True, random_state=42))"
            ]
          },
          "execution_count": 131,
          "metadata": {},
          "output_type": "execute_result"
        }
      ],
      "source": [
        "import pickle\n",
        "pickle.dump(stacking_clf,open('2019_973.pkl','wb'))\n",
        "model=pickle.load(open('2019_973.pkl','rb'))\n",
        "model"
      ]
    },
    {
      "cell_type": "markdown",
      "metadata": {
        "id": "wlsD-nvrjhxk"
      },
      "source": [
        "### **Severity Level Estimation**"
      ]
    },
    {
      "cell_type": "code",
      "execution_count": null,
      "metadata": {
        "id": "NjGHeO4ZjraW"
      },
      "outputs": [],
      "source": [
        "import pandas as pd\n",
        "import numpy as np\n",
        "from sklearn.cluster import AgglomerativeClustering\n",
        "from sklearn.metrics import silhouette_score\n",
        "from sklearn.preprocessing import StandardScaler\n",
        "# Load dataset\n",
        "diabetes = pd.read_csv('/content/drive/MyDrive/db_1.csv')"
      ]
    },
    {
      "cell_type": "code",
      "execution_count": null,
      "metadata": {
        "id": "seLPh97zkHQV"
      },
      "outputs": [],
      "source": []
    },
    {
      "cell_type": "markdown",
      "metadata": {
        "id": "1cBKgVyKkZdw"
      },
      "source": [
        "### Null **Values**"
      ]
    },
    {
      "cell_type": "code",
      "execution_count": null,
      "metadata": {
        "colab": {
          "base_uri": "https://localhost:8080/"
        },
        "id": "34kxevpbkZdy",
        "outputId": "ba8d88a5-b023-4cb1-8d03-c31805bdc4e9"
      },
      "outputs": [
        {
          "data": {
            "text/plain": [
              "Age                  0\n",
              "Gender               0\n",
              "Family_Diabetes      0\n",
              "highBP               0\n",
              "PhysicallyActive     0\n",
              "BMI                  4\n",
              "Smoking              0\n",
              "Alcohol              0\n",
              "Sleep                0\n",
              "SoundSleep           0\n",
              "RegularMedicine      0\n",
              "JunkFood             0\n",
              "Stress               0\n",
              "BPLevel              0\n",
              "Pregancies          42\n",
              "Pdiabetes            1\n",
              "UriationFreq         0\n",
              "Diabetic             1\n",
              "dtype: int64"
            ]
          },
          "execution_count": 4,
          "metadata": {},
          "output_type": "execute_result"
        }
      ],
      "source": [
        "df.isnull().sum()"
      ]
    },
    {
      "cell_type": "markdown",
      "metadata": {
        "id": "5tBOWT5pkZdz"
      },
      "source": [
        "### Missing value **Imputaion** **"
      ]
    },
    {
      "cell_type": "code",
      "execution_count": null,
      "metadata": {
        "id": "w9QchTP6kZd0"
      },
      "outputs": [],
      "source": [
        "df.dropna(subset=['Diabetic'], inplace=True)"
      ]
    },
    {
      "cell_type": "code",
      "execution_count": null,
      "metadata": {
        "id": "OFGunqQ1kZd0"
      },
      "outputs": [],
      "source": [
        "df.dropna(subset=['Pdiabetes'], inplace=True)"
      ]
    },
    {
      "cell_type": "code",
      "execution_count": null,
      "metadata": {
        "id": "d_A564eHkZd1"
      },
      "outputs": [],
      "source": [
        "df['BMI'].fillna(df['BMI'].mean(), inplace = True )\n"
      ]
    },
    {
      "cell_type": "code",
      "execution_count": null,
      "metadata": {
        "id": "Ex913s2gkZd2"
      },
      "outputs": [],
      "source": [
        "\n",
        "df['Pregancies'].fillna(df['Pregancies'].median(), inplace = True )"
      ]
    },
    {
      "cell_type": "code",
      "execution_count": null,
      "metadata": {
        "id": "xTu8WpiZkZd2"
      },
      "outputs": [],
      "source": [
        "row_to_drop = 17  # index of the row to drop\n",
        "\n",
        "# Drop the specified row from the DataFrame\n",
        "df = df.drop(row_to_drop)"
      ]
    },
    {
      "cell_type": "code",
      "execution_count": null,
      "metadata": {
        "colab": {
          "base_uri": "https://localhost:8080/"
        },
        "id": "xUa8YCs2kZd3",
        "outputId": "266bb972-24f8-4419-8fac-bb02650a7c16"
      },
      "outputs": [
        {
          "name": "stderr",
          "output_type": "stream",
          "text": [
            "<ipython-input-10-848fae56f2e6>:1: FutureWarning: Dropping of nuisance columns in DataFrame reductions (with 'numeric_only=None') is deprecated; in a future version this will raise TypeError.  Select only valid columns before calling the reduction.\n",
            "  df_imputed = df.fillna(df.mean())\n"
          ]
        }
      ],
      "source": [
        "df_imputed = df.fillna(df.mean())\n",
        "\n",
        "\n"
      ]
    },
    {
      "cell_type": "markdown",
      "metadata": {
        "id": "YsW1hmMakZd4"
      },
      "source": [
        "### **Label Encoding**"
      ]
    },
    {
      "cell_type": "code",
      "execution_count": null,
      "metadata": {
        "id": "keTd2DXpkZd4"
      },
      "outputs": [],
      "source": [
        "from sklearn.preprocessing import LabelEncoder\n",
        "labelencoder = LabelEncoder()"
      ]
    },
    {
      "cell_type": "code",
      "execution_count": null,
      "metadata": {
        "id": "R01U3HZEkZd5"
      },
      "outputs": [],
      "source": [
        "\n",
        "df.iloc[:, -1] = labelencoder.fit_transform(df.iloc[:, -1])\n",
        "df.iloc[:, -2] = labelencoder.fit_transform(df.iloc[:, -2])\n",
        "df.iloc[:, -3] = labelencoder.fit_transform(df.iloc[:, -3])\n",
        "df.iloc[:, -5] = labelencoder.fit_transform(df.iloc[:, -5])\n",
        "df.iloc[:, -6] = labelencoder.fit_transform(df.iloc[:, -6])\n",
        "df.iloc[:, -7] = labelencoder.fit_transform(df.iloc[:, -7])\n",
        "df.iloc[:, -8] = labelencoder.fit_transform(df.iloc[:, -8])\n",
        "df.iloc[:, -11] = labelencoder.fit_transform(df.iloc[:, -11])\n",
        "df.iloc[:, -12] = labelencoder.fit_transform(df.iloc[:, -12])\n",
        "df.iloc[:, -14] = labelencoder.fit_transform(df.iloc[:, -14])\n",
        "df.iloc[:, -15] = labelencoder.fit_transform(df.iloc[:, -16])\n",
        "df.iloc[:, -17] = labelencoder.fit_transform(df.iloc[:, -17])\n",
        "df.iloc[:, -18] = labelencoder.fit_transform(df.iloc[:, -18])\n",
        "df.iloc[:, -16] = labelencoder.fit_transform(df.iloc[:, -16])"
      ]
    },
    {
      "cell_type": "markdown",
      "metadata": {
        "id": "moQrCEe0kZd6"
      },
      "source": [
        "### **Outlier Removal**"
      ]
    },
    {
      "cell_type": "code",
      "execution_count": null,
      "metadata": {
        "colab": {
          "base_uri": "https://localhost:8080/",
          "height": 875
        },
        "id": "NEt4IwgKkZd7",
        "outputId": "36f02be0-af8f-460b-9584-09e1530d4b32"
      },
      "outputs": [
        {
          "data": {
            "image/png": "[encoded data removed]",
            "text/plain": [
              "<Figure size 720x432 with 1 Axes>"
            ]
          },
          "metadata": {
            "needs_background": "light"
          },
          "output_type": "display_data"
        },
        {
          "data": {
            "image/png": "[encoded data removed]",
            "text/plain": [
              "<Figure size 720x432 with 1 Axes>"
            ]
          },
          "metadata": {
            "needs_background": "light"
          },
          "output_type": "display_data"
        }
      ],
      "source": [
        "plt.figure(figsize=(10,6))\n",
        "df.boxplot()\n",
        "plt.title('Boxplots before Outlier Removal')\n",
        "plt.xticks(rotation=45)\n",
        "plt.show()\n",
        "\n",
        "# Remove outliers using IQR method\n",
        "Q1 = df.quantile(0.25)\n",
        "Q3 = df.quantile(0.75)\n",
        "IQR = Q3 - Q1\n",
        "df_out = df[~((df < (Q1 - 1.5 * IQR)) | (df > (Q3 + 1.5 * IQR))).any(axis=1)]\n",
        "\n",
        "# Plot boxplots after outlier removal\n",
        "plt.figure(figsize=(10,6))\n",
        "df_out.boxplot()\n",
        "plt.title('Boxplots after Outlier Removal')\n",
        "plt.xticks(rotation=45)\n",
        "plt.show()"
      ]
    },
    {
      "cell_type": "markdown",
      "metadata": {
        "id": "1p_ZlLdMkZd7"
      },
      "source": [
        "### Feature Selection"
      ]
    },
    {
      "cell_type": "code",
      "execution_count": null,
      "metadata": {
        "colab": {
          "base_uri": "https://localhost:8080/"
        },
        "id": "uSkh-Uy2kZd8",
        "outputId": "eebe26b5-3641-48c4-ff96-6755e1ca61ba"
      },
      "outputs": [
        {
          "name": "stdout",
          "output_type": "stream",
          "text": [
            "Looking in indexes: https://pypi.org/simple, https://us-python.pkg.dev/colab-wheels/public/simple/\n",
            "Collecting shap\n",
            "  Downloading shap-0.41.0-cp39-cp39-manylinux_2_12_x86_64.manylinux2010_x86_64.whl (572 kB)\n",
            "\u001b[2K     \u001b[90m━━━━━━━━━━━━━━━━━━━━━━━━━━━━━━━━━━━━━━\u001b[0m \u001b[32m572.4/572.4 KB\u001b[0m \u001b[31m10.8 MB/s\u001b[0m eta \u001b[36m0:00:00\u001b[0m\n",
            "\u001b[?25hRequirement already satisfied: numba in /usr/local/lib/python3.9/dist-packages (from shap) (0.56.4)\n",
            "Requirement already satisfied: packaging>20.9 in /usr/local/lib/python3.9/dist-packages (from shap) (23.0)\n",
            "Requirement already satisfied: pandas in /usr/local/lib/python3.9/dist-packages (from shap) (1.4.4)\n",
            "Requirement already satisfied: tqdm>4.25.0 in /usr/local/lib/python3.9/dist-packages (from shap) (4.65.0)\n",
            "Collecting slicer==0.0.7\n",
            "  Downloading slicer-0.0.7-py3-none-any.whl (14 kB)\n",
            "Requirement already satisfied: scipy in /usr/local/lib/python3.9/dist-packages (from shap) (1.10.1)\n",
            "Requirement already satisfied: cloudpickle in /usr/local/lib/python3.9/dist-packages (from shap) (2.2.1)\n",
            "Requirement already satisfied: scikit-learn in /usr/local/lib/python3.9/dist-packages (from shap) (1.2.2)\n",
            "Requirement already satisfied: numpy in /usr/local/lib/python3.9/dist-packages (from shap) (1.22.4)\n",
            "Requirement already satisfied: llvmlite<0.40,>=0.39.0dev0 in /usr/local/lib/python3.9/dist-packages (from numba->shap) (0.39.1)\n",
            "Requirement already satisfied: setuptools in /usr/local/lib/python3.9/dist-packages (from numba->shap) (63.4.3)\n",
            "Requirement already satisfied: pytz>=2020.1 in /usr/local/lib/python3.9/dist-packages (from pandas->shap) (2022.7.1)\n",
            "Requirement already satisfied: python-dateutil>=2.8.1 in /usr/local/lib/python3.9/dist-packages (from pandas->shap) (2.8.2)\n",
            "Requirement already satisfied: joblib>=1.1.1 in /usr/local/lib/python3.9/dist-packages (from scikit-learn->shap) (1.1.1)\n",
            "Requirement already satisfied: threadpoolctl>=2.0.0 in /usr/local/lib/python3.9/dist-packages (from scikit-learn->shap) (3.1.0)\n",
            "Requirement already satisfied: six>=1.5 in /usr/local/lib/python3.9/dist-packages (from python-dateutil>=2.8.1->pandas->shap) (1.16.0)\n",
            "Installing collected packages: slicer, shap\n",
            "Successfully installed shap-0.41.0 slicer-0.0.7\n"
          ]
        }
      ],
      "source": [
        "pip install shap"
      ]
    },
    {
      "cell_type": "code",
      "execution_count": null,
      "metadata": {
        "colab": {
          "base_uri": "https://localhost:8080/"
        },
        "id": "QsAgrRZqkZd8",
        "outputId": "9b42aed4-cd70-48cd-ef9b-c36a0c062439"
      },
      "outputs": [
        {
          "name": "stdout",
          "output_type": "stream",
          "text": [
            "Looking in indexes: https://pypi.org/simple, https://us-python.pkg.dev/colab-wheels/public/simple/\n",
            "Collecting optuna\n",
            "  Downloading optuna-3.1.0-py3-none-any.whl (365 kB)\n",
            "\u001b[2K     \u001b[90m━━━━━━━━━━━━━━━━━━━━━━━━━━━━━━━━━━━━━━━\u001b[0m \u001b[32m365.3/365.3 KB\u001b[0m \u001b[31m7.3 MB/s\u001b[0m eta \u001b[36m0:00:00\u001b[0m\n",
            "\u001b[?25hCollecting cmaes>=0.9.1\n",
            "  Downloading cmaes-0.9.1-py3-none-any.whl (21 kB)\n",
            "Requirement already satisfied: tqdm in /usr/local/lib/python3.9/dist-packages (from optuna) (4.65.0)\n",
            "Collecting alembic>=1.5.0\n",
            "  Downloading alembic-1.10.2-py3-none-any.whl (212 kB)\n",
            "\u001b[2K     \u001b[90m━━━━━━━━━━━━━━━━━━━━━━━━━━━━━━━━━━━━━━\u001b[0m \u001b[32m212.2/212.2 KB\u001b[0m \u001b[31m14.1 MB/s\u001b[0m eta \u001b[36m0:00:00\u001b[0m\n",
            "\u001b[?25hCollecting colorlog\n",
            "  Downloading colorlog-6.7.0-py2.py3-none-any.whl (11 kB)\n",
            "Requirement already satisfied: sqlalchemy>=1.3.0 in /usr/local/lib/python3.9/dist-packages (from optuna) (1.4.46)\n",
            "Requirement already satisfied: packaging>=20.0 in /usr/local/lib/python3.9/dist-packages (from optuna) (23.0)\n",
            "Requirement already satisfied: numpy in /usr/local/lib/python3.9/dist-packages (from optuna) (1.22.4)\n",
            "Requirement already satisfied: PyYAML in /usr/local/lib/python3.9/dist-packages (from optuna) (6.0)\n",
            "Collecting Mako\n",
            "  Downloading Mako-1.2.4-py3-none-any.whl (78 kB)\n",
            "\u001b[2K     \u001b[90m━━━━━━━━━━━━━━━━━━━━━━━━━━━━━━━━━━━━━━━━\u001b[0m \u001b[32m78.7/78.7 KB\u001b[0m \u001b[31m5.9 MB/s\u001b[0m eta \u001b[36m0:00:00\u001b[0m\n",
            "\u001b[?25hRequirement already satisfied: typing-extensions>=4 in /usr/local/lib/python3.9/dist-packages (from alembic>=1.5.0->optuna) (4.5.0)\n",
            "Requirement already satisfied: greenlet!=0.4.17 in /usr/local/lib/python3.9/dist-packages (from sqlalchemy>=1.3.0->optuna) (2.0.2)\n",
            "Requirement already satisfied: MarkupSafe>=0.9.2 in /usr/local/lib/python3.9/dist-packages (from Mako->alembic>=1.5.0->optuna) (2.1.2)\n",
            "Installing collected packages: Mako, colorlog, cmaes, alembic, optuna\n",
            "Successfully installed Mako-1.2.4 alembic-1.10.2 cmaes-0.9.1 colorlog-6.7.0 optuna-3.1.0\n"
          ]
        }
      ],
      "source": [
        "pip install optuna"
      ]
    },
    {
      "cell_type": "code",
      "execution_count": null,
      "metadata": {
        "id": "Y8n-KClQkZd9"
      },
      "outputs": [],
      "source": [
        "import pandas as pd\n",
        "import numpy as np\n",
        "from sklearn.model_selection import train_test_split\n",
        "from sklearn.ensemble import RandomForestClassifier\n",
        "from sklearn.metrics import accuracy_score\n",
        "from sklearn.impute import SimpleImputer\n",
        "from sklearn.preprocessing import StandardScaler\n",
        "import shap"
      ]
    },
    {
      "cell_type": "code",
      "execution_count": null,
      "metadata": {
        "id": "9NBiIgzokZd-"
      },
      "outputs": [],
      "source": [
        "X = df.iloc[:, :-1].values\n",
        "y = df.iloc[:, -1].values\n",
        "X_train, X_test, y_train, y_test = train_test_split(X, y, test_size=0.2, random_state=42)\n"
      ]
    },
    {
      "cell_type": "markdown",
      "metadata": {
        "id": "sqWOEUvZkZd-"
      },
      "source": [
        "### **Train Shape**"
      ]
    },
    {
      "cell_type": "code",
      "execution_count": null,
      "metadata": {
        "colab": {
          "base_uri": "https://localhost:8080/"
        },
        "id": "3iiEwERSkZd_",
        "outputId": "e393612e-11ed-40e1-90b2-975f0dc5e655"
      },
      "outputs": [
        {
          "data": {
            "text/plain": [
              "(759, 17)"
            ]
          },
          "execution_count": 42,
          "metadata": {},
          "output_type": "execute_result"
        }
      ],
      "source": [
        "X_train.shape"
      ]
    },
    {
      "cell_type": "markdown",
      "metadata": {
        "id": "na6OVHV9kZeA"
      },
      "source": [
        "### **Test Shape**"
      ]
    },
    {
      "cell_type": "code",
      "execution_count": null,
      "metadata": {
        "colab": {
          "base_uri": "https://localhost:8080/"
        },
        "id": "JsOJPE8jkZeA",
        "outputId": "f1c534da-fef6-4718-8ef1-e719409f3597"
      },
      "outputs": [
        {
          "data": {
            "text/plain": [
              "(190, 17)"
            ]
          },
          "execution_count": 19,
          "metadata": {},
          "output_type": "execute_result"
        }
      ],
      "source": [
        "X_test.shape"
      ]
    },
    {
      "cell_type": "code",
      "execution_count": null,
      "metadata": {
        "colab": {
          "base_uri": "https://localhost:8080/",
          "height": 607
        },
        "id": "H_drIISPkZeB",
        "outputId": "eff2e0c6-5afd-4d53-c24e-1e0a85a25fd1"
      },
      "outputs": [
        {
          "data": {
            "image/png": "[encoded data removed]",
            "text/plain": [
              "<Figure size 576x597.6 with 1 Axes>"
            ]
          },
          "metadata": {
            "needs_background": "light"
          },
          "output_type": "display_data"
        }
      ],
      "source": [
        "rf = RandomForestClassifier(n_estimators=100, random_state=42)\n",
        "rf.fit(X_train, y_train)\n",
        "\n",
        "# Explain the model predictions using SHAP values\n",
        "explainer = shap.TreeExplainer(rf)\n",
        "shap_values = explainer.shap_values(X_train)\n",
        "\n",
        "# Plot the feature importance\n",
        "shap.summary_plot(shap_values, X_train, plot_type=\"bar\")\n",
        "\n",
        "# Print the feature names with their corresponding SHAP values\n",
        "shap_df = pd.DataFrame(shap_values, columns=X_train.columns)\n",
        "shap_values_2d = np.squeeze(shap_values)\n",
        "#shap_df = pd.DataFrame(shap_values_2d, columns=X_train_df.columns)\n",
        "#shap_df = pd.DataFrame(shap_values, columns=X_train.columns)\n",
        "\n",
        "shap_df = shap_df.abs().mean().sort_values(ascending=False).reset_index()\n",
        "shap_df.columns = ['Feature', 'SHAP Value']\n",
        "print(shap_df)\n",
        "print(shap_values.shape)"
      ]
    },
    {
      "cell_type": "code",
      "execution_count": null,
      "metadata": {
        "id": "cP3zkTHckZeC"
      },
      "outputs": [],
      "source": [
        "df = df.drop(['Smoking', 'Alcohol','Pdiabetes','UriationFreq'], axis=1)"
      ]
    },
    {
      "cell_type": "markdown",
      "metadata": {
        "id": "khjDg2ZskZeC"
      },
      "source": [
        "### **Features Selected**"
      ]
    },
    {
      "cell_type": "code",
      "execution_count": null,
      "metadata": {
        "colab": {
          "base_uri": "https://localhost:8080/"
        },
        "id": "0iSAFdxUkZeD",
        "outputId": "c9528a0f-52bf-4e13-ac4a-e900cf392cec"
      },
      "outputs": [
        {
          "data": {
            "text/plain": [
              "Index(['Age', 'Gender', 'Family_Diabetes', 'highBP', 'PhysicallyActive', 'BMI',\n",
              "       'Sleep', 'SoundSleep', 'RegularMedicine', 'JunkFood', 'Stress',\n",
              "       'BPLevel', 'Pregancies', 'Diabetic'],\n",
              "      dtype='object')"
            ]
          },
          "execution_count": 28,
          "metadata": {},
          "output_type": "execute_result"
        }
      ],
      "source": [
        "df.columns"
      ]
    },
    {
      "cell_type": "markdown",
      "metadata": {
        "id": "ISiMAx9Ekd2g"
      },
      "source": [
        "### **Clustering For severity level Estimation**"
      ]
    },
    {
      "cell_type": "code",
      "execution_count": null,
      "metadata": {
        "id": "qzZBrvZX9cq3"
      },
      "outputs": [],
      "source": [
        "from sklearn.cluster import AgglomerativeClustering\n",
        "hc = AgglomerativeClustering(n_clusters=3, linkage='ward')\n",
        "hc.fit(df)\n",
        "\n",
        "# Assign severity levels\n",
        "labels = hc.labels_\n",
        "severity_levels = []\n",
        "for label in labels:\n",
        "    if label == 0:\n",
        "        severity_levels.append('Low')\n",
        "    elif label == 1:\n",
        "        severity_levels.append('Medium')\n",
        "    else:\n",
        "        severity_levels.append('High')"
      ]
    },
    {
      "cell_type": "code",
      "execution_count": null,
      "metadata": {
        "id": "g3U4SJ359mSe"
      },
      "outputs": [],
      "source": [
        "df['Severity'] = severity_levels"
      ]
    },
    {
      "cell_type": "code",
      "execution_count": null,
      "metadata": {
        "colab": {
          "base_uri": "https://localhost:8080/"
        },
        "id": "E6BJOJBAmuQo",
        "outputId": "78280faa-8c07-48d1-ca81-cc91888f6603"
      },
      "outputs": [
        {
          "name": "stdout",
          "output_type": "stream",
          "text": [
            "Class names with corresponding labels:\n",
            "High: 0\n",
            "Low: 1\n",
            "Medium: 2\n"
          ]
        }
      ],
      "source": [
        "labels = df['Severity']\n",
        "\n",
        "# Instantiate a LabelEncoder object and fit_transform the labels\n",
        "le = LabelEncoder()\n",
        "encoded_labels = le.fit_transform(labels)\n",
        "print(\"Class names with corresponding labels:\")\n",
        "for i, class_name in enumerate(le.classes_):\n",
        "    print(f\"{class_name}: {i}\")\n"
      ]
    },
    {
      "cell_type": "code",
      "execution_count": null,
      "metadata": {
        "id": "LHU_EqgP-C5i"
      },
      "outputs": [],
      "source": [
        "from sklearn.preprocessing import LabelEncoder\n",
        "labelencoder = LabelEncoder()"
      ]
    },
    {
      "cell_type": "code",
      "execution_count": null,
      "metadata": {
        "id": "X8HdxoLk-H10"
      },
      "outputs": [],
      "source": [
        "df.iloc[:, -1] = labelencoder.fit_transform(df.iloc[:, -1])"
      ]
    },
    {
      "cell_type": "code",
      "execution_count": null,
      "metadata": {
        "id": "Qsduhdbw-O2v"
      },
      "outputs": [],
      "source": [
        "df = df.drop('Diabetic',axis=1)"
      ]
    },
    {
      "cell_type": "code",
      "execution_count": null,
      "metadata": {
        "id": "dJJ5YuID-W1U"
      },
      "outputs": [],
      "source": [
        "y1 = df['Severity']\n",
        "x1 = df.drop(columns= ['Severity'])"
      ]
    },
    {
      "cell_type": "code",
      "execution_count": null,
      "metadata": {
        "id": "fJ9rVx4BY1TQ"
      },
      "outputs": [],
      "source": [
        "from sklearn.linear_model import LogisticRegression"
      ]
    },
    {
      "cell_type": "code",
      "execution_count": null,
      "metadata": {
        "colab": {
          "base_uri": "https://localhost:8080/",
          "height": 213
        },
        "id": "0b9aCX9mYfEs",
        "outputId": "4a081196-096d-4945-db69-0ab4dc952b25"
      },
      "outputs": [
        {
          "name": "stderr",
          "output_type": "stream",
          "text": [
            "/usr/local/lib/python3.9/dist-packages/sklearn/linear_model/_logistic.py:458: ConvergenceWarning: lbfgs failed to converge (status=1):\n",
            "STOP: TOTAL NO. of ITERATIONS REACHED LIMIT.\n",
            "\n",
            "Increase the number of iterations (max_iter) or scale the data as shown in:\n",
            "    https://scikit-learn.org/stable/modules/preprocessing.html\n",
            "Please also refer to the documentation for alternative solver options:\n",
            "    https://scikit-learn.org/stable/modules/linear_model.html#logistic-regression\n",
            "  n_iter_i = _check_optimize_result(\n"
          ]
        },
        {
          "data": {
            "text/html": [
              "<style>#sk-container-id-2 {color: black;background-color: white;}#sk-container-id-2 pre{padding: 0;}#sk-container-id-2 div.sk-toggleable {background-color: white;}#sk-container-id-2 label.sk-toggleable__label {cursor: pointer;display: block;width: 100%;margin-bottom: 0;padding: 0.3em;box-sizing: border-box;text-align: center;}#sk-container-id-2 label.sk-toggleable__label-arrow:before {content: \"▸\";float: left;margin-right: 0.25em;color: #696969;}#sk-container-id-2 label.sk-toggleable__label-arrow:hover:before {color: black;}#sk-container-id-2 div.sk-estimator:hover label.sk-toggleable__label-arrow:before {color: black;}#sk-container-id-2 div.sk-toggleable__content {max-height: 0;max-width: 0;overflow: hidden;text-align: left;background-color: #f0f8ff;}#sk-container-id-2 div.sk-toggleable__content pre {margin: 0.2em;color: black;border-radius: 0.25em;background-color: #f0f8ff;}#sk-container-id-2 input.sk-toggleable__control:checked~div.sk-toggleable__content {max-height: 200px;max-width: 100%;overflow: auto;}#sk-container-id-2 input.sk-toggleable__control:checked~label.sk-toggleable__label-arrow:before {content: \"▾\";}#sk-container-id-2 div.sk-estimator input.sk-toggleable__control:checked~label.sk-toggleable__label {background-color: #d4ebff;}#sk-container-id-2 div.sk-label input.sk-toggleable__control:checked~label.sk-toggleable__label {background-color: #d4ebff;}#sk-container-id-2 input.sk-hidden--visually {border: 0;clip: rect(1px 1px 1px 1px);clip: rect(1px, 1px, 1px, 1px);height: 1px;margin: -1px;overflow: hidden;padding: 0;position: absolute;width: 1px;}#sk-container-id-2 div.sk-estimator {font-family: monospace;background-color: #f0f8ff;border: 1px dotted black;border-radius: 0.25em;box-sizing: border-box;margin-bottom: 0.5em;}#sk-container-id-2 div.sk-estimator:hover {background-color: #d4ebff;}#sk-container-id-2 div.sk-parallel-item::after {content: \"\";width: 100%;border-bottom: 1px solid gray;flex-grow: 1;}#sk-container-id-2 div.sk-label:hover label.sk-toggleable__label {background-color: #d4ebff;}#sk-container-id-2 div.sk-serial::before {content: \"\";position: absolute;border-left: 1px solid gray;box-sizing: border-box;top: 0;bottom: 0;left: 50%;z-index: 0;}#sk-container-id-2 div.sk-serial {display: flex;flex-direction: column;align-items: center;background-color: white;padding-right: 0.2em;padding-left: 0.2em;position: relative;}#sk-container-id-2 div.sk-item {position: relative;z-index: 1;}#sk-container-id-2 div.sk-parallel {display: flex;align-items: stretch;justify-content: center;background-color: white;position: relative;}#sk-container-id-2 div.sk-item::before, #sk-container-id-2 div.sk-parallel-item::before {content: \"\";position: absolute;border-left: 1px solid gray;box-sizing: border-box;top: 0;bottom: 0;left: 50%;z-index: -1;}#sk-container-id-2 div.sk-parallel-item {display: flex;flex-direction: column;z-index: 1;position: relative;background-color: white;}#sk-container-id-2 div.sk-parallel-item:first-child::after {align-self: flex-end;width: 50%;}#sk-container-id-2 div.sk-parallel-item:last-child::after {align-self: flex-start;width: 50%;}#sk-container-id-2 div.sk-parallel-item:only-child::after {width: 0;}#sk-container-id-2 div.sk-dashed-wrapped {border: 1px dashed gray;margin: 0 0.4em 0.5em 0.4em;box-sizing: border-box;padding-bottom: 0.4em;background-color: white;}#sk-container-id-2 div.sk-label label {font-family: monospace;font-weight: bold;display: inline-block;line-height: 1.2em;}#sk-container-id-2 div.sk-label-container {text-align: center;}#sk-container-id-2 div.sk-container {/* jupyter's `normalize.less` sets `[hidden] { display: none; }` but bootstrap.min.css set `[hidden] { display: none !important; }` so we also need the `!important` here to be able to override the default hidden behavior on the sphinx rendered scikit-learn.org. See: https://github.com/scikit-learn/scikit-learn/issues/21755 */display: inline-block !important;position: relative;}#sk-container-id-2 div.sk-text-repr-fallback {display: none;}</style><div id=\"sk-container-id-2\" class=\"sk-top-container\"><div class=\"sk-text-repr-fallback\"><pre>LogisticRegression()</pre><b>In a Jupyter environment, please rerun this cell to show the HTML representation or trust the notebook. <br />On GitHub, the HTML representation is unable to render, please try loading this page with nbviewer.org.</b></div><div class=\"sk-container\" hidden><div class=\"sk-item\"><div class=\"sk-estimator sk-toggleable\"><input class=\"sk-toggleable__control sk-hidden--visually\" id=\"sk-estimator-id-2\" type=\"checkbox\" checked><label for=\"sk-estimator-id-2\" class=\"sk-toggleable__label sk-toggleable__label-arrow\">LogisticRegression</label><div class=\"sk-toggleable__content\"><pre>LogisticRegression()</pre></div></div></div></div></div>"
            ],
            "text/plain": [
              "LogisticRegression()"
            ]
          },
          "execution_count": 35,
          "metadata": {},
          "output_type": "execute_result"
        }
      ],
      "source": [
        "X_train2, X_test2, y_train2, y_test2 = train_test_split(x1, y1, test_size=0.2, random_state=0)\n",
        "\n",
        "model1 = LogisticRegression()\n",
        "model1.fit(X_train2, y_train2)"
      ]
    },
    {
      "cell_type": "code",
      "execution_count": null,
      "metadata": {
        "id": "kDGguULKZTCv"
      },
      "outputs": [],
      "source": [
        "y_pred = model1.predict(X_test2)"
      ]
    },
    {
      "cell_type": "code",
      "execution_count": null,
      "metadata": {
        "colab": {
          "base_uri": "https://localhost:8080/"
        },
        "id": "BVEvjFm5Zj1k",
        "outputId": "85ee5c84-da45-478b-e553-6f169eb8db34"
      },
      "outputs": [
        {
          "name": "stdout",
          "output_type": "stream",
          "text": [
            "Accuracy: 0.9814814814814815\n"
          ]
        }
      ],
      "source": [
        "accuracy = accuracy_score(y_test2, y_pred)\n",
        "print(\"Accuracy:\", accuracy)"
      ]
    },
    {
      "cell_type": "code",
      "execution_count": null,
      "metadata": {
        "colab": {
          "base_uri": "https://localhost:8080/",
          "height": 74
        },
        "id": "LXNwKgc4-26-",
        "outputId": "fed0f8c7-c177-4ac4-991f-731fed2230bd"
      },
      "outputs": [
        {
          "data": {
            "text/html": [
              "<style>#sk-container-id-3 {color: black;background-color: white;}#sk-container-id-3 pre{padding: 0;}#sk-container-id-3 div.sk-toggleable {background-color: white;}#sk-container-id-3 label.sk-toggleable__label {cursor: pointer;display: block;width: 100%;margin-bottom: 0;padding: 0.3em;box-sizing: border-box;text-align: center;}#sk-container-id-3 label.sk-toggleable__label-arrow:before {content: \"▸\";float: left;margin-right: 0.25em;color: #696969;}#sk-container-id-3 label.sk-toggleable__label-arrow:hover:before {color: black;}#sk-container-id-3 div.sk-estimator:hover label.sk-toggleable__label-arrow:before {color: black;}#sk-container-id-3 div.sk-toggleable__content {max-height: 0;max-width: 0;overflow: hidden;text-align: left;background-color: #f0f8ff;}#sk-container-id-3 div.sk-toggleable__content pre {margin: 0.2em;color: black;border-radius: 0.25em;background-color: #f0f8ff;}#sk-container-id-3 input.sk-toggleable__control:checked~div.sk-toggleable__content {max-height: 200px;max-width: 100%;overflow: auto;}#sk-container-id-3 input.sk-toggleable__control:checked~label.sk-toggleable__label-arrow:before {content: \"▾\";}#sk-container-id-3 div.sk-estimator input.sk-toggleable__control:checked~label.sk-toggleable__label {background-color: #d4ebff;}#sk-container-id-3 div.sk-label input.sk-toggleable__control:checked~label.sk-toggleable__label {background-color: #d4ebff;}#sk-container-id-3 input.sk-hidden--visually {border: 0;clip: rect(1px 1px 1px 1px);clip: rect(1px, 1px, 1px, 1px);height: 1px;margin: -1px;overflow: hidden;padding: 0;position: absolute;width: 1px;}#sk-container-id-3 div.sk-estimator {font-family: monospace;background-color: #f0f8ff;border: 1px dotted black;border-radius: 0.25em;box-sizing: border-box;margin-bottom: 0.5em;}#sk-container-id-3 div.sk-estimator:hover {background-color: #d4ebff;}#sk-container-id-3 div.sk-parallel-item::after {content: \"\";width: 100%;border-bottom: 1px solid gray;flex-grow: 1;}#sk-container-id-3 div.sk-label:hover label.sk-toggleable__label {background-color: #d4ebff;}#sk-container-id-3 div.sk-serial::before {content: \"\";position: absolute;border-left: 1px solid gray;box-sizing: border-box;top: 0;bottom: 0;left: 50%;z-index: 0;}#sk-container-id-3 div.sk-serial {display: flex;flex-direction: column;align-items: center;background-color: white;padding-right: 0.2em;padding-left: 0.2em;position: relative;}#sk-container-id-3 div.sk-item {position: relative;z-index: 1;}#sk-container-id-3 div.sk-parallel {display: flex;align-items: stretch;justify-content: center;background-color: white;position: relative;}#sk-container-id-3 div.sk-item::before, #sk-container-id-3 div.sk-parallel-item::before {content: \"\";position: absolute;border-left: 1px solid gray;box-sizing: border-box;top: 0;bottom: 0;left: 50%;z-index: -1;}#sk-container-id-3 div.sk-parallel-item {display: flex;flex-direction: column;z-index: 1;position: relative;background-color: white;}#sk-container-id-3 div.sk-parallel-item:first-child::after {align-self: flex-end;width: 50%;}#sk-container-id-3 div.sk-parallel-item:last-child::after {align-self: flex-start;width: 50%;}#sk-container-id-3 div.sk-parallel-item:only-child::after {width: 0;}#sk-container-id-3 div.sk-dashed-wrapped {border: 1px dashed gray;margin: 0 0.4em 0.5em 0.4em;box-sizing: border-box;padding-bottom: 0.4em;background-color: white;}#sk-container-id-3 div.sk-label label {font-family: monospace;font-weight: bold;display: inline-block;line-height: 1.2em;}#sk-container-id-3 div.sk-label-container {text-align: center;}#sk-container-id-3 div.sk-container {/* jupyter's `normalize.less` sets `[hidden] { display: none; }` but bootstrap.min.css set `[hidden] { display: none !important; }` so we also need the `!important` here to be able to override the default hidden behavior on the sphinx rendered scikit-learn.org. See: https://github.com/scikit-learn/scikit-learn/issues/21755 */display: inline-block !important;position: relative;}#sk-container-id-3 div.sk-text-repr-fallback {display: none;}</style><div id=\"sk-container-id-3\" class=\"sk-top-container\"><div class=\"sk-text-repr-fallback\"><pre>LogisticRegression()</pre><b>In a Jupyter environment, please rerun this cell to show the HTML representation or trust the notebook. <br />On GitHub, the HTML representation is unable to render, please try loading this page with nbviewer.org.</b></div><div class=\"sk-container\" hidden><div class=\"sk-item\"><div class=\"sk-estimator sk-toggleable\"><input class=\"sk-toggleable__control sk-hidden--visually\" id=\"sk-estimator-id-3\" type=\"checkbox\" checked><label for=\"sk-estimator-id-3\" class=\"sk-toggleable__label sk-toggleable__label-arrow\">LogisticRegression</label><div class=\"sk-toggleable__content\"><pre>LogisticRegression()</pre></div></div></div></div></div>"
            ],
            "text/plain": [
              "LogisticRegression()"
            ]
          },
          "execution_count": 38,
          "metadata": {},
          "output_type": "execute_result"
        }
      ],
      "source": [
        "import pickle\n",
        "pickle.dump(model1,open('cl19.pkl','wb'))\n",
        "model=pickle.load(open('cl19.pkl','rb'))\n",
        "model"
      ]
    }
  ],
  "metadata": {
    "colab": {
      "provenance": []
    },
    "kernelspec": {
      "display_name": "Python 3",
      "name": "python3"
    },
    "language_info": {
      "name": "python"
    }
  },
  "nbformat": 4,
  "nbformat_minor": 0
}
