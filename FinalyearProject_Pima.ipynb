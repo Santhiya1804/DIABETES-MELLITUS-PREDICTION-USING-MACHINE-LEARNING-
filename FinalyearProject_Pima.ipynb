{
  "cells": [
    {
      "cell_type": "markdown",
      "metadata": {
        "id": "3rU9P5BPtH7t"
      },
      "source": [
        "Pima Diabetes Dataset"
      ]
    },
    {
      "cell_type": "code",
      "execution_count": null,
      "metadata": {
        "id": "xrJNJsuMRHnE"
      },
      "outputs": [],
      "source": [
        "\n",
        "import numpy as np\n",
        "import pandas as pd\n",
        "import matplotlib.pyplot as plt\n",
        "import seaborn as sns9"
      ]
    },
    {
      "cell_type": "code",
      "execution_count": null,
      "metadata": {
        "colab": {
          "base_uri": "https://localhost:8080/"
        },
        "id": "K6AE1R9Fnw4H",
        "outputId": "ba3d14e1-bbd2-4660-830a-17d7e3614a21"
      },
      "outputs": [
        {
          "name": "stdout",
          "output_type": "stream",
          "text": [
            "Mounted at /content/drive\n"
          ]
        }
      ],
      "source": [
        "from google.colab import drive\n",
        "drive.mount('/content/drive')"
      ]
    },
    {
      "cell_type": "code",
      "execution_count": null,
      "metadata": {
        "id": "Lj1MQP2vOfO-"
      },
      "outputs": [],
      "source": [
        "from mlxtend.plotting import plot_decision_regions\n",
        "import missingno as msno\n",
        "from pandas.plotting import scatter_matrix\n",
        "from sklearn.preprocessing import StandardScaler\n",
        "from sklearn.model_selection import train_test_split\n",
        "from sklearn.neighbors import KNeighborsClassifier"
      ]
    },
    {
      "cell_type": "code",
      "execution_count": null,
      "metadata": {
        "id": "Z6srYfNgOg0h"
      },
      "outputs": [],
      "source": [
        "from sklearn.metrics import confusion_matrix\n",
        "from sklearn import metrics\n",
        "from sklearn.metrics import classification_report\n",
        "import warnings\n",
        "warnings.filterwarnings('ignore')\n",
        "%matplotlib inline"
      ]
    },
    {
      "cell_type": "code",
      "execution_count": null,
      "metadata": {
        "id": "Mny_Xi6fO6i5"
      },
      "outputs": [],
      "source": [
        "diabetes_df = pd.read_csv('/content/drive/MyDrive/dataset/diabetes.csv')"
      ]
    },
    {
      "cell_type": "code",
      "execution_count": null,
      "metadata": {
        "id": "Sq7ZKDTEPOau"
      },
      "outputs": [],
      "source": [
        "diabetes_df.head()"
      ]
    },
    {
      "cell_type": "code",
      "execution_count": null,
      "metadata": {
        "id": "qU4QrKkiPXZo"
      },
      "outputs": [],
      "source": [
        "diabetes_df.columns"
      ]
    },
    {
      "cell_type": "markdown",
      "metadata": {
        "id": "ZYkyqlY-Ct1u"
      },
      "source": [
        "Null values"
      ]
    },
    {
      "cell_type": "code",
      "execution_count": null,
      "metadata": {
        "colab": {
          "base_uri": "https://localhost:8080/"
        },
        "id": "pNHrCy_n-XpT",
        "outputId": "834ff680-7a21-4c02-8da1-39e30cad2596"
      },
      "outputs": [
        {
          "data": {
            "text/plain": [
              "Pregnancies                 0\n",
              "Glucose                     0\n",
              "BloodPressure               0\n",
              "SkinThickness               0\n",
              "Insulin                     0\n",
              "BMI                         0\n",
              "DiabetesPedigreeFunction    0\n",
              "Age                         0\n",
              "Outcome                     0\n",
              "dtype: int64"
            ]
          },
          "execution_count": 6,
          "metadata": {},
          "output_type": "execute_result"
        }
      ],
      "source": [
        "diabetes_df.isnull().sum()"
      ]
    },
    {
      "cell_type": "markdown",
      "metadata": {
        "id": "EL3Vk0XfpH9n"
      },
      "source": [
        "Filling Nan values"
      ]
    },
    {
      "cell_type": "code",
      "execution_count": null,
      "metadata": {
        "colab": {
          "base_uri": "https://localhost:8080/"
        },
        "id": "ZXl7ocSeSkg8",
        "outputId": "e69fa15f-1f4f-4145-cbc9-c61da1b215cb"
      },
      "outputs": [
        {
          "name": "stdout",
          "output_type": "stream",
          "text": [
            "Pregnancies                   0\n",
            "Glucose                       5\n",
            "BloodPressure                35\n",
            "SkinThickness               227\n",
            "Insulin                     374\n",
            "BMI                          11\n",
            "DiabetesPedigreeFunction      0\n",
            "Age                           0\n",
            "Outcome                       0\n",
            "dtype: int64\n"
          ]
        }
      ],
      "source": [
        "diabetes_df_copy = diabetes_df.copy(deep = True)\n",
        "diabetes_df_copy[['Glucose','BloodPressure','SkinThickness','Insulin','BMI']] = diabetes_df_copy[['Glucose','BloodPressure','SkinThickness','Insulin','BMI']].replace(0,np.NaN)\n",
        "\n",
        "# Showing the Count of NANs\n",
        "print(diabetes_df_copy.isnull().sum())"
      ]
    },
    {
      "cell_type": "code",
      "execution_count": null,
      "metadata": {
        "id": "mlASMPAIS4JB"
      },
      "outputs": [],
      "source": [
        "diabetes_df_copy['Glucose'].fillna(diabetes_df_copy['Glucose'].mean(), inplace = True)\n",
        "diabetes_df_copy['BloodPressure'].fillna(diabetes_df_copy['BloodPressure'].mean(), inplace = True)\n",
        "diabetes_df_copy['SkinThickness'].fillna(diabetes_df_copy['SkinThickness'].median(), inplace = True)\n",
        "diabetes_df_copy['Insulin'].fillna(diabetes_df_copy['Insulin'].median(), inplace = True)\n",
        "diabetes_df_copy['BMI'].fillna(diabetes_df_copy['BMI'].median(), inplace = True)"
      ]
    },
    {
      "cell_type": "code",
      "execution_count": null,
      "metadata": {
        "colab": {
          "base_uri": "https://localhost:8080/",
          "height": 206
        },
        "id": "pdK6M87dS61F",
        "outputId": "c70e2d45-4ad7-4591-c4af-17d9f6f70153"
      },
      "outputs": [
        {
          "data": {
            "text/html": [
              "\n",
              "  <div id=\"df-50668ba4-4ac8-463e-9168-8260a16ddaa8\">\n",
              "    <div class=\"colab-df-container\">\n",
              "      <div>\n",
              "<style scoped>\n",
              "    .dataframe tbody tr th:only-of-type {\n",
              "        vertical-align: middle;\n",
              "    }\n",
              "\n",
              "    .dataframe tbody tr th {\n",
              "        vertical-align: top;\n",
              "    }\n",
              "\n",
              "    .dataframe thead th {\n",
              "        text-align: right;\n",
              "    }\n",
              "</style>\n",
              "<table border=\"1\" class=\"dataframe\">\n",
              "  <thead>\n",
              "    <tr style=\"text-align: right;\">\n",
              "      <th></th>\n",
              "      <th>Pregnancies</th>\n",
              "      <th>Glucose</th>\n",
              "      <th>BloodPressure</th>\n",
              "      <th>SkinThickness</th>\n",
              "      <th>Insulin</th>\n",
              "      <th>BMI</th>\n",
              "      <th>DiabetesPedigreeFunction</th>\n",
              "      <th>Age</th>\n",
              "      <th>Outcome</th>\n",
              "    </tr>\n",
              "  </thead>\n",
              "  <tbody>\n",
              "    <tr>\n",
              "      <th>0</th>\n",
              "      <td>6</td>\n",
              "      <td>148</td>\n",
              "      <td>72</td>\n",
              "      <td>35</td>\n",
              "      <td>0</td>\n",
              "      <td>33.6</td>\n",
              "      <td>0.627</td>\n",
              "      <td>50</td>\n",
              "      <td>1</td>\n",
              "    </tr>\n",
              "    <tr>\n",
              "      <th>1</th>\n",
              "      <td>1</td>\n",
              "      <td>85</td>\n",
              "      <td>66</td>\n",
              "      <td>29</td>\n",
              "      <td>0</td>\n",
              "      <td>26.6</td>\n",
              "      <td>0.351</td>\n",
              "      <td>31</td>\n",
              "      <td>0</td>\n",
              "    </tr>\n",
              "    <tr>\n",
              "      <th>2</th>\n",
              "      <td>8</td>\n",
              "      <td>183</td>\n",
              "      <td>64</td>\n",
              "      <td>0</td>\n",
              "      <td>0</td>\n",
              "      <td>23.3</td>\n",
              "      <td>0.672</td>\n",
              "      <td>32</td>\n",
              "      <td>1</td>\n",
              "    </tr>\n",
              "    <tr>\n",
              "      <th>3</th>\n",
              "      <td>1</td>\n",
              "      <td>89</td>\n",
              "      <td>66</td>\n",
              "      <td>23</td>\n",
              "      <td>94</td>\n",
              "      <td>28.1</td>\n",
              "      <td>0.167</td>\n",
              "      <td>21</td>\n",
              "      <td>0</td>\n",
              "    </tr>\n",
              "    <tr>\n",
              "      <th>4</th>\n",
              "      <td>0</td>\n",
              "      <td>137</td>\n",
              "      <td>40</td>\n",
              "      <td>35</td>\n",
              "      <td>168</td>\n",
              "      <td>43.1</td>\n",
              "      <td>2.288</td>\n",
              "      <td>33</td>\n",
              "      <td>1</td>\n",
              "    </tr>\n",
              "  </tbody>\n",
              "</table>\n",
              "</div>\n",
              "      <button class=\"colab-df-convert\" onclick=\"convertToInteractive('df-50668ba4-4ac8-463e-9168-8260a16ddaa8')\"\n",
              "              title=\"Convert this dataframe to an interactive table.\"\n",
              "              style=\"display:none;\">\n",
              "        \n",
              "  <svg xmlns=\"http://www.w3.org/2000/svg\" height=\"24px\"viewBox=\"0 0 24 24\"\n",
              "       width=\"24px\">\n",
              "    <path d=\"M0 0h24v24H0V0z\" fill=\"none\"/>\n",
              "    <path d=\"M18.56 5.44l.94 2.06.94-2.06 2.06-.94-2.06-.94-.94-2.06-.94 2.06-2.06.94zm-11 1L8.5 8.5l.94-2.06 2.06-.94-2.06-.94L8.5 2.5l-.94 2.06-2.06.94zm10 10l.94 2.06.94-2.06 2.06-.94-2.06-.94-.94-2.06-.94 2.06-2.06.94z\"/><path d=\"M17.41 7.96l-1.37-1.37c-.4-.4-.92-.59-1.43-.59-.52 0-1.04.2-1.43.59L10.3 9.45l-7.72 7.72c-.78.78-.78 2.05 0 2.83L4 21.41c.39.39.9.59 1.41.59.51 0 1.02-.2 1.41-.59l7.78-7.78 2.81-2.81c.8-.78.8-2.07 0-2.86zM5.41 20L4 18.59l7.72-7.72 1.47 1.35L5.41 20z\"/>\n",
              "  </svg>\n",
              "      </button>\n",
              "      \n",
              "  <style>\n",
              "    .colab-df-container {\n",
              "      display:flex;\n",
              "      flex-wrap:wrap;\n",
              "      gap: 12px;\n",
              "    }\n",
              "\n",
              "    .colab-df-convert {\n",
              "      background-color: #E8F0FE;\n",
              "      border: none;\n",
              "      border-radius: 50%;\n",
              "      cursor: pointer;\n",
              "      display: none;\n",
              "      fill: #1967D2;\n",
              "      height: 32px;\n",
              "      padding: 0 0 0 0;\n",
              "      width: 32px;\n",
              "    }\n",
              "\n",
              "    .colab-df-convert:hover {\n",
              "      background-color: #E2EBFA;\n",
              "      box-shadow: 0px 1px 2px rgba(60, 64, 67, 0.3), 0px 1px 3px 1px rgba(60, 64, 67, 0.15);\n",
              "      fill: #174EA6;\n",
              "    }\n",
              "\n",
              "    [theme=dark] .colab-df-convert {\n",
              "      background-color: #3B4455;\n",
              "      fill: #D2E3FC;\n",
              "    }\n",
              "\n",
              "    [theme=dark] .colab-df-convert:hover {\n",
              "      background-color: #434B5C;\n",
              "      box-shadow: 0px 1px 3px 1px rgba(0, 0, 0, 0.15);\n",
              "      filter: drop-shadow(0px 1px 2px rgba(0, 0, 0, 0.3));\n",
              "      fill: #FFFFFF;\n",
              "    }\n",
              "  </style>\n",
              "\n",
              "      <script>\n",
              "        const buttonEl =\n",
              "          document.querySelector('#df-50668ba4-4ac8-463e-9168-8260a16ddaa8 button.colab-df-convert');\n",
              "        buttonEl.style.display =\n",
              "          google.colab.kernel.accessAllowed ? 'block' : 'none';\n",
              "\n",
              "        async function convertToInteractive(key) {\n",
              "          const element = document.querySelector('#df-50668ba4-4ac8-463e-9168-8260a16ddaa8');\n",
              "          const dataTable =\n",
              "            await google.colab.kernel.invokeFunction('convertToInteractive',\n",
              "                                                     [key], {});\n",
              "          if (!dataTable) return;\n",
              "\n",
              "          const docLinkHtml = 'Like what you see? Visit the ' +\n",
              "            '<a target=\"_blank\" href=https://colab.research.google.com/notebooks/data_table.ipynb>data table notebook</a>'\n",
              "            + ' to learn more about interactive tables.';\n",
              "          element.innerHTML = '';\n",
              "          dataTable['output_type'] = 'display_data';\n",
              "          await google.colab.output.renderOutput(dataTable, element);\n",
              "          const docLink = document.createElement('div');\n",
              "          docLink.innerHTML = docLinkHtml;\n",
              "          element.appendChild(docLink);\n",
              "        }\n",
              "      </script>\n",
              "    </div>\n",
              "  </div>\n",
              "  "
            ],
            "text/plain": [
              "   Pregnancies  Glucose  BloodPressure  SkinThickness  Insulin   BMI  \\\n",
              "0            6      148             72             35        0  33.6   \n",
              "1            1       85             66             29        0  26.6   \n",
              "2            8      183             64              0        0  23.3   \n",
              "3            1       89             66             23       94  28.1   \n",
              "4            0      137             40             35      168  43.1   \n",
              "\n",
              "   DiabetesPedigreeFunction  Age  Outcome  \n",
              "0                     0.627   50        1  \n",
              "1                     0.351   31        0  \n",
              "2                     0.672   32        1  \n",
              "3                     0.167   21        0  \n",
              "4                     2.288   33        1  "
            ]
          },
          "execution_count": 8,
          "metadata": {},
          "output_type": "execute_result"
        }
      ],
      "source": [
        "y = diabetes_df['Outcome']\n",
        "x = diabetes_df.drop(columns= ['Outcome'])\n",
        "diabetes_df.head()"
      ]
    },
    {
      "cell_type": "markdown",
      "metadata": {
        "id": "k3yIzBYLpff_"
      },
      "source": [
        "### Outlier Removal"
      ]
    },
    {
      "cell_type": "code",
      "execution_count": null,
      "metadata": {
        "id": "oMhYZFgmTxgH"
      },
      "outputs": [],
      "source": [
        "from sklearn import tree\n",
        "from sklearn.tree import DecisionTreeClassifier\n",
        "from sklearn.neighbors import KNeighborsClassifier\n",
        "from sklearn.ensemble import GradientBoostingClassifier\n",
        "from sklearn.naive_bayes import GaussianNB\n",
        "from sklearn.svm import SVC\n",
        "from sklearn.ensemble import StackingClassifier\n",
        "from sklearn.ensemble import RandomForestClassifier\n",
        "from sklearn.model_selection import cross_val_score\n",
        "from sklearn.model_selection import train_test_split"
      ]
    },
    {
      "cell_type": "code",
      "execution_count": null,
      "metadata": {
        "id": "uzwFq5r1fEsQ"
      },
      "outputs": [],
      "source": [
        "\n",
        "diabetes_df = diabetes_df.fillna(diabetes_df.mean())\n",
        "# Impute the missing values with median values\n",
        "imputer = SimpleImputer(missing_values=np.NaN, strategy='mean')\n",
        "diabetes_df.iloc[:, :-1] = imputer.fit_transform(diabetes_df.iloc[:, :-1])\n",
        "\n",
        "# Standardize the dataset\n",
        "scaler = StandardScaler()\n",
        "diabetes_df.iloc[:, :-1] = scaler.fit_transform(diabetes_df.iloc[:, :-1])\n",
        "\n"
      ]
    },
    {
      "cell_type": "code",
      "execution_count": null,
      "metadata": {
        "id": "ggzooJrcgfgS"
      },
      "outputs": [],
      "source": [
        "import matplotlib.pyplot as plt\n",
        "import seaborn as sns"
      ]
    },
    {
      "cell_type": "code",
      "execution_count": null,
      "metadata": {
        "id": "230n_Moo9XMz"
      },
      "outputs": [],
      "source": [
        "df_imputed = diabetes_df.fillna(diabetes_df.mean())\n",
        "# Calculate the IQR for each column\n"
      ]
    },
    {
      "cell_type": "code",
      "execution_count": null,
      "metadata": {
        "colab": {
          "base_uri": "https://localhost:8080/",
          "height": 941
        },
        "id": "fqkaTPtWiwgl",
        "outputId": "b005ff22-505f-4e41-bade-7ef498f7d4bd"
      },
      "outputs": [
        {
          "data": {
            "image/png": "[encoded data removed]",
            "text/plain": [
              "<Figure size 720x432 with 1 Axes>"
            ]
          },
          "metadata": {},
          "output_type": "display_data"
        },
        {
          "data": {
            "image/png": "[encoded data removed]",
            "text/plain": [
              "<Figure size 720x432 with 1 Axes>"
            ]
          },
          "metadata": {},
          "output_type": "display_data"
        }
      ],
      "source": [
        "plt.figure(figsize=(10,6))\n",
        "diabetes_df.boxplot()\n",
        "plt.title('Boxplots before Outlier Removal')\n",
        "plt.xticks(rotation=45)\n",
        "plt.show()\n",
        "\n",
        "# Remove outliers using IQR method\n",
        "Q1 = diabetes_df.quantile(0.25)\n",
        "Q3 = diabetes_df.quantile(0.75)\n",
        "IQR = Q3 - Q1\n",
        "df_out = diabetes_df[~((diabetes_df < (Q1 - 1.5 * IQR)) | (diabetes_df > (Q3 + 1.5 * IQR))).any(axis=1)]\n",
        "\n",
        "# Plot boxplots after outlier removal\n",
        "plt.figure(figsize=(10,6))\n",
        "df_out.boxplot()\n",
        "plt.title('Boxplots after Outlier Removal')\n",
        "plt.xticks(rotation=45)\n",
        "plt.show()"
      ]
    },
    {
      "cell_type": "markdown",
      "metadata": {
        "id": "LLRjzTahpnnH"
      },
      "source": [
        "Feature Selection"
      ]
    },
    {
      "cell_type": "code",
      "execution_count": null,
      "metadata": {
        "id": "KYVSpXMXfExp"
      },
      "outputs": [],
      "source": [
        "# Split the dataset into training and testing sets\n",
        "X = diabetes_df.iloc[:, :-1].values\n",
        "y = diabetes_df.iloc[:, -1].values\n"
      ]
    },
    {
      "cell_type": "code",
      "execution_count": null,
      "metadata": {
        "id": "pTTDFDRihZe0"
      },
      "outputs": [],
      "source": [
        "X_train, X_test, y_train, y_test = train_test_split(X, y, test_size=0.2, random_state=42)\n",
        "#X_train_df = pd.DataFrame(X_train, columns=data.columns[:-1])\n"
      ]
    },
    {
      "cell_type": "code",
      "execution_count": null,
      "metadata": {
        "colab": {
          "base_uri": "https://localhost:8080/"
        },
        "id": "jdvRTlAe-pja",
        "outputId": "621c897c-397a-42f1-b838-6b36eac4b83d"
      },
      "outputs": [
        {
          "data": {
            "text/plain": [
              "(614, 8)"
            ]
          },
          "execution_count": 13,
          "metadata": {},
          "output_type": "execute_result"
        }
      ],
      "source": [
        "X_train.shape"
      ]
    },
    {
      "cell_type": "code",
      "execution_count": null,
      "metadata": {
        "colab": {
          "base_uri": "https://localhost:8080/"
        },
        "id": "XyN13qQb-1GA",
        "outputId": "bb488375-863c-4f7f-d243-eac782f76354"
      },
      "outputs": [
        {
          "data": {
            "text/plain": [
              "(154, 8)"
            ]
          },
          "execution_count": 16,
          "metadata": {},
          "output_type": "execute_result"
        }
      ],
      "source": [
        "X_test.shape"
      ]
    },
    {
      "cell_type": "code",
      "execution_count": null,
      "metadata": {
        "colab": {
          "base_uri": "https://localhost:8080/",
          "height": 348
        },
        "id": "KhJYvlAgqfuT",
        "outputId": "5a9811f8-4d0c-4159-c71a-2dcf06ed986d"
      },
      "outputs": [
        {
          "data": {
            "image/png": "[encoded data removed]",
            "text/plain": [
              "<Figure size 576x338.4 with 1 Axes>"
            ]
          },
          "metadata": {
            "needs_background": "light"
          },
          "output_type": "display_data"
        }
      ],
      "source": [
        "rf = RandomForestClassifier(n_estimators=100, random_state=42)\n",
        "rf.fit(X_train, y_train)\n",
        "\n",
        "# Explain the model predictions using SHAP values\n",
        "explainer = shap.TreeExplainer(rf)\n",
        "shap_values = explainer.shap_values(X_train)\n",
        "\n",
        "# Plot the feature importance\n",
        "shap.summary_plot(shap_values, X_train, plot_type=\"bar\")\n",
        "\n",
        "# Print the feature names with their corresponding SHAP values\n",
        "#shap_df = pd.DataFrame(shap_values, columns=X_train.columns)\n",
        "shap_values_2d = np.squeeze(shap_values)\n",
        "#shap_df = pd.DataFrame(shap_values_2d, columns=X_train_df.columns)\n",
        "shap_df = pd.DataFrame(shap_values, columns=X_train.columns)\n",
        "\n",
        "shap_df = shap_df.abs().mean().sort_values(ascending=False).reset_index()\n",
        "shap_df.columns = ['Feature', 'SHAP Value']\n",
        "print(shap_df)\n",
        "print(shap_values.shape)"
      ]
    },
    {
      "cell_type": "code",
      "execution_count": null,
      "metadata": {
        "id": "GDGWnyfvqn5y"
      },
      "outputs": [],
      "source": [
        "diabetes_df = diabetes_df.drop(['SkinThickness','DiabetesPedigreeFunction'], axis=1)\n"
      ]
    },
    {
      "cell_type": "code",
      "execution_count": null,
      "metadata": {
        "id": "jfpJSb-5q0yY"
      },
      "outputs": [],
      "source": [
        "import pandas as pd\n",
        "import numpy as np\n",
        "from sklearn.ensemble import RandomForestClassifier, AdaBoostClassifier, GradientBoostingClassifier\n",
        "from sklearn.linear_model import LogisticRegression\n",
        "from sklearn.ensemble import StackingClassifier\n",
        "from sklearn.model_selection import train_test_split\n",
        "from sklearn.metrics import accuracy_score\n",
        "from sklearn.naive_bayes import GaussianNB\n",
        "from sklearn.model_selection import GridSearchCV\n",
        "from sklearn.impute import SimpleImputer\n",
        "from sklearn.preprocessing import StandardScaler\n",
        "from sklearn.neighbors import KNeighborsClassifier\n",
        "from hyperopt import tpe, hp, fmin, STATUS_OK,Trials\n",
        "from hyperopt.pyll.base import scope\n",
        "from sklearn.model_selection import cross_val_score\n",
        "from hyperopt import tpe, space_eval\n",
        "from hyperopt.pyll.stochastic import sample\n",
        "from sklearn.model_selection import StratifiedKFold\n",
        "from sklearn.model_selection import KFold\n",
        "from sklearn.svm import SVC\n",
        "from sklearn.ensemble import StackingClassifier\n",
        "import optuna"
      ]
    },
    {
      "cell_type": "markdown",
      "metadata": {
        "id": "DmsTPxqmq8Ff"
      },
      "source": [
        "Cross fold"
      ]
    },
    {
      "cell_type": "code",
      "execution_count": null,
      "metadata": {
        "id": "mvNjBeWhq5sW"
      },
      "outputs": [],
      "source": [
        "kf = StratifiedKFold(n_splits=5, shuffle=True, random_state=42)\n",
        "\n",
        "for train_index, test_index in kf.split(X, y):\n",
        "    X_train, X_test = X[train_index], X[test_index]\n",
        "    y_train, y_test = y[train_index], y[test_index]"
      ]
    },
    {
      "cell_type": "markdown",
      "metadata": {
        "id": "yEfiymNjrKye"
      },
      "source": [
        "Random Forest Hyperparametr Tuning"
      ]
    },
    {
      "cell_type": "code",
      "execution_count": null,
      "metadata": {
        "colab": {
          "base_uri": "https://localhost:8080/"
        },
        "id": "u7XXBsm1Hdba",
        "outputId": "61a88e10-43d2-4210-97d0-1ddd91c59034"
      },
      "outputs": [
        {
          "name": "stdout",
          "output_type": "stream",
          "text": [
            "Best params for Random Forest: OrderedDict([('max_depth', 7), ('max_features', None), ('min_samples_leaf', 9), ('min_samples_split', 6), ('n_estimators', 127)])\n"
          ]
        }
      ],
      "source": [
        "def objective_rfc(trial):\n",
        "    params = {\n",
        "        'n_estimators': trial.suggest_int('n_estimators', 100, 1000),\n",
        "        'max_depth': trial.suggest_int('max_depth', 2, 50),\n",
        "        'min_samples_split': trial.suggest_int('min_samples_split', 2, 10),\n",
        "        'min_samples_leaf': trial.suggest_int('min_samples_leaf', 1, 10),\n",
        "        'max_features': trial.suggest_categorical('max_features', ['sqrt', 'log2', None])\n",
        "    }\n",
        "    rfc = RandomForestClassifier(random_state=42, **params)\n",
        "    score = np.mean(cross_val_score(rfc, X_train, y_train, cv=5))\n",
        "    return score\n",
        "\n",
        "search_rfc = BayesSearchCV(\n",
        "    estimator=RandomForestClassifier(random_state=42),\n",
        "    search_spaces={\n",
        "        'n_estimators': (100, 1000),\n",
        "        'max_depth': (2, 50),\n",
        "        'min_samples_split': (2, 10),\n",
        "        'min_samples_leaf': (1, 10),\n",
        "        'max_features': ['sqrt', 'log2', None]\n",
        "    },\n",
        "    n_iter=25,\n",
        "    cv=5,\n",
        "    scoring='accuracy'\n",
        ")\n",
        "\n",
        "search_rfc.fit(X_train, y_train)\n",
        "\n",
        "# Print the best parameters for Random Forest\n",
        "print(\"Best params for Random Forest:\", search_rfc.best_params_)\n",
        "\n"
      ]
    },
    {
      "attachments": {},
      "cell_type": "markdown",
      "metadata": {
        "id": "29AGrWRyrO6t"
      },
      "source": [
        "Gradient Boosting Hyperparameter Tuning"
      ]
    },
    {
      "cell_type": "code",
      "execution_count": null,
      "metadata": {
        "colab": {
          "base_uri": "https://localhost:8080/"
        },
        "id": "t5zjycP9HhSe",
        "outputId": "13af9ee3-a587-4f8f-e3eb-af0c6b12a784"
      },
      "outputs": [
        {
          "name": "stdout",
          "output_type": "stream",
          "text": [
            "Best params for Gradient Boosting: OrderedDict([('learning_rate', 0.32251002211489865), ('max_depth', 21), ('max_features', None), ('min_samples_leaf', 1), ('min_samples_split', 8), ('n_estimators', 466)])\n"
          ]
        }
      ],
      "source": [
        "# Hyperparameter tuning for Gradient Boosting using Optuna\n",
        "def objective_gbc(trial):\n",
        "    params = {\n",
        "        'n_estimators': trial.suggest_int('n_estimators', 100, 1000),\n",
        "        'max_depth': trial.suggest_int('max_depth', 2, 50),\n",
        "        'learning_rate': trial.suggest_loguniform('learning_rate', 0.001, 1),\n",
        "        'min_samples_split': trial.suggest_int('min_samples_split', 2, 10),\n",
        "        'min_samples_leaf': trial.suggest_int('min_samples_leaf', 1, 10),\n",
        "        'max_features': trial.suggest_categorical('max_features', ['sqrt', 'log2', None])\n",
        "    }\n",
        "    gbc = GradientBoostingClassifier(random_state=42, **params)\n",
        "    score = np.mean(cross_val_score(gbc, X_train, y_train, cv=5))\n",
        "    return score\n",
        "\n",
        "search_gbc = BayesSearchCV(\n",
        "estimator=GradientBoostingClassifier(random_state=42),\n",
        "search_spaces={\n",
        "'n_estimators': (100, 1000),\n",
        "'max_depth': (2, 50),\n",
        "'learning_rate': (0.001, 1.0),\n",
        "'min_samples_split': (2, 10),\n",
        "'min_samples_leaf': (1, 10),\n",
        "'max_features': ['sqrt', 'log2', None]\n",
        "},\n",
        "n_iter=25,\n",
        "cv=5,\n",
        "scoring='accuracy'\n",
        ")\n",
        "search_gbc.fit(X_train, y_train)\n",
        "\n",
        "#Print the best parameters for Gradient Boosting\n",
        "print(\"Best params for Gradient Boosting:\", search_gbc.best_params_)\n",
        "\n"
      ]
    },
    {
      "cell_type": "markdown",
      "metadata": {
        "id": "DlPe0LfMrUNj"
      },
      "source": [
        "SVM hyperparameter tuning"
      ]
    },
    {
      "cell_type": "code",
      "execution_count": null,
      "metadata": {
        "colab": {
          "base_uri": "https://localhost:8080/"
        },
        "id": "ePsopyoMH_tF",
        "outputId": "933766e3-c60c-490b-a297-ce53dff581b7"
      },
      "outputs": [
        {
          "name": "stdout",
          "output_type": "stream",
          "text": [
            "Best params for SVM: OrderedDict([('C', 1.3202466699243387), ('degree', 5), ('gamma', 0.01959816041088472), ('kernel', 'rbf')])\n"
          ]
        }
      ],
      "source": [
        "#Hyperparameter tuning for SVM using Bayesian Optimization\n",
        "svm_params = {\n",
        "'C': (1e-6, 1e+6, 'log-uniform'),\n",
        "'gamma': (1e-6, 1e+1, 'log-uniform'),\n",
        "'degree': (1, 8),\n",
        "'kernel': ['linear', 'poly', 'rbf', 'sigmoid']\n",
        "}\n",
        "\n",
        "svm_bayes = BayesSearchCV(\n",
        "SVC(probability=True),\n",
        "svm_params,\n",
        "n_iter=25,\n",
        "cv=5\n",
        ")\n",
        "\n",
        "svm_bayes.fit(X_train, y_train)\n",
        "print(\"Best params for SVM:\", svm_bayes.best_params_)\n"
      ]
    },
    {
      "cell_type": "code",
      "execution_count": null,
      "metadata": {
        "id": "HqQv4X41rhj-"
      },
      "outputs": [],
      "source": [
        "lrc=LogisticRegression(random_state=42)"
      ]
    },
    {
      "cell_type": "code",
      "execution_count": null,
      "metadata": {
        "colab": {
          "base_uri": "https://localhost:8080/"
        },
        "id": "IO47TbY4oKLz",
        "outputId": "2b30ef8c-e60b-4e22-ca97-ca40069f2ff0"
      },
      "outputs": [
        {
          "name": "stderr",
          "output_type": "stream",
          "text": [
            "\u001b[32m[I 2023-03-22 23:24:13,194]\u001b[0m A new study created in memory with name: no-name-9762f4aa-cc98-4781-8cff-6b10647f3d8c\u001b[0m\n",
            "\u001b[32m[I 2023-03-22 23:24:16,969]\u001b[0m Trial 0 finished with value: 0.7625 and parameters: {'rf_n_estimators': 158, 'gb_n_estimators': 112, 'dt_max_depth': 14}. Best is trial 0 with value: 0.7625.\u001b[0m\n",
            "\u001b[32m[I 2023-03-22 23:24:19,903]\u001b[0m Trial 1 finished with value: 0.75 and parameters: {'rf_n_estimators': 187, 'gb_n_estimators': 130, 'dt_max_depth': 18}. Best is trial 0 with value: 0.7625.\u001b[0m\n",
            "\u001b[32m[I 2023-03-22 23:24:22,402]\u001b[0m Trial 2 finished with value: 0.7625 and parameters: {'rf_n_estimators': 148, 'gb_n_estimators': 155, 'dt_max_depth': 16}. Best is trial 0 with value: 0.7625.\u001b[0m\n",
            "\u001b[32m[I 2023-03-22 23:24:23,803]\u001b[0m Trial 3 finished with value: 0.75 and parameters: {'rf_n_estimators': 65, 'gb_n_estimators': 116, 'dt_max_depth': 2}. Best is trial 0 with value: 0.7625.\u001b[0m\n",
            "\u001b[32m[I 2023-03-22 23:24:25,513]\u001b[0m Trial 4 finished with value: 0.775 and parameters: {'rf_n_estimators': 116, 'gb_n_estimators': 72, 'dt_max_depth': 20}. Best is trial 4 with value: 0.775.\u001b[0m\n",
            "\u001b[32m[I 2023-03-22 23:24:27,397]\u001b[0m Trial 5 finished with value: 0.75 and parameters: {'rf_n_estimators': 79, 'gb_n_estimators': 168, 'dt_max_depth': 2}. Best is trial 4 with value: 0.775.\u001b[0m\n",
            "\u001b[32m[I 2023-03-22 23:24:29,809]\u001b[0m Trial 6 finished with value: 0.775 and parameters: {'rf_n_estimators': 66, 'gb_n_estimators': 134, 'dt_max_depth': 20}. Best is trial 4 with value: 0.775.\u001b[0m\n",
            "\u001b[32m[I 2023-03-22 23:24:32,079]\u001b[0m Trial 7 finished with value: 0.7875 and parameters: {'rf_n_estimators': 72, 'gb_n_estimators': 120, 'dt_max_depth': 20}. Best is trial 7 with value: 0.7875.\u001b[0m\n",
            "\u001b[32m[I 2023-03-22 23:24:32,448]\u001b[0m Trial 8 finished with value: 0.775 and parameters: {'rf_n_estimators': 22, 'gb_n_estimators': 11, 'dt_max_depth': 9}. Best is trial 7 with value: 0.7875.\u001b[0m\n",
            "\u001b[32m[I 2023-03-22 23:24:34,456]\u001b[0m Trial 9 finished with value: 0.8 and parameters: {'rf_n_estimators': 180, 'gb_n_estimators': 18, 'dt_max_depth': 17}. Best is trial 9 with value: 0.8.\u001b[0m\n",
            "\u001b[32m[I 2023-03-22 23:24:36,857]\u001b[0m Trial 10 finished with value: 0.7875 and parameters: {'rf_n_estimators': 198, 'gb_n_estimators': 24, 'dt_max_depth': 11}. Best is trial 9 with value: 0.8.\u001b[0m\n",
            "\u001b[32m[I 2023-03-22 23:24:37,536]\u001b[0m Trial 11 finished with value: 0.75 and parameters: {'rf_n_estimators': 19, 'gb_n_estimators': 69, 'dt_max_depth': 13}. Best is trial 9 with value: 0.8.\u001b[0m\n",
            "\u001b[32m[I 2023-03-22 23:24:39,776]\u001b[0m Trial 12 finished with value: 0.775 and parameters: {'rf_n_estimators': 89, 'gb_n_estimators': 198, 'dt_max_depth': 7}. Best is trial 9 with value: 0.8.\u001b[0m\n",
            "\u001b[32m[I 2023-03-22 23:24:41,395]\u001b[0m Trial 13 finished with value: 0.775 and parameters: {'rf_n_estimators': 115, 'gb_n_estimators': 59, 'dt_max_depth': 17}. Best is trial 9 with value: 0.8.\u001b[0m\n",
            "\u001b[32m[I 2023-03-22 23:24:42,767]\u001b[0m Trial 14 finished with value: 0.7875 and parameters: {'rf_n_estimators': 41, 'gb_n_estimators': 87, 'dt_max_depth': 15}. Best is trial 9 with value: 0.8.\u001b[0m\n",
            "\u001b[32m[I 2023-03-22 23:24:45,449]\u001b[0m Trial 15 finished with value: 0.7875 and parameters: {'rf_n_estimators': 131, 'gb_n_estimators': 45, 'dt_max_depth': 20}. Best is trial 9 with value: 0.8.\u001b[0m\n",
            "\u001b[32m[I 2023-03-22 23:24:48,083]\u001b[0m Trial 16 finished with value: 0.775 and parameters: {'rf_n_estimators': 164, 'gb_n_estimators': 87, 'dt_max_depth': 18}. Best is trial 9 with value: 0.8.\u001b[0m\n",
            "\u001b[32m[I 2023-03-22 23:24:49,422]\u001b[0m Trial 17 finished with value: 0.75 and parameters: {'rf_n_estimators': 96, 'gb_n_estimators': 39, 'dt_max_depth': 6}. Best is trial 9 with value: 0.8.\u001b[0m\n",
            "\u001b[32m[I 2023-03-22 23:24:50,539]\u001b[0m Trial 18 finished with value: 0.7625 and parameters: {'rf_n_estimators': 46, 'gb_n_estimators': 93, 'dt_max_depth': 12}. Best is trial 9 with value: 0.8.\u001b[0m\n",
            "\u001b[32m[I 2023-03-22 23:24:52,899]\u001b[0m Trial 19 finished with value: 0.7625 and parameters: {'rf_n_estimators': 133, 'gb_n_estimators': 155, 'dt_max_depth': 18}. Best is trial 9 with value: 0.8.\u001b[0m\n",
            "\u001b[32m[I 2023-03-22 23:24:55,883]\u001b[0m Trial 20 finished with value: 0.7375 and parameters: {'rf_n_estimators': 171, 'gb_n_estimators': 197, 'dt_max_depth': 9}. Best is trial 9 with value: 0.8.\u001b[0m\n",
            "\u001b[32m[I 2023-03-22 23:24:59,191]\u001b[0m Trial 21 finished with value: 0.8 and parameters: {'rf_n_estimators': 200, 'gb_n_estimators': 17, 'dt_max_depth': 11}. Best is trial 9 with value: 0.8.\u001b[0m\n",
            "\u001b[32m[I 2023-03-22 23:25:01,836]\u001b[0m Trial 22 finished with value: 0.8 and parameters: {'rf_n_estimators': 181, 'gb_n_estimators': 10, 'dt_max_depth': 15}. Best is trial 9 with value: 0.8.\u001b[0m\n",
            "\u001b[32m[I 2023-03-22 23:25:03,871]\u001b[0m Trial 23 finished with value: 0.8 and parameters: {'rf_n_estimators': 185, 'gb_n_estimators': 10, 'dt_max_depth': 13}. Best is trial 9 with value: 0.8.\u001b[0m\n",
            "\u001b[32m[I 2023-03-22 23:25:05,960]\u001b[0m Trial 24 finished with value: 0.7875 and parameters: {'rf_n_estimators': 175, 'gb_n_estimators': 30, 'dt_max_depth': 15}. Best is trial 9 with value: 0.8.\u001b[0m\n",
            "\u001b[32m[I 2023-03-22 23:25:08,437]\u001b[0m Trial 25 finished with value: 0.775 and parameters: {'rf_n_estimators': 200, 'gb_n_estimators': 49, 'dt_max_depth': 10}. Best is trial 9 with value: 0.8.\u001b[0m\n",
            "\u001b[32m[I 2023-03-22 23:25:10,250]\u001b[0m Trial 26 finished with value: 0.8 and parameters: {'rf_n_estimators': 150, 'gb_n_estimators': 23, 'dt_max_depth': 16}. Best is trial 9 with value: 0.8.\u001b[0m\n",
            "\u001b[32m[I 2023-03-22 23:25:13,473]\u001b[0m Trial 27 finished with value: 0.7875 and parameters: {'rf_n_estimators': 187, 'gb_n_estimators': 34, 'dt_max_depth': 7}. Best is trial 9 with value: 0.8.\u001b[0m\n",
            "\u001b[32m[I 2023-03-22 23:25:16,415]\u001b[0m Trial 28 finished with value: 0.775 and parameters: {'rf_n_estimators': 174, 'gb_n_estimators': 57, 'dt_max_depth': 12}. Best is trial 9 with value: 0.8.\u001b[0m\n",
            "\u001b[32m[I 2023-03-22 23:25:18,166]\u001b[0m Trial 29 finished with value: 0.8 and parameters: {'rf_n_estimators': 150, 'gb_n_estimators': 19, 'dt_max_depth': 14}. Best is trial 9 with value: 0.8.\u001b[0m\n",
            "\u001b[32m[I 2023-03-22 23:25:19,892]\u001b[0m Trial 30 finished with value: 0.7375 and parameters: {'rf_n_estimators': 135, 'gb_n_estimators': 38, 'dt_max_depth': 4}. Best is trial 9 with value: 0.8.\u001b[0m\n",
            "\u001b[32m[I 2023-03-22 23:25:21,926]\u001b[0m Trial 31 finished with value: 0.8 and parameters: {'rf_n_estimators': 184, 'gb_n_estimators': 13, 'dt_max_depth': 13}. Best is trial 9 with value: 0.8.\u001b[0m\n",
            "\u001b[32m[I 2023-03-22 23:25:24,027]\u001b[0m Trial 32 finished with value: 0.8 and parameters: {'rf_n_estimators': 189, 'gb_n_estimators': 13, 'dt_max_depth': 13}. Best is trial 9 with value: 0.8.\u001b[0m\n",
            "\u001b[32m[I 2023-03-22 23:25:26,299]\u001b[0m Trial 33 finished with value: 0.7875 and parameters: {'rf_n_estimators': 162, 'gb_n_estimators': 31, 'dt_max_depth': 15}. Best is trial 9 with value: 0.8.\u001b[0m\n",
            "\u001b[32m[I 2023-03-22 23:25:29,652]\u001b[0m Trial 34 finished with value: 0.7875 and parameters: {'rf_n_estimators': 180, 'gb_n_estimators': 23, 'dt_max_depth': 17}. Best is trial 9 with value: 0.8.\u001b[0m\n",
            "\u001b[32m[I 2023-03-22 23:25:31,853]\u001b[0m Trial 35 finished with value: 0.8 and parameters: {'rf_n_estimators': 193, 'gb_n_estimators': 11, 'dt_max_depth': 11}. Best is trial 9 with value: 0.8.\u001b[0m\n",
            "\u001b[32m[I 2023-03-22 23:25:33,902]\u001b[0m Trial 36 finished with value: 0.7875 and parameters: {'rf_n_estimators': 161, 'gb_n_estimators': 50, 'dt_max_depth': 14}. Best is trial 9 with value: 0.8.\u001b[0m\n",
            "\u001b[32m[I 2023-03-22 23:25:36,437]\u001b[0m Trial 37 finished with value: 0.775 and parameters: {'rf_n_estimators': 200, 'gb_n_estimators': 66, 'dt_max_depth': 18}. Best is trial 9 with value: 0.8.\u001b[0m\n",
            "\u001b[32m[I 2023-03-22 23:25:38,179]\u001b[0m Trial 38 finished with value: 0.7875 and parameters: {'rf_n_estimators': 140, 'gb_n_estimators': 40, 'dt_max_depth': 16}. Best is trial 9 with value: 0.8.\u001b[0m\n",
            "\u001b[32m[I 2023-03-22 23:25:41,574]\u001b[0m Trial 39 finished with value: 0.7625 and parameters: {'rf_n_estimators': 169, 'gb_n_estimators': 26, 'dt_max_depth': 9}. Best is trial 9 with value: 0.8.\u001b[0m\n",
            "\u001b[32m[I 2023-03-22 23:25:45,302]\u001b[0m Trial 40 finished with value: 0.75 and parameters: {'rf_n_estimators': 184, 'gb_n_estimators': 105, 'dt_max_depth': 12}. Best is trial 9 with value: 0.8.\u001b[0m\n",
            "\u001b[32m[I 2023-03-22 23:25:47,088]\u001b[0m Trial 41 finished with value: 0.8 and parameters: {'rf_n_estimators': 153, 'gb_n_estimators': 20, 'dt_max_depth': 17}. Best is trial 9 with value: 0.8.\u001b[0m\n",
            "\u001b[32m[I 2023-03-22 23:25:48,728]\u001b[0m Trial 42 finished with value: 0.8 and parameters: {'rf_n_estimators': 144, 'gb_n_estimators': 10, 'dt_max_depth': 15}. Best is trial 9 with value: 0.8.\u001b[0m\n",
            "\u001b[32m[I 2023-03-22 23:25:50,786]\u001b[0m Trial 43 finished with value: 0.7875 and parameters: {'rf_n_estimators': 177, 'gb_n_estimators': 22, 'dt_max_depth': 16}. Best is trial 9 with value: 0.8.\u001b[0m\n",
            "\u001b[32m[I 2023-03-22 23:25:52,315]\u001b[0m Trial 44 finished with value: 0.775 and parameters: {'rf_n_estimators': 120, 'gb_n_estimators': 30, 'dt_max_depth': 19}. Best is trial 9 with value: 0.8.\u001b[0m\n",
            "\u001b[32m[I 2023-03-22 23:25:54,134]\u001b[0m Trial 45 finished with value: 0.8 and parameters: {'rf_n_estimators': 156, 'gb_n_estimators': 19, 'dt_max_depth': 16}. Best is trial 9 with value: 0.8.\u001b[0m\n",
            "\u001b[32m[I 2023-03-22 23:25:57,782]\u001b[0m Trial 46 finished with value: 0.7625 and parameters: {'rf_n_estimators': 194, 'gb_n_estimators': 54, 'dt_max_depth': 14}. Best is trial 9 with value: 0.8.\u001b[0m\n",
            "\u001b[32m[I 2023-03-22 23:26:00,515]\u001b[0m Trial 47 finished with value: 0.75 and parameters: {'rf_n_estimators': 168, 'gb_n_estimators': 78, 'dt_max_depth': 10}. Best is trial 9 with value: 0.8.\u001b[0m\n",
            "\u001b[32m[I 2023-03-22 23:26:02,810]\u001b[0m Trial 48 finished with value: 0.7875 and parameters: {'rf_n_estimators': 191, 'gb_n_estimators': 44, 'dt_max_depth': 17}. Best is trial 9 with value: 0.8.\u001b[0m\n",
            "\u001b[32m[I 2023-03-22 23:26:05,634]\u001b[0m Trial 49 finished with value: 0.75 and parameters: {'rf_n_estimators': 179, 'gb_n_estimators': 140, 'dt_max_depth': 19}. Best is trial 9 with value: 0.8.\u001b[0m\n"
          ]
        },
        {
          "name": "stdout",
          "output_type": "stream",
          "text": [
            "Best hyperparameters: {'rf_n_estimators': 180, 'gb_n_estimators': 18, 'dt_max_depth': 17}\n",
            "Best accuracy: 0.8\n"
          ]
        }
      ],
      "source": [
        "rfc = RandomForestClassifier(random_state=42, **search_rfc.best_params_)\n",
        "gbc = GradientBoostingClassifier(random_state=42, **search_gbc.best_params_)\n",
        "svm = SVC(**svm_bayes.best_params_, probability=True)\n",
        "# Define the stacking ensemble classifier\n",
        "svm = SVC(random_state=42, probability=True)\n",
        "stacking_clf = StackingClassifier(\n",
        "    estimators=[('rfc', rfc), ('gbc', gbc), ('lrc', lrc)],\n",
        "    final_estimator=svm\n",
        ")\n",
        "    \n",
        "    # Fit the stacking ensemble classifier\n",
        "    stacking_clf.fit(X_train, y_train)\n",
        "    \n",
        "    # Compute accuracy on the test set\n",
        "    y_pred = stacking_clf.predict(X_test)\n",
        "    return accuracy_score(y_test, y_pred)\n",
        "\n",
        "# Perform hyperparameter optimization using Optuna\n",
        "study = optuna.create_study(direction='maximize')\n",
        "study.optimize(objective, n_trials=50)\n",
        "\n",
        "# Print the best hyperparameters and their corresponding accuracy score\n",
        "print('Best hyperparameters:', study.best_params)\n",
        "print('Best accuracy:', study.best_value)"
      ]
    },
    {
      "cell_type": "code",
      "execution_count": null,
      "metadata": {
        "colab": {
          "base_uri": "https://localhost:8080/",
          "height": 161
        },
        "id": "_Tl-ACPRslUN",
        "outputId": "aaae156c-3c19-4470-915d-3cc22f4b5199"
      },
      "outputs": [
        {
          "data": {
            "text/html": [
              "<style>#sk-container-id-1 {color: black;background-color: white;}#sk-container-id-1 pre{padding: 0;}#sk-container-id-1 div.sk-toggleable {background-color: white;}#sk-container-id-1 label.sk-toggleable__label {cursor: pointer;display: block;width: 100%;margin-bottom: 0;padding: 0.3em;box-sizing: border-box;text-align: center;}#sk-container-id-1 label.sk-toggleable__label-arrow:before {content: \"▸\";float: left;margin-right: 0.25em;color: #696969;}#sk-container-id-1 label.sk-toggleable__label-arrow:hover:before {color: black;}#sk-container-id-1 div.sk-estimator:hover label.sk-toggleable__label-arrow:before {color: black;}#sk-container-id-1 div.sk-toggleable__content {max-height: 0;max-width: 0;overflow: hidden;text-align: left;background-color: #f0f8ff;}#sk-container-id-1 div.sk-toggleable__content pre {margin: 0.2em;color: black;border-radius: 0.25em;background-color: #f0f8ff;}#sk-container-id-1 input.sk-toggleable__control:checked~div.sk-toggleable__content {max-height: 200px;max-width: 100%;overflow: auto;}#sk-container-id-1 input.sk-toggleable__control:checked~label.sk-toggleable__label-arrow:before {content: \"▾\";}#sk-container-id-1 div.sk-estimator input.sk-toggleable__control:checked~label.sk-toggleable__label {background-color: #d4ebff;}#sk-container-id-1 div.sk-label input.sk-toggleable__control:checked~label.sk-toggleable__label {background-color: #d4ebff;}#sk-container-id-1 input.sk-hidden--visually {border: 0;clip: rect(1px 1px 1px 1px);clip: rect(1px, 1px, 1px, 1px);height: 1px;margin: -1px;overflow: hidden;padding: 0;position: absolute;width: 1px;}#sk-container-id-1 div.sk-estimator {font-family: monospace;background-color: #f0f8ff;border: 1px dotted black;border-radius: 0.25em;box-sizing: border-box;margin-bottom: 0.5em;}#sk-container-id-1 div.sk-estimator:hover {background-color: #d4ebff;}#sk-container-id-1 div.sk-parallel-item::after {content: \"\";width: 100%;border-bottom: 1px solid gray;flex-grow: 1;}#sk-container-id-1 div.sk-label:hover label.sk-toggleable__label {background-color: #d4ebff;}#sk-container-id-1 div.sk-serial::before {content: \"\";position: absolute;border-left: 1px solid gray;box-sizing: border-box;top: 0;bottom: 0;left: 50%;z-index: 0;}#sk-container-id-1 div.sk-serial {display: flex;flex-direction: column;align-items: center;background-color: white;padding-right: 0.2em;padding-left: 0.2em;position: relative;}#sk-container-id-1 div.sk-item {position: relative;z-index: 1;}#sk-container-id-1 div.sk-parallel {display: flex;align-items: stretch;justify-content: center;background-color: white;position: relative;}#sk-container-id-1 div.sk-item::before, #sk-container-id-1 div.sk-parallel-item::before {content: \"\";position: absolute;border-left: 1px solid gray;box-sizing: border-box;top: 0;bottom: 0;left: 50%;z-index: -1;}#sk-container-id-1 div.sk-parallel-item {display: flex;flex-direction: column;z-index: 1;position: relative;background-color: white;}#sk-container-id-1 div.sk-parallel-item:first-child::after {align-self: flex-end;width: 50%;}#sk-container-id-1 div.sk-parallel-item:last-child::after {align-self: flex-start;width: 50%;}#sk-container-id-1 div.sk-parallel-item:only-child::after {width: 0;}#sk-container-id-1 div.sk-dashed-wrapped {border: 1px dashed gray;margin: 0 0.4em 0.5em 0.4em;box-sizing: border-box;padding-bottom: 0.4em;background-color: white;}#sk-container-id-1 div.sk-label label {font-family: monospace;font-weight: bold;display: inline-block;line-height: 1.2em;}#sk-container-id-1 div.sk-label-container {text-align: center;}#sk-container-id-1 div.sk-container {/* jupyter's `normalize.less` sets `[hidden] { display: none; }` but bootstrap.min.css set `[hidden] { display: none !important; }` so we also need the `!important` here to be able to override the default hidden behavior on the sphinx rendered scikit-learn.org. See: https://github.com/scikit-learn/scikit-learn/issues/21755 */display: inline-block !important;position: relative;}#sk-container-id-1 div.sk-text-repr-fallback {display: none;}</style><div id=\"sk-container-id-1\" class=\"sk-top-container\"><div class=\"sk-text-repr-fallback\"><pre>StackingClassifier(cv=5,\n",
              "                   estimators=[(&#x27;dtc&#x27;, DecisionTreeClassifier()),\n",
              "                               (&#x27;rfc&#x27;, RandomForestClassifier()),\n",
              "                               (&#x27;knn&#x27;, KNeighborsClassifier()),\n",
              "                               (&#x27;svc&#x27;, SVC())],\n",
              "                   final_estimator=SVC())</pre><b>In a Jupyter environment, please rerun this cell to show the HTML representation or trust the notebook. <br />On GitHub, the HTML representation is unable to render, please try loading this page with nbviewer.org.</b></div><div class=\"sk-container\" hidden><div class=\"sk-item sk-dashed-wrapped\"><div class=\"sk-label-container\"><div class=\"sk-label sk-toggleable\"><input class=\"sk-toggleable__control sk-hidden--visually\" id=\"sk-estimator-id-1\" type=\"checkbox\" ><label for=\"sk-estimator-id-1\" class=\"sk-toggleable__label sk-toggleable__label-arrow\">StackingClassifier</label><div class=\"sk-toggleable__content\"><pre>StackingClassifier(cv=5,\n",
              "                   estimators=[(&#x27;dtc&#x27;, DecisionTreeClassifier()),\n",
              "                               (&#x27;rfc&#x27;, RandomForestClassifier()),\n",
              "                               (&#x27;knn&#x27;, KNeighborsClassifier()),\n",
              "                               (&#x27;svc&#x27;, SVC())],\n",
              "                   final_estimator=SVC())</pre></div></div></div><div class=\"sk-serial\"><div class=\"sk-item\"><div class=\"sk-parallel\"><div class=\"sk-parallel-item\"><div class=\"sk-item\"><div class=\"sk-label-container\"><div class=\"sk-label sk-toggleable\"><label>dtc</label></div></div><div class=\"sk-serial\"><div class=\"sk-item\"><div class=\"sk-estimator sk-toggleable\"><input class=\"sk-toggleable__control sk-hidden--visually\" id=\"sk-estimator-id-2\" type=\"checkbox\" ><label for=\"sk-estimator-id-2\" class=\"sk-toggleable__label sk-toggleable__label-arrow\">DecisionTreeClassifier</label><div class=\"sk-toggleable__content\"><pre>DecisionTreeClassifier()</pre></div></div></div></div></div></div><div class=\"sk-parallel-item\"><div class=\"sk-item\"><div class=\"sk-label-container\"><div class=\"sk-label sk-toggleable\"><label>rfc</label></div></div><div class=\"sk-serial\"><div class=\"sk-item\"><div class=\"sk-estimator sk-toggleable\"><input class=\"sk-toggleable__control sk-hidden--visually\" id=\"sk-estimator-id-3\" type=\"checkbox\" ><label for=\"sk-estimator-id-3\" class=\"sk-toggleable__label sk-toggleable__label-arrow\">RandomForestClassifier</label><div class=\"sk-toggleable__content\"><pre>RandomForestClassifier()</pre></div></div></div></div></div></div><div class=\"sk-parallel-item\"><div class=\"sk-item\"><div class=\"sk-label-container\"><div class=\"sk-label sk-toggleable\"><label>knn</label></div></div><div class=\"sk-serial\"><div class=\"sk-item\"><div class=\"sk-estimator sk-toggleable\"><input class=\"sk-toggleable__control sk-hidden--visually\" id=\"sk-estimator-id-4\" type=\"checkbox\" ><label for=\"sk-estimator-id-4\" class=\"sk-toggleable__label sk-toggleable__label-arrow\">KNeighborsClassifier</label><div class=\"sk-toggleable__content\"><pre>KNeighborsClassifier()</pre></div></div></div></div></div></div><div class=\"sk-parallel-item\"><div class=\"sk-item\"><div class=\"sk-label-container\"><div class=\"sk-label sk-toggleable\"><label>svc</label></div></div><div class=\"sk-serial\"><div class=\"sk-item\"><div class=\"sk-estimator sk-toggleable\"><input class=\"sk-toggleable__control sk-hidden--visually\" id=\"sk-estimator-id-5\" type=\"checkbox\" ><label for=\"sk-estimator-id-5\" class=\"sk-toggleable__label sk-toggleable__label-arrow\">SVC</label><div class=\"sk-toggleable__content\"><pre>SVC()</pre></div></div></div></div></div></div></div></div><div class=\"sk-item\"><div class=\"sk-parallel\"><div class=\"sk-parallel-item\"><div class=\"sk-item\"><div class=\"sk-label-container\"><div class=\"sk-label sk-toggleable\"><label>final_estimator</label></div></div><div class=\"sk-serial\"><div class=\"sk-item\"><div class=\"sk-estimator sk-toggleable\"><input class=\"sk-toggleable__control sk-hidden--visually\" id=\"sk-estimator-id-6\" type=\"checkbox\" ><label for=\"sk-estimator-id-6\" class=\"sk-toggleable__label sk-toggleable__label-arrow\">SVC</label><div class=\"sk-toggleable__content\"><pre>SVC()</pre></div></div></div></div></div></div></div></div></div></div></div></div>"
            ],
            "text/plain": [
              "StackingClassifier(cv=5,\n",
              "                   estimators=[('dtc', DecisionTreeClassifier()),\n",
              "                               ('rfc', RandomForestClassifier()),\n",
              "                               ('knn', KNeighborsClassifier()),\n",
              "                               ('svc', SVC())],\n",
              "                   final_estimator=SVC())"
            ]
          },
          "execution_count": 18,
          "metadata": {},
          "output_type": "execute_result"
        }
      ],
      "source": [
        "pickle.dump(stack_model,open('db76.pkl','wb'))\n",
        "model=pickle.load(open('db76.pkl','rb'))\n",
        "model"
      ]
    },
    {
      "cell_type": "markdown",
      "metadata": {
        "id": "eYU53HMosUse"
      },
      "source": [
        "Severity level Estimation"
      ]
    },
    {
      "cell_type": "code",
      "execution_count": null,
      "metadata": {
        "id": "sZJUrDMqfZ5y"
      },
      "outputs": [],
      "source": [
        "# Filter the rows with Outcome = 1 and create a new dataframe\n",
        "diabetes_label_1 = diabetes_df.loc[diabetes_df['Outcome'] == 1].copy()\n",
        "\n",
        "# Reset the index of the new dataframe\n",
        "diabetes_label_1.reset_index(drop=True, inplace=True)\n",
        "\n",
        "# Save the new dataframe to a CSV file\n",
        "diabetes_label_1.to_csv('diabetes_label_1.csv', index=False)"
      ]
    },
    {
      "cell_type": "code",
      "execution_count": null,
      "metadata": {
        "id": "7RcQGHOYq0QD"
      },
      "outputs": [],
      "source": [
        "import pandas as pd\n",
        "import numpy as np\n",
        "from sklearn.cluster import AgglomerativeClustering\n",
        "from sklearn.metrics import silhouette_score\n",
        "from sklearn.preprocessing import StandardScaler\n",
        "# Load dataset\n",
        "diabetes = pd.read_csv('/content/drive/MyDrive/db_1.csv')\n",
        "\n",
        "\n"
      ]
    },
    {
      "cell_type": "code",
      "execution_count": null,
      "metadata": {
        "id": "FmfxP25pT8v-"
      },
      "outputs": [],
      "source": [
        "diabetes_copy = diabetes_df.copy(deep = True)\n",
        "diabetes_copy[['Glucose','BloodPressure','SkinThickness','Insulin','BMI']] = diabetes_copy[['Glucose','BloodPressure','SkinThickness','Insulin','BMI']].replace(0,np.NaN)\n"
      ]
    },
    {
      "cell_type": "code",
      "execution_count": null,
      "metadata": {
        "id": "qr2l_0IRULv-"
      },
      "outputs": [],
      "source": [
        "diabetes_copy['Glucose'].fillna(diabetes_copy['Glucose'].mean(), inplace = True)\n",
        "diabetes_copy['BloodPressure'].fillna(diabetes_copy['BloodPressure'].mean(), inplace = True)\n",
        "diabetes_copy['SkinThickness'].fillna(diabetes_copy['SkinThickness'].median(), inplace = True)\n",
        "diabetes_copy['Insulin'].fillna(diabetes_copy['Insulin'].median(), inplace = True)\n",
        "diabetes_copy['BMI'].fillna(diabetes_copy['BMI'].median(), inplace = True)"
      ]
    },
    {
      "cell_type": "code",
      "execution_count": null,
      "metadata": {
        "colab": {
          "base_uri": "https://localhost:8080/",
          "height": 206
        },
        "id": "4P7KFqEkULwA",
        "outputId": "1140fa38-e15a-4274-fec9-da7e200009fb"
      },
      "outputs": [
        {
          "data": {
            "text/html": [
              "\n",
              "  <div id=\"df-15f85782-6f07-4ad3-9d32-cd0f6d0dbce8\">\n",
              "    <div class=\"colab-df-container\">\n",
              "      <div>\n",
              "<style scoped>\n",
              "    .dataframe tbody tr th:only-of-type {\n",
              "        vertical-align: middle;\n",
              "    }\n",
              "\n",
              "    .dataframe tbody tr th {\n",
              "        vertical-align: top;\n",
              "    }\n",
              "\n",
              "    .dataframe thead th {\n",
              "        text-align: right;\n",
              "    }\n",
              "</style>\n",
              "<table border=\"1\" class=\"dataframe\">\n",
              "  <thead>\n",
              "    <tr style=\"text-align: right;\">\n",
              "      <th></th>\n",
              "      <th>Pregnancies</th>\n",
              "      <th>Glucose</th>\n",
              "      <th>BloodPressure</th>\n",
              "      <th>SkinThickness</th>\n",
              "      <th>Insulin</th>\n",
              "      <th>BMI</th>\n",
              "      <th>DiabetesPedigreeFunction</th>\n",
              "      <th>Age</th>\n",
              "      <th>Outcome</th>\n",
              "    </tr>\n",
              "  </thead>\n",
              "  <tbody>\n",
              "    <tr>\n",
              "      <th>0</th>\n",
              "      <td>6</td>\n",
              "      <td>148</td>\n",
              "      <td>72</td>\n",
              "      <td>35</td>\n",
              "      <td>0</td>\n",
              "      <td>33.6</td>\n",
              "      <td>0.627</td>\n",
              "      <td>50</td>\n",
              "      <td>1</td>\n",
              "    </tr>\n",
              "    <tr>\n",
              "      <th>1</th>\n",
              "      <td>8</td>\n",
              "      <td>183</td>\n",
              "      <td>64</td>\n",
              "      <td>0</td>\n",
              "      <td>0</td>\n",
              "      <td>23.3</td>\n",
              "      <td>0.672</td>\n",
              "      <td>32</td>\n",
              "      <td>1</td>\n",
              "    </tr>\n",
              "    <tr>\n",
              "      <th>2</th>\n",
              "      <td>0</td>\n",
              "      <td>137</td>\n",
              "      <td>40</td>\n",
              "      <td>35</td>\n",
              "      <td>168</td>\n",
              "      <td>43.1</td>\n",
              "      <td>2.288</td>\n",
              "      <td>33</td>\n",
              "      <td>1</td>\n",
              "    </tr>\n",
              "    <tr>\n",
              "      <th>3</th>\n",
              "      <td>3</td>\n",
              "      <td>78</td>\n",
              "      <td>50</td>\n",
              "      <td>32</td>\n",
              "      <td>88</td>\n",
              "      <td>31.0</td>\n",
              "      <td>0.248</td>\n",
              "      <td>26</td>\n",
              "      <td>1</td>\n",
              "    </tr>\n",
              "    <tr>\n",
              "      <th>4</th>\n",
              "      <td>2</td>\n",
              "      <td>197</td>\n",
              "      <td>70</td>\n",
              "      <td>45</td>\n",
              "      <td>543</td>\n",
              "      <td>30.5</td>\n",
              "      <td>0.158</td>\n",
              "      <td>53</td>\n",
              "      <td>1</td>\n",
              "    </tr>\n",
              "  </tbody>\n",
              "</table>\n",
              "</div>\n",
              "      <button class=\"colab-df-convert\" onclick=\"convertToInteractive('df-15f85782-6f07-4ad3-9d32-cd0f6d0dbce8')\"\n",
              "              title=\"Convert this dataframe to an interactive table.\"\n",
              "              style=\"display:none;\">\n",
              "        \n",
              "  <svg xmlns=\"http://www.w3.org/2000/svg\" height=\"24px\"viewBox=\"0 0 24 24\"\n",
              "       width=\"24px\">\n",
              "    <path d=\"M0 0h24v24H0V0z\" fill=\"none\"/>\n",
              "    <path d=\"M18.56 5.44l.94 2.06.94-2.06 2.06-.94-2.06-.94-.94-2.06-.94 2.06-2.06.94zm-11 1L8.5 8.5l.94-2.06 2.06-.94-2.06-.94L8.5 2.5l-.94 2.06-2.06.94zm10 10l.94 2.06.94-2.06 2.06-.94-2.06-.94-.94-2.06-.94 2.06-2.06.94z\"/><path d=\"M17.41 7.96l-1.37-1.37c-.4-.4-.92-.59-1.43-.59-.52 0-1.04.2-1.43.59L10.3 9.45l-7.72 7.72c-.78.78-.78 2.05 0 2.83L4 21.41c.39.39.9.59 1.41.59.51 0 1.02-.2 1.41-.59l7.78-7.78 2.81-2.81c.8-.78.8-2.07 0-2.86zM5.41 20L4 18.59l7.72-7.72 1.47 1.35L5.41 20z\"/>\n",
              "  </svg>\n",
              "      </button>\n",
              "      \n",
              "  <style>\n",
              "    .colab-df-container {\n",
              "      display:flex;\n",
              "      flex-wrap:wrap;\n",
              "      gap: 12px;\n",
              "    }\n",
              "\n",
              "    .colab-df-convert {\n",
              "      background-color: #E8F0FE;\n",
              "      border: none;\n",
              "      border-radius: 50%;\n",
              "      cursor: pointer;\n",
              "      display: none;\n",
              "      fill: #1967D2;\n",
              "      height: 32px;\n",
              "      padding: 0 0 0 0;\n",
              "      width: 32px;\n",
              "    }\n",
              "\n",
              "    .colab-df-convert:hover {\n",
              "      background-color: #E2EBFA;\n",
              "      box-shadow: 0px 1px 2px rgba(60, 64, 67, 0.3), 0px 1px 3px 1px rgba(60, 64, 67, 0.15);\n",
              "      fill: #174EA6;\n",
              "    }\n",
              "\n",
              "    [theme=dark] .colab-df-convert {\n",
              "      background-color: #3B4455;\n",
              "      fill: #D2E3FC;\n",
              "    }\n",
              "\n",
              "    [theme=dark] .colab-df-convert:hover {\n",
              "      background-color: #434B5C;\n",
              "      box-shadow: 0px 1px 3px 1px rgba(0, 0, 0, 0.15);\n",
              "      filter: drop-shadow(0px 1px 2px rgba(0, 0, 0, 0.3));\n",
              "      fill: #FFFFFF;\n",
              "    }\n",
              "  </style>\n",
              "\n",
              "      <script>\n",
              "        const buttonEl =\n",
              "          document.querySelector('#df-15f85782-6f07-4ad3-9d32-cd0f6d0dbce8 button.colab-df-convert');\n",
              "        buttonEl.style.display =\n",
              "          google.colab.kernel.accessAllowed ? 'block' : 'none';\n",
              "\n",
              "        async function convertToInteractive(key) {\n",
              "          const element = document.querySelector('#df-15f85782-6f07-4ad3-9d32-cd0f6d0dbce8');\n",
              "          const dataTable =\n",
              "            await google.colab.kernel.invokeFunction('convertToInteractive',\n",
              "                                                     [key], {});\n",
              "          if (!dataTable) return;\n",
              "\n",
              "          const docLinkHtml = 'Like what you see? Visit the ' +\n",
              "            '<a target=\"_blank\" href=https://colab.research.google.com/notebooks/data_table.ipynb>data table notebook</a>'\n",
              "            + ' to learn more about interactive tables.';\n",
              "          element.innerHTML = '';\n",
              "          dataTable['output_type'] = 'display_data';\n",
              "          await google.colab.output.renderOutput(dataTable, element);\n",
              "          const docLink = document.createElement('div');\n",
              "          docLink.innerHTML = docLinkHtml;\n",
              "          element.appendChild(docLink);\n",
              "        }\n",
              "      </script>\n",
              "    </div>\n",
              "  </div>\n",
              "  "
            ],
            "text/plain": [
              "   Pregnancies  Glucose  BloodPressure  SkinThickness  Insulin   BMI  \\\n",
              "0            6      148             72             35        0  33.6   \n",
              "1            8      183             64              0        0  23.3   \n",
              "2            0      137             40             35      168  43.1   \n",
              "3            3       78             50             32       88  31.0   \n",
              "4            2      197             70             45      543  30.5   \n",
              "\n",
              "   DiabetesPedigreeFunction  Age  Outcome  \n",
              "0                     0.627   50        1  \n",
              "1                     0.672   32        1  \n",
              "2                     2.288   33        1  \n",
              "3                     0.248   26        1  \n",
              "4                     0.158   53        1  "
            ]
          },
          "execution_count": 19,
          "metadata": {},
          "output_type": "execute_result"
        }
      ],
      "source": [
        "y = diabetes['Outcome']\n",
        "x = diabetes.drop(columns= ['Outcome'])\n",
        "diabetes.head()"
      ]
    },
    {
      "cell_type": "code",
      "execution_count": null,
      "metadata": {
        "id": "j5uqF1cKYQdw"
      },
      "outputs": [],
      "source": [
        "scaler = StandardScaler()\n",
        "x = scaler.fit_transform(x)"
      ]
    },
    {
      "cell_type": "code",
      "execution_count": null,
      "metadata": {
        "id": "uh__TtQbYUWH"
      },
      "outputs": [],
      "source": [
        "# Perform hierarchical clustering\n",
        "clustering = AgglomerativeClustering(n_clusters=3, affinity='euclidean', linkage='ward')\n",
        "clustering.fit(x)\n",
        "\n",
        "# Assign severity levels\n",
        "severity_levels = []\n",
        "for label in clustering.labels_:\n",
        "    if label == 0:\n",
        "        severity_levels.append('low')\n",
        "    elif label == 1:\n",
        "        severity_levels.append('medium')\n",
        "    else:\n",
        "        severity_levels.append('high')\n",
        "        \n",
        "diabetes['Severity'] = severity_levels"
      ]
    },
    {
      "cell_type": "code",
      "execution_count": null,
      "metadata": {
        "id": "JdJnwmiGfur7"
      },
      "outputs": [],
      "source": [
        "from sklearn.preprocessing import LabelEncoder\n",
        "labelencoder = LabelEncoder()"
      ]
    },
    {
      "cell_type": "code",
      "execution_count": null,
      "metadata": {
        "id": "2652WcdufwrK"
      },
      "outputs": [],
      "source": [
        "diabetes.iloc[:, -1] = labelencoder.fit_transform(diabetes.iloc[:, -1])"
      ]
    },
    {
      "cell_type": "code",
      "execution_count": null,
      "metadata": {
        "colab": {
          "base_uri": "https://localhost:8080/"
        },
        "id": "yAsF1UlvZAkW",
        "outputId": "ce4da805-9d96-473c-ed01-4a41058ae35e"
      },
      "outputs": [
        {
          "data": {
            "text/plain": [
              "Index(['Pregnancies', 'Glucose', 'BloodPressure', 'SkinThickness', 'Insulin',\n",
              "       'BMI', 'DiabetesPedigreeFunction', 'Age', 'Severity'],\n",
              "      dtype='object')"
            ]
          },
          "execution_count": 50,
          "metadata": {},
          "output_type": "execute_result"
        }
      ],
      "source": [
        "diabetes.columns"
      ]
    },
    {
      "cell_type": "code",
      "execution_count": null,
      "metadata": {
        "colab": {
          "base_uri": "https://localhost:8080/",
          "height": 941
        },
        "id": "cK9BKQtUspjs",
        "outputId": "b005ff22-505f-4e41-bade-7ef498f7d4bd"
      },
      "outputs": [
        {
          "data": {
            "image/png": "[encoded data removed]",
            "text/plain": [
              "<Figure size 720x432 with 1 Axes>"
            ]
          },
          "metadata": {},
          "output_type": "display_data"
        },
        {
          "data": {
            "image/png": "[encoded data removed]",
            "text/plain": [
              "<Figure size 720x432 with 1 Axes>"
            ]
          },
          "metadata": {},
          "output_type": "display_data"
        }
      ],
      "source": [
        "plt.figure(figsize=(10,6))\n",
        "diabetes_df.boxplot()\n",
        "plt.title('Boxplots before Outlier Removal')\n",
        "plt.xticks(rotation=45)\n",
        "plt.show()\n",
        "\n",
        "# Remove outliers using IQR method\n",
        "Q1 = diabetes_df.quantile(0.25)\n",
        "Q3 = diabetes_df.quantile(0.75)\n",
        "IQR = Q3 - Q1\n",
        "df_out = diabetes_df[~((diabetes_df < (Q1 - 1.5 * IQR)) | (diabetes_df > (Q3 + 1.5 * IQR))).any(axis=1)]\n",
        "\n",
        "# Plot boxplots after outlier removal\n",
        "plt.figure(figsize=(10,6))\n",
        "df_out.boxplot()\n",
        "plt.title('Boxplots after Outlier Removal')\n",
        "plt.xticks(rotation=45)\n",
        "plt.show()"
      ]
    },
    {
      "cell_type": "markdown",
      "metadata": {
        "id": "T-kdLN12spj8"
      },
      "source": [
        "Feature Selection"
      ]
    },
    {
      "cell_type": "code",
      "execution_count": null,
      "metadata": {
        "id": "lJ5txpjnspj8"
      },
      "outputs": [],
      "source": [
        "# Split the dataset into training and testing sets\n",
        "X = diabetes_df.iloc[:, :-1].values\n",
        "y = diabetes_df.iloc[:, -1].values\n"
      ]
    },
    {
      "cell_type": "code",
      "execution_count": null,
      "metadata": {
        "id": "ZGgJ21Knspj8"
      },
      "outputs": [],
      "source": [
        "X_train, X_test, y_train, y_test = train_test_split(X, y, test_size=0.2, random_state=42)\n",
        "#X_train_df = pd.DataFrame(X_train, columns=data.columns[:-1])\n"
      ]
    },
    {
      "cell_type": "code",
      "execution_count": null,
      "metadata": {
        "colab": {
          "base_uri": "https://localhost:8080/"
        },
        "id": "_IKxkJgyspj9",
        "outputId": "621c897c-397a-42f1-b838-6b36eac4b83d"
      },
      "outputs": [
        {
          "data": {
            "text/plain": [
              "(614, 8)"
            ]
          },
          "execution_count": 13,
          "metadata": {},
          "output_type": "execute_result"
        }
      ],
      "source": [
        "X_train.shape"
      ]
    },
    {
      "cell_type": "code",
      "execution_count": null,
      "metadata": {
        "colab": {
          "base_uri": "https://localhost:8080/"
        },
        "id": "qFBcKBBospj9",
        "outputId": "bb488375-863c-4f7f-d243-eac782f76354"
      },
      "outputs": [
        {
          "data": {
            "text/plain": [
              "(154, 8)"
            ]
          },
          "execution_count": 16,
          "metadata": {},
          "output_type": "execute_result"
        }
      ],
      "source": [
        "X_test.shape"
      ]
    },
    {
      "cell_type": "code",
      "execution_count": null,
      "metadata": {
        "colab": {
          "base_uri": "https://localhost:8080/",
          "height": 348
        },
        "id": "wdzLccFGspj9",
        "outputId": "5a9811f8-4d0c-4159-c71a-2dcf06ed986d"
      },
      "outputs": [
        {
          "data": {
            "image/png": "[encoded data removed]",
            "text/plain": [
              "<Figure size 576x338.4 with 1 Axes>"
            ]
          },
          "metadata": {
            "needs_background": "light"
          },
          "output_type": "display_data"
        }
      ],
      "source": [
        "rf = RandomForestClassifier(n_estimators=100, random_state=42)\n",
        "rf.fit(X_train, y_train)\n",
        "\n",
        "# Explain the model predictions using SHAP values\n",
        "explainer = shap.TreeExplainer(rf)\n",
        "shap_values = explainer.shap_values(X_train)\n",
        "\n",
        "# Plot the feature importance\n",
        "shap.summary_plot(shap_values, X_train, plot_type=\"bar\")\n",
        "\n",
        "# Print the feature names with their corresponding SHAP values\n",
        "#shap_df = pd.DataFrame(shap_values, columns=X_train.columns)\n",
        "shap_values_2d = np.squeeze(shap_values)\n",
        "#shap_df = pd.DataFrame(shap_values_2d, columns=X_train_df.columns)\n",
        "shap_df = pd.DataFrame(shap_values, columns=X_train.columns)\n",
        "\n",
        "shap_df = shap_df.abs().mean().sort_values(ascending=False).reset_index()\n",
        "shap_df.columns = ['Feature', 'SHAP Value']\n",
        "print(shap_df)\n",
        "print(shap_values.shape)"
      ]
    },
    {
      "cell_type": "code",
      "execution_count": null,
      "metadata": {
        "id": "_xBQdjNEspj9"
      },
      "outputs": [],
      "source": [
        "diabetes_df = diabetes_df.drop(['SkinThickness','DiabetesPedigreeFunction'], axis=1)\n"
      ]
    },
    {
      "cell_type": "code",
      "execution_count": null,
      "metadata": {
        "id": "CR3oFH8Dapqi"
      },
      "outputs": [],
      "source": [
        "diabetes = diabetes.drop('Outcome',axis=1)"
      ]
    },
    {
      "cell_type": "code",
      "execution_count": null,
      "metadata": {
        "id": "cJmthnz9ZEJN"
      },
      "outputs": [],
      "source": [
        "y1 = diabetes['Severity']\n",
        "x1 = diabetes.drop(columns= ['Severity'])"
      ]
    },
    {
      "cell_type": "code",
      "execution_count": null,
      "metadata": {
        "colab": {
          "base_uri": "https://localhost:8080/"
        },
        "id": "E6BJOJBAmuQo",
        "outputId": "78280faa-8c07-48d1-ca81-cc91888f6603"
      },
      "outputs": [
        {
          "name": "stdout",
          "output_type": "stream",
          "text": [
            "Class names with corresponding labels:\n",
            "High: 0\n",
            "Low: 1\n",
            "Medium: 2\n"
          ]
        }
      ],
      "source": [
        "labels = diabetes['Severity']\n",
        "\n",
        "# Instantiate a LabelEncoder object and fit_transform the labels\n",
        "le = LabelEncoder()\n",
        "encoded_labels = le.fit_transform(labels)\n",
        "print(\"Class names with corresponding labels:\")\n",
        "for i, class_name in enumerate(le.classes_):\n",
        "    print(f\"{class_name}: {i}\")\n"
      ]
    },
    {
      "cell_type": "code",
      "execution_count": null,
      "metadata": {
        "colab": {
          "base_uri": "https://localhost:8080/"
        },
        "id": "Gq6i_B7fbds7",
        "outputId": "5a5eab20-faba-40b2-b627-035e2e8c81e7"
      },
      "outputs": [
        {
          "data": {
            "text/plain": [
              "Index(['Pregnancies', 'Glucose', 'BloodPressure', 'SkinThickness', 'Insulin',\n",
              "       'BMI', 'DiabetesPedigreeFunction', 'Age', 'Severity'],\n",
              "      dtype='object')"
            ]
          },
          "execution_count": 64,
          "metadata": {},
          "output_type": "execute_result"
        }
      ],
      "source": [
        "diabetes.columns"
      ]
    },
    {
      "cell_type": "code",
      "execution_count": null,
      "metadata": {
        "id": "fJ9rVx4BY1TQ"
      },
      "outputs": [],
      "source": [
        "from sklearn.linear_model import LogisticRegression"
      ]
    },
    {
      "cell_type": "code",
      "execution_count": null,
      "metadata": {
        "id": "0b9aCX9mYfEs"
      },
      "outputs": [],
      "source": [
        "X_train2, X_test2, y_train2, y_test2 = train_test_split(x1, y1, test_size=0.3, random_state=0)\n",
        "\n"
      ]
    },
    {
      "cell_type": "code",
      "execution_count": null,
      "metadata": {
        "colab": {
          "base_uri": "https://localhost:8080/"
        },
        "id": "FMzMoy-Accwn",
        "outputId": "61a88e10-43d2-4210-97d0-1ddd91c59034"
      },
      "outputs": [
        {
          "name": "stdout",
          "output_type": "stream",
          "text": [
            "Best params for Random Forest: OrderedDict([('max_depth', 7), ('max_features', None), ('min_samples_leaf', 9), ('min_samples_split', 6), ('n_estimators', 127)])\n"
          ]
        }
      ],
      "source": [
        "def objective_rfc(trial):\n",
        "    params = {\n",
        "        'n_estimators': trial.suggest_int('n_estimators', 100, 1000),\n",
        "        'max_depth': trial.suggest_int('max_depth', 2, 50),\n",
        "        'min_samples_split': trial.suggest_int('min_samples_split', 2, 10),\n",
        "        'min_samples_leaf': trial.suggest_int('min_samples_leaf', 1, 10),\n",
        "        'max_features': trial.suggest_categorical('max_features', ['sqrt', 'log2', None])\n",
        "    }\n",
        "    rfc = RandomForestClassifier(random_state=42, **params)\n",
        "    score = np.mean(cross_val_score(rfc, X_train, y_train, cv=5))\n",
        "    return score\n",
        "\n",
        "search_rfc = BayesSearchCV(\n",
        "    estimator=RandomForestClassifier(random_state=42),\n",
        "    search_spaces={\n",
        "        'n_estimators': (100, 1000),\n",
        "        'max_depth': (2, 50),\n",
        "        'min_samples_split': (2, 10),\n",
        "        'min_samples_leaf': (1, 10),\n",
        "        'max_features': ['sqrt', 'log2', None]\n",
        "    },\n",
        "    n_iter=25,\n",
        "    cv=5,\n",
        "    scoring='accuracy'\n",
        ")\n",
        "\n",
        "search_rfc.fit(X_train, y_train)\n",
        "\n",
        "# Print the best parameters for Random Forest\n",
        "print(\"Best params for Random Forest:\", search_rfc.best_params_)\n",
        "\n"
      ]
    },
    {
      "attachments": {},
      "cell_type": "markdown",
      "metadata": {
        "id": "XxG0ztrjccwp"
      },
      "source": [
        "Gradient Boosting Hyperparameter Tuning"
      ]
    },
    {
      "cell_type": "code",
      "execution_count": null,
      "metadata": {
        "colab": {
          "base_uri": "https://localhost:8080/"
        },
        "id": "b7yRUTMtccwq",
        "outputId": "13af9ee3-a587-4f8f-e3eb-af0c6b12a784"
      },
      "outputs": [
        {
          "name": "stdout",
          "output_type": "stream",
          "text": [
            "Best params for Gradient Boosting: OrderedDict([('learning_rate', 0.32251002211489865), ('max_depth', 21), ('max_features', None), ('min_samples_leaf', 1), ('min_samples_split', 8), ('n_estimators', 466)])\n"
          ]
        }
      ],
      "source": [
        "# Hyperparameter tuning for Gradient Boosting using Optuna\n",
        "def objective_gbc(trial):\n",
        "    params = {\n",
        "        'n_estimators': trial.suggest_int('n_estimators', 100, 1000),\n",
        "        'max_depth': trial.suggest_int('max_depth', 2, 50),\n",
        "        'learning_rate': trial.suggest_loguniform('learning_rate', 0.001, 1),\n",
        "        'min_samples_split': trial.suggest_int('min_samples_split', 2, 10),\n",
        "        'min_samples_leaf': trial.suggest_int('min_samples_leaf', 1, 10),\n",
        "        'max_features': trial.suggest_categorical('max_features', ['sqrt', 'log2', None])\n",
        "    }\n",
        "    gbc = GradientBoostingClassifier(random_state=42, **params)\n",
        "    score = np.mean(cross_val_score(gbc, X_train, y_train, cv=5))\n",
        "    return score\n",
        "\n",
        "search_gbc = BayesSearchCV(\n",
        "estimator=GradientBoostingClassifier(random_state=42),\n",
        "search_spaces={\n",
        "'n_estimators': (100, 1000),\n",
        "'max_depth': (2, 50),\n",
        "'learning_rate': (0.001, 1.0),\n",
        "'min_samples_split': (2, 10),\n",
        "'min_samples_leaf': (1, 10),\n",
        "'max_features': ['sqrt', 'log2', None]\n",
        "},\n",
        "n_iter=25,\n",
        "cv=5,\n",
        "scoring='accuracy'\n",
        ")\n",
        "search_gbc.fit(X_train, y_train)\n",
        "\n",
        "#Print the best parameters for Gradient Boosting\n",
        "print(\"Best params for Gradient Boosting:\", search_gbc.best_params_)\n",
        "\n"
      ]
    },
    {
      "cell_type": "markdown",
      "metadata": {
        "id": "GmVfmNP9ccwr"
      },
      "source": [
        "SVM hyperparameter tuning"
      ]
    },
    {
      "cell_type": "code",
      "execution_count": null,
      "metadata": {
        "colab": {
          "base_uri": "https://localhost:8080/"
        },
        "id": "KvO0Ah4Gccwr",
        "outputId": "933766e3-c60c-490b-a297-ce53dff581b7"
      },
      "outputs": [
        {
          "name": "stdout",
          "output_type": "stream",
          "text": [
            "Best params for SVM: OrderedDict([('C', 1.3202466699243387), ('degree', 5), ('gamma', 0.01959816041088472), ('kernel', 'rbf')])\n"
          ]
        }
      ],
      "source": [
        "#Hyperparameter tuning for SVM using Bayesian Optimization\n",
        "svm_params = {\n",
        "'C': (1e-6, 1e+6, 'log-uniform'),\n",
        "'gamma': (1e-6, 1e+1, 'log-uniform'),\n",
        "'degree': (1, 8),\n",
        "'kernel': ['linear', 'poly', 'rbf', 'sigmoid']\n",
        "}\n",
        "\n",
        "svm_bayes = BayesSearchCV(\n",
        "SVC(probability=True),\n",
        "svm_params,\n",
        "n_iter=25,\n",
        "cv=5\n",
        ")\n",
        "\n",
        "svm_bayes.fit(X_train, y_train)\n",
        "print(\"Best params for SVM:\", svm_bayes.best_params_)\n"
      ]
    },
    {
      "cell_type": "code",
      "execution_count": null,
      "metadata": {
        "colab": {
          "base_uri": "https://localhost:8080/"
        },
        "id": "U7rc4fStOBOm",
        "outputId": "de8e0320-56cd-4119-eae6-d1f5fa1e26f0"
      },
      "outputs": [
        {
          "name": "stderr",
          "output_type": "stream",
          "text": [
            "\u001b[32m[I 2023-03-26 23:27:32,810]\u001b[0m A new study created in memory with name: no-name-1927ecc5-f42a-4bda-aece-242c9183bdb7\u001b[0m\n",
            "\u001b[32m[I 2023-03-26 23:27:34,138]\u001b[0m Trial 0 finished with value: 0.9259259259259259 and parameters: {'rf_n_estimators': 26, 'gb_n_estimators': 13}. Best is trial 0 with value: 0.9259259259259259.\u001b[0m\n",
            "\u001b[32m[I 2023-03-26 23:27:39,496]\u001b[0m Trial 1 finished with value: 0.9259259259259259 and parameters: {'rf_n_estimators': 109, 'gb_n_estimators': 94}. Best is trial 0 with value: 0.9259259259259259.\u001b[0m\n",
            "\u001b[32m[I 2023-03-26 23:27:49,372]\u001b[0m Trial 2 finished with value: 0.9259259259259259 and parameters: {'rf_n_estimators': 73, 'gb_n_estimators': 179}. Best is trial 0 with value: 0.9259259259259259.\u001b[0m\n",
            "\u001b[32m[I 2023-03-26 23:27:52,369]\u001b[0m Trial 3 finished with value: 0.9259259259259259 and parameters: {'rf_n_estimators': 88, 'gb_n_estimators': 27}. Best is trial 0 with value: 0.9259259259259259.\u001b[0m\n",
            "\u001b[32m[I 2023-03-26 23:27:54,909]\u001b[0m Trial 4 finished with value: 0.9259259259259259 and parameters: {'rf_n_estimators': 60, 'gb_n_estimators': 52}. Best is trial 0 with value: 0.9259259259259259.\u001b[0m\n",
            "\u001b[32m[I 2023-03-26 23:28:00,350]\u001b[0m Trial 5 finished with value: 0.9259259259259259 and parameters: {'rf_n_estimators': 115, 'gb_n_estimators': 140}. Best is trial 0 with value: 0.9259259259259259.\u001b[0m\n",
            "\u001b[32m[I 2023-03-26 23:28:04,280]\u001b[0m Trial 6 finished with value: 0.9259259259259259 and parameters: {'rf_n_estimators': 145, 'gb_n_estimators': 143}. Best is trial 0 with value: 0.9259259259259259.\u001b[0m\n",
            "\u001b[32m[I 2023-03-26 23:28:08,301]\u001b[0m Trial 7 finished with value: 0.9259259259259259 and parameters: {'rf_n_estimators': 75, 'gb_n_estimators': 183}. Best is trial 0 with value: 0.9259259259259259.\u001b[0m\n",
            "\u001b[32m[I 2023-03-26 23:28:13,068]\u001b[0m Trial 8 finished with value: 0.9259259259259259 and parameters: {'rf_n_estimators': 77, 'gb_n_estimators': 170}. Best is trial 0 with value: 0.9259259259259259.\u001b[0m\n",
            "\u001b[32m[I 2023-03-26 23:28:16,438]\u001b[0m Trial 9 finished with value: 0.9259259259259259 and parameters: {'rf_n_estimators': 29, 'gb_n_estimators': 153}. Best is trial 0 with value: 0.9259259259259259.\u001b[0m\n",
            "\u001b[32m[I 2023-03-26 23:28:16,896]\u001b[0m Trial 10 finished with value: 0.9074074074074074 and parameters: {'rf_n_estimators': 15, 'gb_n_estimators': 13}. Best is trial 0 with value: 0.9259259259259259.\u001b[0m\n",
            "\u001b[32m[I 2023-03-26 23:28:19,937]\u001b[0m Trial 11 finished with value: 0.9259259259259259 and parameters: {'rf_n_estimators': 164, 'gb_n_estimators': 84}. Best is trial 0 with value: 0.9259259259259259.\u001b[0m\n",
            "\u001b[32m[I 2023-03-26 23:28:22,725]\u001b[0m Trial 12 finished with value: 0.9259259259259259 and parameters: {'rf_n_estimators': 118, 'gb_n_estimators': 92}. Best is trial 0 with value: 0.9259259259259259.\u001b[0m\n",
            "\u001b[32m[I 2023-03-26 23:28:25,948]\u001b[0m Trial 13 finished with value: 0.9259259259259259 and parameters: {'rf_n_estimators': 184, 'gb_n_estimators': 49}. Best is trial 0 with value: 0.9259259259259259.\u001b[0m\n",
            "\u001b[32m[I 2023-03-26 23:28:28,201]\u001b[0m Trial 14 finished with value: 0.9259259259259259 and parameters: {'rf_n_estimators': 43, 'gb_n_estimators': 69}. Best is trial 0 with value: 0.9259259259259259.\u001b[0m\n",
            "\u001b[32m[I 2023-03-26 23:28:31,600]\u001b[0m Trial 15 finished with value: 0.9259259259259259 and parameters: {'rf_n_estimators': 130, 'gb_n_estimators': 119}. Best is trial 0 with value: 0.9259259259259259.\u001b[0m\n",
            "\u001b[32m[I 2023-03-26 23:28:34,583]\u001b[0m Trial 16 finished with value: 0.9259259259259259 and parameters: {'rf_n_estimators': 94, 'gb_n_estimators': 114}. Best is trial 0 with value: 0.9259259259259259.\u001b[0m\n",
            "\u001b[32m[I 2023-03-26 23:28:35,779]\u001b[0m Trial 17 finished with value: 0.9259259259259259 and parameters: {'rf_n_estimators': 50, 'gb_n_estimators': 38}. Best is trial 0 with value: 0.9259259259259259.\u001b[0m\n",
            "\u001b[32m[I 2023-03-26 23:28:37,319]\u001b[0m Trial 18 finished with value: 0.9074074074074074 and parameters: {'rf_n_estimators': 143, 'gb_n_estimators': 13}. Best is trial 0 with value: 0.9259259259259259.\u001b[0m\n",
            "\u001b[32m[I 2023-03-26 23:28:40,516]\u001b[0m Trial 19 finished with value: 0.9259259259259259 and parameters: {'rf_n_estimators': 106, 'gb_n_estimators': 70}. Best is trial 0 with value: 0.9259259259259259.\u001b[0m\n",
            "\u001b[32m[I 2023-03-26 23:28:44,493]\u001b[0m Trial 20 finished with value: 0.9259259259259259 and parameters: {'rf_n_estimators': 195, 'gb_n_estimators': 104}. Best is trial 0 with value: 0.9259259259259259.\u001b[0m\n",
            "\u001b[32m[I 2023-03-26 23:28:48,220]\u001b[0m Trial 21 finished with value: 0.9259259259259259 and parameters: {'rf_n_estimators': 13, 'gb_n_estimators': 192}. Best is trial 0 with value: 0.9259259259259259.\u001b[0m\n",
            "\u001b[32m[I 2023-03-26 23:28:51,157]\u001b[0m Trial 22 finished with value: 0.9259259259259259 and parameters: {'rf_n_estimators': 65, 'gb_n_estimators': 129}. Best is trial 0 with value: 0.9259259259259259.\u001b[0m\n",
            "\u001b[32m[I 2023-03-26 23:28:55,572]\u001b[0m Trial 23 finished with value: 0.9444444444444444 and parameters: {'rf_n_estimators': 35, 'gb_n_estimators': 160}. Best is trial 23 with value: 0.9444444444444444.\u001b[0m\n",
            "\u001b[32m[I 2023-03-26 23:28:58,892]\u001b[0m Trial 24 finished with value: 0.9259259259259259 and parameters: {'rf_n_estimators': 29, 'gb_n_estimators': 165}. Best is trial 23 with value: 0.9444444444444444.\u001b[0m\n",
            "\u001b[32m[I 2023-03-26 23:29:00,633]\u001b[0m Trial 25 finished with value: 0.9444444444444444 and parameters: {'rf_n_estimators': 39, 'gb_n_estimators': 72}. Best is trial 23 with value: 0.9444444444444444.\u001b[0m\n",
            "\u001b[32m[I 2023-03-26 23:29:02,334]\u001b[0m Trial 26 finished with value: 0.9444444444444444 and parameters: {'rf_n_estimators': 36, 'gb_n_estimators': 69}. Best is trial 23 with value: 0.9444444444444444.\u001b[0m\n",
            "\u001b[32m[I 2023-03-26 23:29:04,263]\u001b[0m Trial 27 finished with value: 0.9259259259259259 and parameters: {'rf_n_estimators': 49, 'gb_n_estimators': 78}. Best is trial 23 with value: 0.9444444444444444.\u001b[0m\n",
            "\u001b[32m[I 2023-03-26 23:29:06,014]\u001b[0m Trial 28 finished with value: 0.9259259259259259 and parameters: {'rf_n_estimators': 49, 'gb_n_estimators': 57}. Best is trial 23 with value: 0.9444444444444444.\u001b[0m\n",
            "\u001b[32m[I 2023-03-26 23:29:08,246]\u001b[0m Trial 29 finished with value: 0.9259259259259259 and parameters: {'rf_n_estimators': 33, 'gb_n_estimators': 64}. Best is trial 23 with value: 0.9444444444444444.\u001b[0m\n",
            "\u001b[32m[I 2023-03-26 23:29:10,721]\u001b[0m Trial 30 finished with value: 0.9259259259259259 and parameters: {'rf_n_estimators': 14, 'gb_n_estimators': 105}. Best is trial 23 with value: 0.9444444444444444.\u001b[0m\n",
            "\u001b[32m[I 2023-03-26 23:29:11,735]\u001b[0m Trial 31 finished with value: 0.9259259259259259 and parameters: {'rf_n_estimators': 34, 'gb_n_estimators': 34}. Best is trial 23 with value: 0.9444444444444444.\u001b[0m\n",
            "\u001b[32m[I 2023-03-26 23:29:14,074]\u001b[0m Trial 32 finished with value: 0.9259259259259259 and parameters: {'rf_n_estimators': 62, 'gb_n_estimators': 94}. Best is trial 23 with value: 0.9444444444444444.\u001b[0m\n",
            "\u001b[32m[I 2023-03-26 23:29:14,820]\u001b[0m Trial 33 finished with value: 0.9259259259259259 and parameters: {'rf_n_estimators': 22, 'gb_n_estimators': 25}. Best is trial 23 with value: 0.9444444444444444.\u001b[0m\n",
            "\u001b[32m[I 2023-03-26 23:29:16,066]\u001b[0m Trial 34 finished with value: 0.9259259259259259 and parameters: {'rf_n_estimators': 43, 'gb_n_estimators': 44}. Best is trial 23 with value: 0.9444444444444444.\u001b[0m\n",
            "\u001b[32m[I 2023-03-26 23:29:18,331]\u001b[0m Trial 35 finished with value: 0.9259259259259259 and parameters: {'rf_n_estimators': 88, 'gb_n_estimators': 80}. Best is trial 23 with value: 0.9444444444444444.\u001b[0m\n",
            "\u001b[32m[I 2023-03-26 23:29:19,368]\u001b[0m Trial 36 finished with value: 0.9259259259259259 and parameters: {'rf_n_estimators': 56, 'gb_n_estimators': 25}. Best is trial 23 with value: 0.9444444444444444.\u001b[0m\n",
            "\u001b[32m[I 2023-03-26 23:29:24,358]\u001b[0m Trial 37 finished with value: 0.9259259259259259 and parameters: {'rf_n_estimators': 23, 'gb_n_estimators': 199}. Best is trial 23 with value: 0.9444444444444444.\u001b[0m\n",
            "\u001b[32m[I 2023-03-26 23:29:27,205]\u001b[0m Trial 38 finished with value: 0.9444444444444444 and parameters: {'rf_n_estimators': 39, 'gb_n_estimators': 135}. Best is trial 23 with value: 0.9444444444444444.\u001b[0m\n",
            "\u001b[32m[I 2023-03-26 23:29:30,309]\u001b[0m Trial 39 finished with value: 0.9444444444444444 and parameters: {'rf_n_estimators': 37, 'gb_n_estimators': 152}. Best is trial 23 with value: 0.9444444444444444.\u001b[0m\n",
            "\u001b[32m[I 2023-03-26 23:29:34,495]\u001b[0m Trial 40 finished with value: 0.9259259259259259 and parameters: {'rf_n_estimators': 70, 'gb_n_estimators': 133}. Best is trial 23 with value: 0.9444444444444444.\u001b[0m\n",
            "\u001b[32m[I 2023-03-26 23:29:40,161]\u001b[0m Trial 41 finished with value: 0.9444444444444444 and parameters: {'rf_n_estimators': 35, 'gb_n_estimators': 154}. Best is trial 23 with value: 0.9444444444444444.\u001b[0m\n",
            "\u001b[32m[I 2023-03-26 23:29:43,350]\u001b[0m Trial 42 finished with value: 0.9444444444444444 and parameters: {'rf_n_estimators': 43, 'gb_n_estimators': 152}. Best is trial 23 with value: 0.9444444444444444.\u001b[0m\n",
            "\u001b[32m[I 2023-03-26 23:29:47,284]\u001b[0m Trial 43 finished with value: 0.9259259259259259 and parameters: {'rf_n_estimators': 80, 'gb_n_estimators': 171}. Best is trial 23 with value: 0.9444444444444444.\u001b[0m\n",
            "\u001b[32m[I 2023-03-26 23:29:51,677]\u001b[0m Trial 44 finished with value: 0.9259259259259259 and parameters: {'rf_n_estimators': 22, 'gb_n_estimators': 161}. Best is trial 23 with value: 0.9444444444444444.\u001b[0m\n",
            "\u001b[32m[I 2023-03-26 23:29:55,492]\u001b[0m Trial 45 finished with value: 0.9259259259259259 and parameters: {'rf_n_estimators': 56, 'gb_n_estimators': 180}. Best is trial 23 with value: 0.9444444444444444.\u001b[0m\n",
            "\u001b[32m[I 2023-03-26 23:29:58,374]\u001b[0m Trial 46 finished with value: 0.9444444444444444 and parameters: {'rf_n_estimators': 39, 'gb_n_estimators': 137}. Best is trial 23 with value: 0.9444444444444444.\u001b[0m\n",
            "\u001b[32m[I 2023-03-26 23:30:01,342]\u001b[0m Trial 47 finished with value: 0.9259259259259259 and parameters: {'rf_n_estimators': 25, 'gb_n_estimators': 146}. Best is trial 23 with value: 0.9444444444444444.\u001b[0m\n",
            "\u001b[32m[I 2023-03-26 23:30:04,733]\u001b[0m Trial 48 finished with value: 0.9259259259259259 and parameters: {'rf_n_estimators': 12, 'gb_n_estimators': 124}. Best is trial 23 with value: 0.9444444444444444.\u001b[0m\n",
            "\u001b[32m[I 2023-03-26 23:30:08,000]\u001b[0m Trial 49 finished with value: 0.9259259259259259 and parameters: {'rf_n_estimators': 96, 'gb_n_estimators': 117}. Best is trial 23 with value: 0.9444444444444444.\u001b[0m\n"
          ]
        },
        {
          "name": "stdout",
          "output_type": "stream",
          "text": [
            "Best hyperparameters: {'rf_n_estimators': 35, 'gb_n_estimators': 160}\n",
            "Best accuracy: 0.9444444444444444\n"
          ]
        }
      ],
      "source": [
        "lrc =LogisticRegression(random_state=42)\n",
        "rfc = RandomForestClassifier(random_state=42, **search_rfc.best_params_)\n",
        "gbc = GradientBoostingClassifier(random_state=42, **search_gbc.best_params_)\n",
        "svm = SVC(**svm_bayes.best_params_, probability=True)\n",
        "\n",
        "# Define the stacking ensemble classifier\n",
        "svm = SVC(random_state=42, probability=True)\n",
        "stacking_clf = StackingClassifier(\n",
        "    estimators=[('rfc', rf), ('lrc', gb), ('gbc', nb)],\n",
        "    final_estimator=svm\n",
        ")\n",
        "\n",
        "# Define the objective function for hyperparameter optimization\n",
        "def objective(trial):\n",
        "    # Define hyperparameters to tune for each base classifier\n",
        "    rf_n_estimators = trial.suggest_int('rf_n_estimators', 10, 200)\n",
        "    gb_n_estimators = trial.suggest_int('gb_n_estimators', 10, 200)\n",
        "      #  dt_max_depth = trial.suggest_int('dt_max_depth', 1, 20)\n",
        "    \n",
        "    # Update the base classifiers with the tuned hyperparameters\n",
        "    rf.set_params(n_estimators=rf_n_estimators)\n",
        "    gb.set_params(n_estimators=gb_n_estimators)\n",
        "  #  dt.set_params(max_depth=dt_max_depth)\n",
        "    \n",
        "    # Fit the stacking ensemble classifier\n",
        "    stacking_clf.fit(X_train, y_train)\n",
        "    \n",
        "    # Compute accuracy on the test set\n",
        "    y_pred = stacking_clf.predict(X_test)\n",
        "    return accuracy_score(y_test, y_pred)\n",
        "\n",
        "# Perform hyperparameter optimization using Optuna\n",
        "study = optuna.create_study(direction='maximize')\n",
        "study.optimize(objective, n_trials=50)\n",
        "\n",
        "# Print the best hyperparameters and their corresponding accuracy score\n",
        "print('Best hyperparameters:', study.best_params)\n",
        "print('Best accuracy:', study.best_value)\n",
        "#7"
      ]
    },
    {
      "cell_type": "code",
      "execution_count": null,
      "metadata": {
        "id": "-aRysBOKgWwx"
      },
      "outputs": [],
      "source": [
        "import pickle\n",
        "pickle.dump(stacking_clf,open('cl5.pkl','wb'))\n",
        "model=pickle.load(open('cl5.pkl','rb'))\n",
        "model"
      ]
    }
  ],
  "metadata": {
    "colab": {
      "provenance": []
    },
    "kernelspec": {
      "display_name": "Python 3",
      "name": "python3"
    },
    "language_info": {
      "name": "python"
    }
  },
  "nbformat": 4,
  "nbformat_minor": 0
}
